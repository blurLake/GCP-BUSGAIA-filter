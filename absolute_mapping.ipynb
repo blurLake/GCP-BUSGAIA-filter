{
 "cells": [
  {
   "cell_type": "code",
   "execution_count": 84,
   "id": "a919552e",
   "metadata": {},
   "outputs": [],
   "source": [
    "import numpy as np\n",
    "import matplotlib.pyplot as plt\n",
    "\n",
    "from sklearn.model_selection import train_test_split\n",
    "from sklearn.metrics import r2_score\n",
    "from sklearn import metrics"
   ]
  },
  {
   "cell_type": "code",
   "execution_count": 2,
   "id": "23dedbee",
   "metadata": {
    "collapsed": true,
    "jupyter": {
     "outputs_hidden": true
    }
   },
   "outputs": [
    {
     "name": "stdout",
     "output_type": "stream",
     "text": [
      "Requirement already satisfied: livelossplot in /opt/conda/lib/python3.7/site-packages (0.5.4)\n",
      "Requirement already satisfied: bokeh in /opt/conda/lib/python3.7/site-packages (from livelossplot) (2.3.3)\n",
      "Requirement already satisfied: matplotlib in /opt/conda/lib/python3.7/site-packages (from livelossplot) (3.4.3)\n",
      "Requirement already satisfied: ipython in /opt/conda/lib/python3.7/site-packages (from livelossplot) (7.26.0)\n",
      "Requirement already satisfied: tornado>=5.1 in /opt/conda/lib/python3.7/site-packages (from bokeh->livelossplot) (6.1)\n",
      "Requirement already satisfied: typing-extensions>=3.7.4 in /opt/conda/lib/python3.7/site-packages (from bokeh->livelossplot) (3.10.0.0)\n",
      "Requirement already satisfied: PyYAML>=3.10 in /opt/conda/lib/python3.7/site-packages (from bokeh->livelossplot) (5.4.1)\n",
      "Requirement already satisfied: numpy>=1.11.3 in /opt/conda/lib/python3.7/site-packages (from bokeh->livelossplot) (1.19.5)\n",
      "Requirement already satisfied: Jinja2>=2.9 in /opt/conda/lib/python3.7/site-packages (from bokeh->livelossplot) (2.11.3)\n",
      "Requirement already satisfied: python-dateutil>=2.1 in /opt/conda/lib/python3.7/site-packages (from bokeh->livelossplot) (2.8.2)\n",
      "Requirement already satisfied: pillow>=7.1.0 in /opt/conda/lib/python3.7/site-packages (from bokeh->livelossplot) (8.3.1)\n",
      "Requirement already satisfied: packaging>=16.8 in /opt/conda/lib/python3.7/site-packages (from bokeh->livelossplot) (21.0)\n",
      "Requirement already satisfied: MarkupSafe>=0.23 in /opt/conda/lib/python3.7/site-packages (from Jinja2>=2.9->bokeh->livelossplot) (1.1.1)\n",
      "Requirement already satisfied: pyparsing>=2.0.2 in /opt/conda/lib/python3.7/site-packages (from packaging>=16.8->bokeh->livelossplot) (2.4.7)\n",
      "Requirement already satisfied: six>=1.5 in /opt/conda/lib/python3.7/site-packages (from python-dateutil>=2.1->bokeh->livelossplot) (1.16.0)\n",
      "Requirement already satisfied: setuptools>=18.5 in /opt/conda/lib/python3.7/site-packages (from ipython->livelossplot) (57.4.0)\n",
      "Requirement already satisfied: prompt-toolkit!=3.0.0,!=3.0.1,<3.1.0,>=2.0.0 in /opt/conda/lib/python3.7/site-packages (from ipython->livelossplot) (3.0.19)\n",
      "Requirement already satisfied: backcall in /opt/conda/lib/python3.7/site-packages (from ipython->livelossplot) (0.2.0)\n",
      "Requirement already satisfied: decorator in /opt/conda/lib/python3.7/site-packages (from ipython->livelossplot) (5.0.9)\n",
      "Requirement already satisfied: matplotlib-inline in /opt/conda/lib/python3.7/site-packages (from ipython->livelossplot) (0.1.2)\n",
      "Requirement already satisfied: jedi>=0.16 in /opt/conda/lib/python3.7/site-packages (from ipython->livelossplot) (0.18.0)\n",
      "Requirement already satisfied: pygments in /opt/conda/lib/python3.7/site-packages (from ipython->livelossplot) (2.10.0)\n",
      "Requirement already satisfied: traitlets>=4.2 in /opt/conda/lib/python3.7/site-packages (from ipython->livelossplot) (5.0.5)\n",
      "Requirement already satisfied: pickleshare in /opt/conda/lib/python3.7/site-packages (from ipython->livelossplot) (0.7.5)\n",
      "Requirement already satisfied: pexpect>4.3 in /opt/conda/lib/python3.7/site-packages (from ipython->livelossplot) (4.8.0)\n",
      "Requirement already satisfied: parso<0.9.0,>=0.8.0 in /opt/conda/lib/python3.7/site-packages (from jedi>=0.16->ipython->livelossplot) (0.8.2)\n",
      "Requirement already satisfied: ptyprocess>=0.5 in /opt/conda/lib/python3.7/site-packages (from pexpect>4.3->ipython->livelossplot) (0.7.0)\n",
      "Requirement already satisfied: wcwidth in /opt/conda/lib/python3.7/site-packages (from prompt-toolkit!=3.0.0,!=3.0.1,<3.1.0,>=2.0.0->ipython->livelossplot) (0.2.5)\n",
      "Requirement already satisfied: ipython-genutils in /opt/conda/lib/python3.7/site-packages (from traitlets>=4.2->ipython->livelossplot) (0.2.0)\n",
      "Requirement already satisfied: kiwisolver>=1.0.1 in /opt/conda/lib/python3.7/site-packages (from matplotlib->livelossplot) (1.3.1)\n",
      "Requirement already satisfied: cycler>=0.10 in /opt/conda/lib/python3.7/site-packages (from matplotlib->livelossplot) (0.10.0)\n"
     ]
    }
   ],
   "source": [
    "!pip install livelossplot"
   ]
  },
  {
   "cell_type": "code",
   "execution_count": 2,
   "id": "9c5f3a34",
   "metadata": {
    "collapsed": true,
    "jupyter": {
     "outputs_hidden": true
    }
   },
   "outputs": [
    {
     "name": "stdout",
     "output_type": "stream",
     "text": [
      "[name: \"/device:CPU:0\"\n",
      "device_type: \"CPU\"\n",
      "memory_limit: 268435456\n",
      "locality {\n",
      "}\n",
      "incarnation: 17688749691643349085\n",
      ", name: \"/device:XLA_CPU:0\"\n",
      "device_type: \"XLA_CPU\"\n",
      "memory_limit: 17179869184\n",
      "locality {\n",
      "}\n",
      "incarnation: 14221454830038988217\n",
      "physical_device_desc: \"device: XLA_CPU device\"\n",
      ", name: \"/device:XLA_GPU:0\"\n",
      "device_type: \"XLA_GPU\"\n",
      "memory_limit: 17179869184\n",
      "locality {\n",
      "}\n",
      "incarnation: 6284573640191686735\n",
      "physical_device_desc: \"device: XLA_GPU device\"\n",
      ", name: \"/device:GPU:0\"\n",
      "device_type: \"GPU\"\n",
      "memory_limit: 14842344244\n",
      "locality {\n",
      "  bus_id: 1\n",
      "  links {\n",
      "  }\n",
      "}\n",
      "incarnation: 11408876247045948124\n",
      "physical_device_desc: \"device: 0, name: Tesla T4, pci bus id: 0000:00:04.0, compute capability: 7.5\"\n",
      "]\n"
     ]
    },
    {
     "name": "stderr",
     "output_type": "stream",
     "text": [
      "2021-09-08 12:48:37.053983: I tensorflow/core/platform/profile_utils/cpu_utils.cc:94] CPU Frequency: 2299995000 Hz\n",
      "2021-09-08 12:48:37.054795: I tensorflow/compiler/xla/service/service.cc:168] XLA service 0x55fd1d24c5c0 initialized for platform Host (this does not guarantee that XLA will be used). Devices:\n",
      "2021-09-08 12:48:37.054823: I tensorflow/compiler/xla/service/service.cc:176]   StreamExecutor device (0): Host, Default Version\n",
      "2021-09-08 12:48:37.056344: I tensorflow/stream_executor/platform/default/dso_loader.cc:48] Successfully opened dynamic library libcuda.so.1\n",
      "2021-09-08 12:48:37.794583: I tensorflow/stream_executor/cuda/cuda_gpu_executor.cc:981] successful NUMA node read from SysFS had negative value (-1), but there must be at least one NUMA node, so returning NUMA node zero\n",
      "2021-09-08 12:48:37.795244: I tensorflow/compiler/xla/service/service.cc:168] XLA service 0x55fd1b9d3510 initialized for platform CUDA (this does not guarantee that XLA will be used). Devices:\n",
      "2021-09-08 12:48:37.795268: I tensorflow/compiler/xla/service/service.cc:176]   StreamExecutor device (0): Tesla T4, Compute Capability 7.5\n",
      "2021-09-08 12:48:37.795567: I tensorflow/stream_executor/cuda/cuda_gpu_executor.cc:981] successful NUMA node read from SysFS had negative value (-1), but there must be at least one NUMA node, so returning NUMA node zero\n",
      "2021-09-08 12:48:37.796098: I tensorflow/core/common_runtime/gpu/gpu_device.cc:1555] Found device 0 with properties: \n",
      "pciBusID: 0000:00:04.0 name: Tesla T4 computeCapability: 7.5\n",
      "coreClock: 1.59GHz coreCount: 40 deviceMemorySize: 14.75GiB deviceMemoryBandwidth: 298.08GiB/s\n",
      "2021-09-08 12:48:37.796178: I tensorflow/stream_executor/platform/default/dso_loader.cc:48] Successfully opened dynamic library libcudart.so.11.0\n",
      "2021-09-08 12:48:37.796225: I tensorflow/stream_executor/platform/default/dso_loader.cc:48] Successfully opened dynamic library libcublas.so.11\n",
      "2021-09-08 12:48:37.797426: I tensorflow/stream_executor/platform/default/dso_loader.cc:48] Successfully opened dynamic library libcufft.so.10\n",
      "2021-09-08 12:48:37.797835: I tensorflow/stream_executor/platform/default/dso_loader.cc:48] Successfully opened dynamic library libcurand.so.10\n",
      "2021-09-08 12:48:37.800798: I tensorflow/stream_executor/platform/default/dso_loader.cc:48] Successfully opened dynamic library libcusolver.so.10\n",
      "2021-09-08 12:48:37.801538: I tensorflow/stream_executor/platform/default/dso_loader.cc:48] Successfully opened dynamic library libcusparse.so.11\n",
      "2021-09-08 12:48:37.801601: I tensorflow/stream_executor/platform/default/dso_loader.cc:48] Successfully opened dynamic library libcudnn.so.8\n",
      "2021-09-08 12:48:37.801704: I tensorflow/stream_executor/cuda/cuda_gpu_executor.cc:981] successful NUMA node read from SysFS had negative value (-1), but there must be at least one NUMA node, so returning NUMA node zero\n",
      "2021-09-08 12:48:37.802344: I tensorflow/stream_executor/cuda/cuda_gpu_executor.cc:981] successful NUMA node read from SysFS had negative value (-1), but there must be at least one NUMA node, so returning NUMA node zero\n",
      "2021-09-08 12:48:37.802852: I tensorflow/core/common_runtime/gpu/gpu_device.cc:1697] Adding visible gpu devices: 0\n",
      "2021-09-08 12:48:37.802905: I tensorflow/stream_executor/platform/default/dso_loader.cc:48] Successfully opened dynamic library libcudart.so.11.0\n",
      "2021-09-08 12:48:38.136381: I tensorflow/core/common_runtime/gpu/gpu_device.cc:1096] Device interconnect StreamExecutor with strength 1 edge matrix:\n",
      "2021-09-08 12:48:38.136421: I tensorflow/core/common_runtime/gpu/gpu_device.cc:1102]      0 \n",
      "2021-09-08 12:48:38.136429: I tensorflow/core/common_runtime/gpu/gpu_device.cc:1115] 0:   N \n",
      "2021-09-08 12:48:38.136770: I tensorflow/stream_executor/cuda/cuda_gpu_executor.cc:981] successful NUMA node read from SysFS had negative value (-1), but there must be at least one NUMA node, so returning NUMA node zero\n",
      "2021-09-08 12:48:38.137389: I tensorflow/stream_executor/cuda/cuda_gpu_executor.cc:981] successful NUMA node read from SysFS had negative value (-1), but there must be at least one NUMA node, so returning NUMA node zero\n",
      "2021-09-08 12:48:38.137969: I tensorflow/core/common_runtime/gpu/gpu_device.cc:1241] Created TensorFlow device (/device:GPU:0 with 14154 MB memory) -> physical GPU (device: 0, name: Tesla T4, pci bus id: 0000:00:04.0, compute capability: 7.5)\n"
     ]
    }
   ],
   "source": [
    "from tensorflow.python.client import device_lib\n",
    "print(device_lib.list_local_devices())"
   ]
  },
  {
   "cell_type": "code",
   "execution_count": 4,
   "id": "2444f509",
   "metadata": {
    "collapsed": true,
    "jupyter": {
     "outputs_hidden": true
    }
   },
   "outputs": [
    {
     "name": "stderr",
     "output_type": "stream",
     "text": [
      "2021-09-08 08:34:49.539202: I tensorflow/core/platform/profile_utils/cpu_utils.cc:94] CPU Frequency: 2299995000 Hz\n",
      "2021-09-08 08:34:49.539712: I tensorflow/compiler/xla/service/service.cc:168] XLA service 0x557852a6f0b0 initialized for platform Host (this does not guarantee that XLA will be used). Devices:\n",
      "2021-09-08 08:34:49.539745: I tensorflow/compiler/xla/service/service.cc:176]   StreamExecutor device (0): Host, Default Version\n",
      "2021-09-08 08:34:49.543397: I tensorflow/stream_executor/platform/default/dso_loader.cc:48] Successfully opened dynamic library libcuda.so.1\n",
      "2021-09-08 08:34:50.332990: I tensorflow/stream_executor/cuda/cuda_gpu_executor.cc:981] successful NUMA node read from SysFS had negative value (-1), but there must be at least one NUMA node, so returning NUMA node zero\n",
      "2021-09-08 08:34:50.333861: I tensorflow/compiler/xla/service/service.cc:168] XLA service 0x5578512dfbd0 initialized for platform CUDA (this does not guarantee that XLA will be used). Devices:\n",
      "2021-09-08 08:34:50.333889: I tensorflow/compiler/xla/service/service.cc:176]   StreamExecutor device (0): Tesla T4, Compute Capability 7.5\n",
      "2021-09-08 08:34:50.334943: I tensorflow/stream_executor/cuda/cuda_gpu_executor.cc:981] successful NUMA node read from SysFS had negative value (-1), but there must be at least one NUMA node, so returning NUMA node zero\n",
      "2021-09-08 08:34:50.335583: I tensorflow/core/common_runtime/gpu/gpu_device.cc:1555] Found device 0 with properties: \n",
      "pciBusID: 0000:00:04.0 name: Tesla T4 computeCapability: 7.5\n",
      "coreClock: 1.59GHz coreCount: 40 deviceMemorySize: 14.75GiB deviceMemoryBandwidth: 298.08GiB/s\n",
      "2021-09-08 08:34:50.335659: I tensorflow/stream_executor/platform/default/dso_loader.cc:48] Successfully opened dynamic library libcudart.so.11.0\n",
      "2021-09-08 08:34:50.335743: I tensorflow/stream_executor/platform/default/dso_loader.cc:48] Successfully opened dynamic library libcublas.so.11\n",
      "2021-09-08 08:34:50.353358: I tensorflow/stream_executor/platform/default/dso_loader.cc:48] Successfully opened dynamic library libcufft.so.10\n",
      "2021-09-08 08:34:50.363358: I tensorflow/stream_executor/platform/default/dso_loader.cc:48] Successfully opened dynamic library libcurand.so.10\n",
      "2021-09-08 08:34:50.392204: I tensorflow/stream_executor/platform/default/dso_loader.cc:48] Successfully opened dynamic library libcusolver.so.10\n",
      "2021-09-08 08:34:50.398238: I tensorflow/stream_executor/platform/default/dso_loader.cc:48] Successfully opened dynamic library libcusparse.so.11\n",
      "2021-09-08 08:34:50.398324: I tensorflow/stream_executor/platform/default/dso_loader.cc:48] Successfully opened dynamic library libcudnn.so.8\n",
      "2021-09-08 08:34:50.398461: I tensorflow/stream_executor/cuda/cuda_gpu_executor.cc:981] successful NUMA node read from SysFS had negative value (-1), but there must be at least one NUMA node, so returning NUMA node zero\n",
      "2021-09-08 08:34:50.399173: I tensorflow/stream_executor/cuda/cuda_gpu_executor.cc:981] successful NUMA node read from SysFS had negative value (-1), but there must be at least one NUMA node, so returning NUMA node zero\n",
      "2021-09-08 08:34:50.399758: I tensorflow/core/common_runtime/gpu/gpu_device.cc:1697] Adding visible gpu devices: 0\n",
      "2021-09-08 08:34:50.400687: I tensorflow/stream_executor/platform/default/dso_loader.cc:48] Successfully opened dynamic library libcudart.so.11.0\n",
      "2021-09-08 08:34:53.866776: I tensorflow/core/common_runtime/gpu/gpu_device.cc:1096] Device interconnect StreamExecutor with strength 1 edge matrix:\n",
      "2021-09-08 08:34:53.866829: I tensorflow/core/common_runtime/gpu/gpu_device.cc:1102]      0 \n",
      "2021-09-08 08:34:53.866845: I tensorflow/core/common_runtime/gpu/gpu_device.cc:1115] 0:   N \n",
      "2021-09-08 08:34:53.868303: I tensorflow/stream_executor/cuda/cuda_gpu_executor.cc:981] successful NUMA node read from SysFS had negative value (-1), but there must be at least one NUMA node, so returning NUMA node zero\n",
      "2021-09-08 08:34:53.869095: I tensorflow/stream_executor/cuda/cuda_gpu_executor.cc:981] successful NUMA node read from SysFS had negative value (-1), but there must be at least one NUMA node, so returning NUMA node zero\n",
      "2021-09-08 08:34:53.869779: I tensorflow/core/common_runtime/gpu/gpu_device.cc:1241] Created TensorFlow device (/job:localhost/replica:0/task:0/device:GPU:0 with 14154 MB memory) -> physical GPU (device: 0, name: Tesla T4, pci bus id: 0000:00:04.0, compute capability: 7.5)\n"
     ]
    }
   ],
   "source": [
    "#import keras\n",
    "#import tensorflow as tf\n",
    "#config = tf.compat.v1.ConfigProto( device_count = {'GPU': 1 , 'CPU': 4} ) \n",
    "#sess = tf.compat.v1.Session(config=config) \n",
    "#keras.backend.set_session(sess)"
   ]
  },
  {
   "cell_type": "markdown",
   "id": "4d32237b",
   "metadata": {},
   "source": [
    "## load the data"
   ]
  },
  {
   "cell_type": "markdown",
   "id": "f41f3670",
   "metadata": {},
   "source": [
    "### action data"
   ]
  },
  {
   "cell_type": "code",
   "execution_count": 44,
   "id": "adde1d97",
   "metadata": {},
   "outputs": [],
   "source": [
    "# last column in action_filttune is the origin in filttune\n",
    "action_CST_500 = np.loadtxt('data/action_in_CST_matrix_rand_seed500.csv',delimiter=',')\n",
    "action_filttune_full_500 = np.loadtxt('data/action_in_filttune_matrix_19_seed500.csv',delimiter=',')\n",
    "\n",
    "action_CST_900 = np.loadtxt('data/action_in_CST_matrix_rand_seed900.csv',delimiter=',')\n",
    "action_filttune_full_900 = np.loadtxt('data/action_in_filttune_matrix_19_seed900.csv',delimiter=',')\n",
    "\n",
    "action_CST_1000 = np.loadtxt('data/action_in_CST_matrix_rand_seed1000.csv',delimiter=',')\n",
    "action_filttune_full_1000 = np.loadtxt('data/action_in_filttune_matrix_19_seed1000.csv',delimiter=',')\n",
    "\n",
    "action_CST_1100 = np.loadtxt('data/action_in_CST_matrix_rand_seed1100.csv',delimiter=',')\n",
    "action_filttune_full_1100 = np.loadtxt('data/action_in_filttune_matrix_19_seed1100.csv',delimiter=',')"
   ]
  },
  {
   "cell_type": "code",
   "execution_count": 45,
   "id": "2e149531",
   "metadata": {},
   "outputs": [],
   "source": [
    "action_filttune_500 = action_filttune_full_500[:,0:3201]\n",
    "\n",
    "action_filttune_900  = action_filttune_full_900[:,0:1083]\n",
    "action_filttune_1000 = action_filttune_full_1000[:,0:1068]\n",
    "action_filttune_1100 = action_filttune_full_1100[:,0:2910]"
   ]
  },
  {
   "cell_type": "markdown",
   "id": "82cae330",
   "metadata": {},
   "source": [
    "### cmp and screw position"
   ]
  },
  {
   "cell_type": "code",
   "execution_count": 59,
   "id": "540b7942",
   "metadata": {},
   "outputs": [],
   "source": [
    "SP_500 = np.loadtxt('data/screw_position_CST_matrix_random_500.csv',delimiter=',')\n",
    "#cmp_full_500 = np.loadtxt('data/cmp_matrix_19_seed500.csv',delimiter=',')\n",
    "\n",
    "SP_900 = np.loadtxt('data/screw_position_CST_matrix_random_900.csv',delimiter=',')\n",
    "cmp_full_900 = np.loadtxt('data/cmp_matrix_19_seed900.csv',delimiter=',')\n",
    "\n",
    "SP_1000 = np.loadtxt('data/screw_position_CST_matrix_random_1000.csv',delimiter=',')\n",
    "cmp_full_1000 = np.loadtxt('data/cmp_matrix_19_seed1000.csv',delimiter=',')\n",
    "\n",
    "SP_1100 = np.loadtxt('data/screw_position_CST_matrix_random_1100.csv',delimiter=',')\n",
    "cmp_full_1100 = np.loadtxt('data/cmp_matrix_19_seed1100.csv',delimiter=',')"
   ]
  },
  {
   "cell_type": "code",
   "execution_count": 67,
   "id": "627b735b",
   "metadata": {},
   "outputs": [],
   "source": [
    "cmp_500 = (action_filttune_500.transpose() + action_filttune_full_500[:,3201]).transpose()\n",
    "\n",
    "cmp_900  = cmp_full_900[:,0:1083]\n",
    "cmp_1000 = cmp_full_1000[:,0:1068]\n",
    "cmp_1100 = cmp_full_1100[:,0:2910]"
   ]
  },
  {
   "cell_type": "code",
   "execution_count": 77,
   "id": "4ec500fa",
   "metadata": {},
   "outputs": [
    {
     "data": {
      "text/plain": [
       "array([ 0.05237951,  1.40323185,  0.45717698,  1.62236941,  0.86922861,\n",
       "        1.30648692,  0.64812832,  0.52867434,  2.52954024, -1.28398352,\n",
       "        1.12461483,  1.55529156, -2.24853122,  0.35181884,  3.3748146 ,\n",
       "        0.26362294, -0.17300691,  0.8903241 , -0.52809354])"
      ]
     },
     "execution_count": 77,
     "metadata": {},
     "output_type": "execute_result"
    }
   ],
   "source": [
    "SP_1000[:,-1]"
   ]
  },
  {
   "cell_type": "markdown",
   "id": "e1204e4a",
   "metadata": {},
   "source": [
    "### add some golden data"
   ]
  },
  {
   "cell_type": "code",
   "execution_count": 104,
   "id": "9bdbdcb8",
   "metadata": {},
   "outputs": [],
   "source": [
    "cmp_origin = np.loadtxt('data/cmp_origin_19.csv',delimiter=',')\n",
    "cst_origin = np.loadtxt('data/cst_origin_19.csv',delimiter=',')"
   ]
  },
  {
   "cell_type": "markdown",
   "id": "79999879",
   "metadata": {},
   "source": [
    "## load the RMSE data"
   ]
  },
  {
   "cell_type": "code",
   "execution_count": 117,
   "id": "63245bc0",
   "metadata": {},
   "outputs": [],
   "source": [
    "#load the RMSE data.\n",
    "#1st row: rmse; 2nd row: mrse\n",
    "RMS_500  = np.loadtxt('data/RMS_seed500.csv',delimiter=',')\n",
    "RMS_900  = np.loadtxt('data/RMS_seed900.csv',delimiter=',')\n",
    "RMS_1000 = np.loadtxt('data/RMS_seed1000.csv',delimiter=',')\n",
    "RMS_1100 = np.loadtxt('data/RMS_seed1100.csv',delimiter=',')"
   ]
  },
  {
   "cell_type": "markdown",
   "id": "a9f30f5f",
   "metadata": {},
   "source": [
    "## Seed 500 complete"
   ]
  },
  {
   "cell_type": "code",
   "execution_count": 111,
   "id": "73fa7566",
   "metadata": {},
   "outputs": [],
   "source": [
    "SP_500_origin = np.concatenate((SP_500, cst_origin),axis = 1)\n",
    "cmp_500_origin = np.concatenate((cmp_500, cmp_origin),axis = 1)"
   ]
  },
  {
   "cell_type": "code",
   "execution_count": 112,
   "id": "9c955b35",
   "metadata": {},
   "outputs": [],
   "source": [
    "X_train_500, X_test_500, y_train_500, y_test_500 = train_test_split(SP_500_origin.transpose(), \n",
    "                                                                    cmp_500_origin.transpose(), random_state=1,train_size = 0.8)"
   ]
  },
  {
   "cell_type": "markdown",
   "id": "aa7abecd",
   "metadata": {},
   "source": [
    "#### build the model and train"
   ]
  },
  {
   "cell_type": "code",
   "execution_count": null,
   "id": "66dcc29a",
   "metadata": {},
   "outputs": [],
   "source": [
    "'activation': 'relu',\n",
    " 'alpha': 0.05,\n",
    " 'batch_size': 'auto',\n",
    " 'hidden_layer_sizes': (300, 300, 300),\n",
    " 'learning_rate': 'adaptive',\n",
    " 'solver': 'adam'"
   ]
  },
  {
   "cell_type": "code",
   "execution_count": 125,
   "id": "897426a3",
   "metadata": {},
   "outputs": [],
   "source": [
    "from tensorflow.keras.models import Sequential,load_model, clone_model\n",
    "from tensorflow.keras.layers import Dense\n",
    "from tensorflow.keras.layers import BatchNormalization, Dropout\n",
    "import numpy as np\n",
    "from tensorflow.keras.optimizers import Adam\n",
    "from tensorflow.keras.callbacks import ModelCheckpoint, ReduceLROnPlateau, TensorBoard\n",
    "from tensorflow.keras import regularizers\n",
    "from tensorflow.keras.regularizers import l2, l1, l1_l2\n",
    "\n",
    "from livelossplot import PlotLossesKeras"
   ]
  },
  {
   "cell_type": "markdown",
   "id": "1cd3a49a",
   "metadata": {},
   "source": [
    "##### so far the best"
   ]
  },
  {
   "cell_type": "code",
   "execution_count": null,
   "id": "86a2ee7b",
   "metadata": {},
   "outputs": [
    {
     "data": {
      "image/png": "[encoded data removed]",
      "text/plain": [
       "<Figure size 864x576 with 2 Axes>"
      ]
     },
     "metadata": {
      "needs_background": "light"
     },
     "output_type": "display_data"
    },
    {
     "name": "stdout",
     "output_type": "stream",
     "text": [
      "Loss\n",
      "\ttraining         \t (min: 1157.483, max: 9942293.691, cur: 1185.108)\n",
      "\tvalidation       \t (min:  783.227, max: 9870785.940, cur:  787.188)\n",
      "lr\n",
      "\tlr               \t (min:    0.000, max:    0.001, cur:    0.000)\n",
      "2576/2576 [==============================] - 1s 309us/sample - loss: 1185.1079 - val_loss: 787.1885\n",
      "Epoch 27670/60000\n",
      " 864/2576 [=========>....................] - ETA: 0s - loss: 1168.4033"
     ]
    }
   ],
   "source": [
    "input_shape = (19,)\n",
    "\n",
    "model_abs_500 = Sequential()\n",
    "model_abs_500.add(Dense(300, input_shape=input_shape, activation='relu', \n",
    "                        kernel_regularizer=regularizers.l2(0.05)))\n",
    "model_abs_500.add(Dropout(0.2))\n",
    "model_abs_500.add(BatchNormalization())\n",
    "model_abs_500.add(Dense(300, activation='relu', \n",
    "                        kernel_regularizer=regularizers.l2(0.1)))\n",
    "model_abs_500.add(Dropout(0.2))\n",
    "model_abs_500.add(BatchNormalization())\n",
    "model_abs_500.add(Dense(300, activation='relu', \n",
    "                        kernel_regularizer=regularizers.l2(0.1)))\n",
    "model_abs_500.add(Dropout(0.2))\n",
    "model_abs_500.add(BatchNormalization())\n",
    "model_abs_500.add(Dense(19, activation='linear', \n",
    "                        kernel_regularizer=regularizers.l2(0.1)))\n",
    "\n",
    "# Configure the model and start training\n",
    "model_abs_500.compile(loss='mse', optimizer='adam')\n",
    "\n",
    "reduce_lr = ReduceLROnPlateau(monitor='val_loss', factor=0.5,\n",
    "                              patience=20, min_lr=0.0001)\n",
    "tbCallback = TensorBoard(log_dir='./logs')\n",
    "filepath = \"model_abs/model_500_0.h5\"\n",
    "checkpoint = ModelCheckpoint(filepath, monitor='loss', verbose=1, save_best_only=True, mode='min')\n",
    "callbacks_list = [checkpoint, reduce_lr, PlotLossesKeras()]\n",
    "\n",
    "model_abs_500.fit(X_train_500, y_train_500, epochs=60000, \n",
    "                  batch_size = 36, verbose=1, validation_data = (X_test_500,y_test_500), #validation_split=0.2,\n",
    "                  callbacks=callbacks_list)"
   ]
  },
  {
   "cell_type": "markdown",
   "id": "63fae376",
   "metadata": {},
   "source": [
    "#### normalize the targets"
   ]
  },
  {
   "cell_type": "code",
   "execution_count": 218,
   "id": "24ce877c",
   "metadata": {},
   "outputs": [],
   "source": [
    "from sklearn.preprocessing import MinMaxScaler\n",
    "\n",
    "target_scaler = MinMaxScaler()\n",
    "target_scaler.fit(y_train_500)\n",
    "\n",
    "X_train_500_minmax = 10*target_scaler.transform(X_train_500)\n",
    "X_test_500_minmmax = 10*target_scaler.transform(X_test_500)\n",
    "\n",
    "y_train_500_minmax = 10*target_scaler.transform(y_train_500)\n",
    "y_test_500_minmax = 10*target_scaler.transform(y_test_500)"
   ]
  },
  {
   "cell_type": "code",
   "execution_count": null,
   "id": "914efacc",
   "metadata": {},
   "outputs": [
    {
     "data": {
      "image/png": "[encoded data removed]",
      "text/plain": [
       "<Figure size 864x576 with 2 Axes>"
      ]
     },
     "metadata": {
      "needs_background": "light"
     },
     "output_type": "display_data"
    },
    {
     "name": "stdout",
     "output_type": "stream",
     "text": [
      "Loss\n",
      "\ttraining         \t (min:    3.100, max:   29.132, cur:    3.101)\n",
      "\tvalidation       \t (min:    3.069, max: 3558.400, cur:    3.071)\n",
      "lr\n",
      "\tlr               \t (min:    0.000, max:    0.001, cur:    0.000)\n",
      "2560/2560 [==============================] - 2s 856us/sample - loss: 3.1006 - val_loss: 3.0713\n",
      "Epoch 2078/50000\n",
      "1764/2560 [===================>..........] - ETA: 0s - loss: 3.0918"
     ]
    }
   ],
   "source": [
    "input_shape = (19,)\n",
    "\n",
    "model_minmax.add(Dense(400, input_shape=input_shape, activation='relu'))\n",
    "#model_minmax.add(Dropout(0.02))\n",
    "model_minmax.add(BatchNormalization())\n",
    "model_minmax.add(Dense(400, activation='relu'))\n",
    "#model_minmax.add(Dropout(0.02))\n",
    "model_minmax.add(BatchNormalization())\n",
    "model_minmax.add(Dense(400, activation='relu'))\n",
    "#model_minmax.add(Dropout(0.02))\n",
    "model_minmax.add(BatchNormalization())\n",
    "model_minmax.add(Dense(19, activation='linear'))\n",
    "\n",
    "# Configure the model and start training\n",
    "model_minmax.compile(loss='mse', optimizer='adam')\n",
    "\n",
    "reduce_lr = ReduceLROnPlateau(monitor='val_loss', factor=0.5,\n",
    "                              patience=20, min_lr=0.000001)\n",
    "tbCallback = TensorBoard(log_dir='./logs')\n",
    "filepath = \"model/model_500_minmax_0.h5\"\n",
    "checkpoint = ModelCheckpoint(filepath, monitor='loss', verbose=1, save_best_only=True, mode='min')\n",
    "callbacks_list = [checkpoint, reduce_lr, PlotLossesKeras()]\n",
    "\n",
    "model_minmax.fit(X_train_500_minmax, y_train_500_minmax, epochs=50000, batch_size = 36, verbose=1, validation_data = (X_test_500_minmmax,y_test_500_minmax), #validation_split=0.2,\n",
    "            callbacks=callbacks_list)"
   ]
  },
  {
   "cell_type": "markdown",
   "id": "2caf3c6a",
   "metadata": {},
   "source": [
    "#### MSE and R2 score for minmax"
   ]
  },
  {
   "cell_type": "code",
   "execution_count": 203,
   "id": "325b679f",
   "metadata": {},
   "outputs": [],
   "source": [
    "y_train_predict_500 = model_minmax.predict(X_train_500_minmax)\n",
    "y_test_predict_500 = model_minmax.predict(X_test_500_minmmax)"
   ]
  },
  {
   "cell_type": "code",
   "execution_count": 204,
   "id": "53707378",
   "metadata": {},
   "outputs": [
    {
     "name": "stdout",
     "output_type": "stream",
     "text": [
      "The model performance for testing set\n",
      "--------------------------------------\n",
      "MSE train is 0.031003251512883974\n",
      "MSE test is 0.030715263974686848\n",
      "R2 train is -0.000152967329086154\n",
      "R2 test is -0.003006113271485355\n"
     ]
    }
   ],
   "source": [
    "mse_train_500 = metrics.mean_squared_error(y_train_500_minmax, y_train_predict_500)\n",
    "mse_test_500 = metrics.mean_squared_error(y_test_500_minmax, y_test_predict_500)\n",
    "\n",
    "r2_train_500 = r2_score(y_train_500_minmax, y_train_predict_500)\n",
    "r2_test_500 = r2_score(y_test_500_minmax, y_test_predict_500)\n",
    "\n",
    "print(\"The model performance for testing set\")\n",
    "print(\"--------------------------------------\")\n",
    "print('MSE train is {}'.format(mse_train_500))\n",
    "print('MSE test is {}'.format(mse_test_500))\n",
    "print('R2 train is {}'.format(r2_train_500))\n",
    "print('R2 test is {}'.format(r2_test_500))"
   ]
  },
  {
   "cell_type": "code",
   "execution_count": 199,
   "id": "f31afb7b",
   "metadata": {},
   "outputs": [],
   "source": [
    "y_train_predict_500_inv = target_scaler.inverse_transform(y_train_predict_500)\n",
    "y_test_predict_500_inv = target_scaler.inverse_transform(y_test_predict_500)"
   ]
  },
  {
   "cell_type": "code",
   "execution_count": 200,
   "id": "f86fba01",
   "metadata": {},
   "outputs": [
    {
     "name": "stdout",
     "output_type": "stream",
     "text": [
      "The model performance for testing set\n",
      "--------------------------------------\n",
      "MSE train is 7430.018798331819\n",
      "MSE test is 7310.410099662353\n",
      "R2 train is -0.0006605805039751348\n",
      "R2 test is -0.0031904826334089365\n"
     ]
    }
   ],
   "source": [
    "mse_train_500 = metrics.mean_squared_error(y_train_500, y_train_predict_500_inv)\n",
    "mse_test_500 = metrics.mean_squared_error(y_test_500, y_test_predict_500_inv)\n",
    "\n",
    "r2_train_500 = r2_score(y_train_500, y_train_predict_500_inv)\n",
    "r2_test_500 = r2_score(y_test_500, y_test_predict_500_inv)\n",
    "\n",
    "print(\"The model performance for testing set\")\n",
    "print(\"--------------------------------------\")\n",
    "print('MSE train is {}'.format(mse_train_500))\n",
    "print('MSE test is {}'.format(mse_test_500))\n",
    "print('R2 train is {}'.format(r2_train_500))\n",
    "print('R2 test is {}'.format(r2_test_500))"
   ]
  },
  {
   "cell_type": "markdown",
   "id": "b9cc9073",
   "metadata": {},
   "source": [
    "#### MSE and R2 score"
   ]
  },
  {
   "cell_type": "code",
   "execution_count": 114,
   "id": "ab979db3",
   "metadata": {},
   "outputs": [],
   "source": [
    "y_train_predict_500 = model_abs_500.predict(X_train_500)\n",
    "y_test_predict_500 = model_abs_500.predict(X_test_500)"
   ]
  },
  {
   "cell_type": "code",
   "execution_count": 115,
   "id": "22515bd4",
   "metadata": {},
   "outputs": [
    {
     "name": "stdout",
     "output_type": "stream",
     "text": [
      "The model performance for testing set\n",
      "--------------------------------------\n",
      "MSE train is 102.25556180991386\n",
      "MSE test is 239.61501065274507\n",
      "R2 train is 0.791565755997088\n",
      "R2 test is 0.659791286824768\n"
     ]
    }
   ],
   "source": [
    "mse_train_500 = metrics.mean_squared_error(y_train_500, y_train_predict_500)\n",
    "mse_test_500 = metrics.mean_squared_error(y_test_500, y_test_predict_500)\n",
    "\n",
    "r2_train_500 = r2_score(y_train_500, y_train_predict_500)\n",
    "r2_test_500 = r2_score(y_test_500, y_test_predict_500)\n",
    "\n",
    "print(\"The model performance for testing set\")\n",
    "print(\"--------------------------------------\")\n",
    "print('MSE train is {}'.format(mse_train_500))\n",
    "print('MSE test is {}'.format(mse_test_500))\n",
    "print('R2 train is {}'.format(r2_train_500))\n",
    "print('R2 test is {}'.format(r2_test_500))"
   ]
  },
  {
   "cell_type": "markdown",
   "id": "90e9dff3",
   "metadata": {},
   "source": [
    "## Complete_small dataset"
   ]
  },
  {
   "cell_type": "markdown",
   "id": "b5d6f1e5",
   "metadata": {},
   "source": [
    "### Select the data with RMSE<0.09"
   ]
  },
  {
   "cell_type": "code",
   "execution_count": 118,
   "id": "22c912ce",
   "metadata": {},
   "outputs": [],
   "source": [
    "index_500 = range(action_CST_500.shape[1])\n",
    "temp_500 = RMS_500[0,:]>0.09\n",
    "to_delete_500 = index_500*temp_500\n",
    "to_delete_500 = [i for i in to_delete_500 if i != 0]\n",
    "\n",
    "index_900 = range(action_CST_900.shape[1])\n",
    "temp_900 = RMS_900[0,:]>0.09\n",
    "to_delete_900 = index_900*temp_900\n",
    "to_delete_900 = [i for i in to_delete_900 if i != 0]\n",
    "\n",
    "index_1000 = range(action_CST_1000.shape[1])\n",
    "temp_1000 = RMS_1000[0,:]>0.09\n",
    "to_delete_1000 = index_1000*temp_1000\n",
    "to_delete_1000 = [i for i in to_delete_1000 if i != 0]\n",
    "\n",
    "index_1100 = range(action_CST_1100.shape[1])\n",
    "temp_1100 = RMS_1100[0,:]>0.09\n",
    "to_delete_1100 = index_1100*temp_1100\n",
    "to_delete_1100 = [i for i in to_delete_1100 if i != 0]"
   ]
  },
  {
   "cell_type": "code",
   "execution_count": 119,
   "id": "e060836a",
   "metadata": {},
   "outputs": [],
   "source": [
    "SP_500_small  = np.delete(SP_500, to_delete_500,  axis=1)\n",
    "SP_900_small  = np.delete(SP_900, to_delete_900,  axis=1)\n",
    "SP_1000_small = np.delete(SP_1000, to_delete_1000,  axis=1)\n",
    "SP_1100_small = np.delete(SP_1100, to_delete_1100,  axis=1)\n",
    "\n",
    "cmp_500_small   = np.delete(cmp_500, to_delete_500,  axis=1)\n",
    "cmp_900_small   = np.delete(cmp_900, to_delete_900,  axis=1)\n",
    "cmp_1000_small  = np.delete(cmp_1000, to_delete_1000,  axis=1)\n",
    "cmp_1100_small  = np.delete(cmp_1100, to_delete_1100,  axis=1)"
   ]
  },
  {
   "cell_type": "code",
   "execution_count": 120,
   "id": "3e1af547",
   "metadata": {},
   "outputs": [],
   "source": [
    "SP_small = np.concatenate((SP_500_small,SP_900_small,\n",
    "                              SP_1000_small,SP_1100_small),axis = 1)\n",
    "cmp_small = np.concatenate((cmp_500_small,cmp_900_small, \n",
    "                                   cmp_1000_small, cmp_1100_small),axis = 1)"
   ]
  },
  {
   "cell_type": "code",
   "execution_count": 121,
   "id": "b801ba4c",
   "metadata": {},
   "outputs": [],
   "source": [
    "SP_small_origin = np.concatenate((SP_small, cst_origin),axis = 1)\n",
    "cmp_small_origin = np.concatenate((cmp_small, cmp_origin),axis = 1)"
   ]
  },
  {
   "cell_type": "code",
   "execution_count": 122,
   "id": "9899c9ac",
   "metadata": {},
   "outputs": [],
   "source": [
    "X_train_small, X_test_small, y_train_small, y_test_small = train_test_split( \n",
    "    SP_small_origin.transpose(), cmp_small_origin.transpose(), random_state=1,train_size = 0.8)"
   ]
  },
  {
   "cell_type": "code",
   "execution_count": null,
   "id": "f12d9753",
   "metadata": {},
   "outputs": [
    {
     "data": {
      "image/png": "[encoded data removed]",
      "text/plain": [
       "<Figure size 864x576 with 2 Axes>"
      ]
     },
     "metadata": {
      "needs_background": "light"
     },
     "output_type": "display_data"
    },
    {
     "name": "stdout",
     "output_type": "stream",
     "text": [
      "Loss\n",
      "\ttraining         \t (min:  426.034, max: 9924187.136, cur:  434.925)\n",
      "\tvalidation       \t (min:  199.875, max: 9789771.076, cur:  268.596)\n",
      "lr\n",
      "\tlr               \t (min:    0.000, max:    0.001, cur:    0.000)\n",
      "4868/4868 [==============================] - 1s 239us/sample - loss: 434.9254 - val_loss: 268.5963\n",
      "Epoch 29074/60000\n",
      "4788/4868 [============================>.] - ETA: 0s - loss: 449.5359\n",
      "Epoch 29074: loss did not improve from 426.03397\n"
     ]
    }
   ],
   "source": [
    "# Set the input shape\n",
    "input_shape = (19,)\n",
    "print(f'Feature shape: {input_shape}')\n",
    "\n",
    "# Create the model\n",
    "model_comp_small_0 = Sequential()\n",
    "model_comp_small_0.add(Dense(300, input_shape=input_shape, activation='relu', kernel_regularizer=regularizers.l1_l2(0.001,0.001)))\n",
    "model_comp_small_0.add(Dropout(0.1))\n",
    "model_comp_small_0.add(BatchNormalization())\n",
    "model_comp_small_0.add(Dense(500, activation='relu', kernel_regularizer=regularizers.l1_l2(0.001,0.001)))\n",
    "model_comp_small_0.add(Dropout(0.1))\n",
    "model_comp_small_0.add(BatchNormalization())\n",
    "model_comp_small_0.add(Dense(300, activation='relu', kernel_regularizer=regularizers.l1_l2(0.001,0.001)))\n",
    "model_comp_small_0.add(Dropout(0.1))\n",
    "model_comp_small_0.add(BatchNormalization())\n",
    "model_comp_small_0.add(Dense(19, activation='linear', kernel_regularizer=regularizers.l1_l2(0.001,0.001)))\n",
    "\n",
    "# Configure the model and start training\n",
    "model_comp_small_0.compile(loss='mse', optimizer='adam')\n",
    "\n",
    "reduce_lr = ReduceLROnPlateau(monitor='val_loss', factor=0.5,\n",
    "                              patience=20, min_lr=0.0001)\n",
    "tbCallback = TensorBoard(log_dir='./logs')\n",
    "filepath = \"model_abs/model_comp_small_0.h5\"\n",
    "checkpoint = ModelCheckpoint(filepath, monitor='loss', verbose=1, save_best_only=True, mode='min')\n",
    "callbacks_list = [checkpoint, reduce_lr, PlotLossesKeras()]\n",
    "\n",
    "model_comp_small_0.fit(X_train_small, y_train_small, epochs=60000, \n",
    "                  batch_size = 36, verbose=1, validation_data = (X_test_small,y_test_small), #validation_split=0.2,\n",
    "                  callbacks=callbacks_list)"
   ]
  },
  {
   "cell_type": "markdown",
   "id": "e39755c3",
   "metadata": {},
   "source": [
    "#### normalize the targets"
   ]
  },
  {
   "cell_type": "code",
   "execution_count": 138,
   "id": "bd7fb97d",
   "metadata": {},
   "outputs": [],
   "source": [
    "from sklearn.preprocessing import MinMaxScaler\n",
    "\n",
    "target_scaler_X = MinMaxScaler()\n",
    "target_scaler_X.fit(X_train_small)\n",
    "\n",
    "target_scaler_y = MinMaxScaler()\n",
    "target_scaler_y.fit(y_train_small)\n",
    "\n",
    "X_train_small_minmax = target_scaler_X.transform(X_train_small)\n",
    "X_test_small_minmmax = target_scaler_X.transform(X_test_small)\n",
    "\n",
    "y_train_small_minmax = target_scaler_y.transform(y_train_small)\n",
    "y_test_small_minmax = target_scaler_y.transform(y_test_small)"
   ]
  },
  {
   "cell_type": "code",
   "execution_count": null,
   "id": "45620c0b",
   "metadata": {},
   "outputs": [
    {
     "data": {
      "image/png": "[encoded data removed]",
      "text/plain": [
       "<Figure size 864x576 with 2 Axes>"
      ]
     },
     "metadata": {
      "needs_background": "light"
     },
     "output_type": "display_data"
    },
    {
     "name": "stdout",
     "output_type": "stream",
     "text": [
      "Loss\n",
      "\ttraining         \t (min:    0.011, max:   11.417, cur:    0.012)\n",
      "\tvalidation       \t (min:    0.008, max:    6.992, cur:    0.008)\n",
      "lr\n",
      "\tlr               \t (min:    0.000, max:    0.001, cur:    0.000)\n",
      "4868/4868 [==============================] - 1s 245us/sample - loss: 0.0115 - val_loss: 0.0079\n",
      "Epoch 661/60000\n",
      "2088/4868 [===========>..................] - ETA: 0s - loss: 0.0114"
     ]
    }
   ],
   "source": [
    "# Set the input shape\n",
    "input_shape = (19,)\n",
    "print(f'Feature shape: {input_shape}')\n",
    "\n",
    "# Create the model\n",
    "model_comp_small_minmax_0 = Sequential()\n",
    "model_comp_small_minmax_0.add(Dense(300, input_shape=input_shape, activation='relu', kernel_regularizer=regularizers.l1_l2(0.001,0.001)))\n",
    "model_comp_small_minmax_0.add(Dropout(0.1))\n",
    "model_comp_small_minmax_0.add(BatchNormalization())\n",
    "model_comp_small_minmax_0.add(Dense(500, activation='relu', kernel_regularizer=regularizers.l1_l2(0.001,0.001)))\n",
    "model_comp_small_minmax_0.add(Dropout(0.1))\n",
    "model_comp_small_minmax_0.add(BatchNormalization())\n",
    "model_comp_small_minmax_0.add(Dense(300, activation='relu', kernel_regularizer=regularizers.l1_l2(0.001,0.001)))\n",
    "model_comp_small_minmax_0.add(Dropout(0.1))\n",
    "model_comp_small_minmax_0.add(BatchNormalization())\n",
    "model_comp_small_minmax_0.add(Dense(19, activation='linear', kernel_regularizer=regularizers.l1_l2(0.001,0.001)))\n",
    "\n",
    "# Configure the model and start training\n",
    "model_comp_small_minmax_0.compile(loss='mse', optimizer='adam')\n",
    "\n",
    "reduce_lr = ReduceLROnPlateau(monitor='val_loss', factor=0.5,\n",
    "                              patience=20, min_lr=0.00001)\n",
    "tbCallback = TensorBoard(log_dir='./logs')\n",
    "filepath = \"model_abs/model_comp_small_0.h5\"\n",
    "checkpoint = ModelCheckpoint(filepath, monitor='loss', verbose=1, save_best_only=True, mode='min')\n",
    "callbacks_list = [checkpoint, reduce_lr, PlotLossesKeras()]\n",
    "\n",
    "model_comp_small_minmax_0.fit(X_train_small_minmax, y_train_small_minmax, epochs=60000, \n",
    "                  batch_size = 36, verbose=1, validation_data = (X_test_small_minmmax,y_test_small_minmax), #validation_split=0.2,\n",
    "                  callbacks=callbacks_list)"
   ]
  },
  {
   "cell_type": "code",
   "execution_count": 171,
   "id": "21e44bb6",
   "metadata": {},
   "outputs": [],
   "source": [
    "model_comp_small_minmax_0 = load_model('model_abs/model_comp_small_0.h5')"
   ]
  },
  {
   "cell_type": "markdown",
   "id": "c6eb932e",
   "metadata": {},
   "source": [
    "#### MSE and R2 score for minmax"
   ]
  },
  {
   "cell_type": "code",
   "execution_count": 172,
   "id": "02e2b69d",
   "metadata": {},
   "outputs": [],
   "source": [
    "y_train_predict_small = model_comp_small_minmax_0.predict(X_train_small_minmax)\n",
    "y_test_predict_small = model_comp_small_minmax_0.predict(X_test_small_minmmax)"
   ]
  },
  {
   "cell_type": "code",
   "execution_count": 173,
   "id": "229af794",
   "metadata": {},
   "outputs": [
    {
     "name": "stdout",
     "output_type": "stream",
     "text": [
      "The model performance for testing set\n",
      "--------------------------------------\n",
      "MSE train is 0.003394324670886734\n",
      "MSE test is 0.003256153264505058\n",
      "R2 train is 0.581560826115072\n",
      "R2 test is 0.5861122106955252\n"
     ]
    }
   ],
   "source": [
    "mse_train_small_minmax = metrics.mean_squared_error(y_train_small_minmax, y_train_predict_small)\n",
    "mse_test_small_minmax = metrics.mean_squared_error(y_test_small_minmax, y_test_predict_small)\n",
    "\n",
    "r2_train_small_minmax = r2_score(y_train_small_minmax, y_train_predict_small)\n",
    "r2_test_small_minmax = r2_score(y_test_small_minmax, y_test_predict_small)\n",
    "\n",
    "print(\"The model performance for testing set\")\n",
    "print(\"--------------------------------------\")\n",
    "print('MSE train is {}'.format(mse_train_small_minmax))\n",
    "print('MSE test is {}'.format(mse_test_small_minmax))\n",
    "print('R2 train is {}'.format(r2_train_small_minmax))\n",
    "print('R2 test is {}'.format(r2_test_small_minmax))"
   ]
  },
  {
   "cell_type": "code",
   "execution_count": 199,
   "id": "d1b038dc",
   "metadata": {},
   "outputs": [],
   "source": [
    "y_train_predict_500_inv = target_scaler.inverse_transform(y_train_predict_500)\n",
    "y_test_predict_500_inv = target_scaler.inverse_transform(y_test_predict_500)"
   ]
  },
  {
   "cell_type": "code",
   "execution_count": 200,
   "id": "fa16b183",
   "metadata": {},
   "outputs": [
    {
     "name": "stdout",
     "output_type": "stream",
     "text": [
      "The model performance for testing set\n",
      "--------------------------------------\n",
      "MSE train is 7430.018798331819\n",
      "MSE test is 7310.410099662353\n",
      "R2 train is -0.0006605805039751348\n",
      "R2 test is -0.0031904826334089365\n"
     ]
    }
   ],
   "source": [
    "mse_train_500 = metrics.mean_squared_error(y_train_500, y_train_predict_500_inv)\n",
    "mse_test_500 = metrics.mean_squared_error(y_test_500, y_test_predict_500_inv)\n",
    "\n",
    "r2_train_500 = r2_score(y_train_500, y_train_predict_500_inv)\n",
    "r2_test_500 = r2_score(y_test_500, y_test_predict_500_inv)\n",
    "\n",
    "print(\"The model performance for testing set\")\n",
    "print(\"--------------------------------------\")\n",
    "print('MSE train is {}'.format(mse_train_500))\n",
    "print('MSE test is {}'.format(mse_test_500))\n",
    "print('R2 train is {}'.format(r2_train_500))\n",
    "print('R2 test is {}'.format(r2_test_500))"
   ]
  },
  {
   "cell_type": "markdown",
   "id": "ec42abca",
   "metadata": {},
   "source": [
    "#### MSE and R2 score"
   ]
  },
  {
   "cell_type": "code",
   "execution_count": 127,
   "id": "16e9b38a",
   "metadata": {},
   "outputs": [],
   "source": [
    "y_train_predict_small = model_comp_small_0.predict(X_train_small)\n",
    "y_test_predict_small = model_comp_small_0.predict(X_test_small)"
   ]
  },
  {
   "cell_type": "code",
   "execution_count": 128,
   "id": "c3aa92d9",
   "metadata": {},
   "outputs": [
    {
     "name": "stdout",
     "output_type": "stream",
     "text": [
      "The model performance for testing set\n",
      "--------------------------------------\n",
      "MSE train is 105.61064686543467\n",
      "MSE test is 171.01548764037045\n",
      "R2 train is 0.8566186541291935\n",
      "R2 test is 0.7116777563376301\n"
     ]
    }
   ],
   "source": [
    "mse_train_small = metrics.mean_squared_error(y_train_small, y_train_predict_small)\n",
    "mse_test_small = metrics.mean_squared_error(y_test_small, y_test_predict_small)\n",
    "\n",
    "r2_train_small = r2_score(y_train_small, y_train_predict_small)\n",
    "r2_test_small = r2_score(y_test_small, y_test_predict_small)\n",
    "\n",
    "print(\"The model performance for testing set\")\n",
    "print(\"--------------------------------------\")\n",
    "print('MSE train is {}'.format(mse_train_small))\n",
    "print('MSE test is {}'.format(mse_test_small))\n",
    "print('R2 train is {}'.format(r2_train_small))\n",
    "print('R2 test is {}'.format(r2_test_small))"
   ]
  },
  {
   "cell_type": "code",
   "execution_count": null,
   "id": "ed2fcd3c",
   "metadata": {},
   "outputs": [],
   "source": []
  }
 ],
 "metadata": {
  "environment": {
   "name": "tf2-gpu.2-1.m78",
   "type": "gcloud",
   "uri": "gcr.io/deeplearning-platform-release/tf2-gpu.2-1:m78"
  },
  "kernelspec": {
   "display_name": "Python 3",
   "language": "python",
   "name": "python3"
  },
  "language_info": {
   "codemirror_mode": {
    "name": "ipython",
    "version": 3
   },
   "file_extension": ".py",
   "mimetype": "text/x-python",
   "name": "python",
   "nbconvert_exporter": "python",
   "pygments_lexer": "ipython3",
   "version": "3.7.10"
  }
 },
 "nbformat": 4,
 "nbformat_minor": 5
}
