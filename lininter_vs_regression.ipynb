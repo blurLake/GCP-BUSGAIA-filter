{
 "cells": [
  {
   "cell_type": "code",
   "execution_count": 2,
   "id": "94df2bae",
   "metadata": {},
   "outputs": [
    {
     "name": "stderr",
     "output_type": "stream",
     "text": [
      "2022-01-13 14:15:33.768138: I tensorflow/stream_executor/platform/default/dso_loader.cc:48] Successfully opened dynamic library libcudart.so.11.0\n",
      "2022-01-13 14:15:34.434601: I tensorflow/stream_executor/platform/default/dso_loader.cc:48] Successfully opened dynamic library libnvinfer.so.7\n",
      "2022-01-13 14:15:34.435719: I tensorflow/stream_executor/platform/default/dso_loader.cc:48] Successfully opened dynamic library libnvinfer_plugin.so.7\n"
     ]
    }
   ],
   "source": [
    "import pandas\n",
    "import numpy as np\n",
    "\n",
    "from sklearn.metrics import r2_score\n",
    "from sklearn import metrics\n",
    "from sklearn.metrics import mean_absolute_percentage_error\n",
    "\n",
    "from tensorflow.keras.models import Sequential,load_model, clone_model"
   ]
  },
  {
   "cell_type": "markdown",
   "id": "457aa7de",
   "metadata": {},
   "source": [
    "# build a linear interpolator from cst screws position to cmp"
   ]
  },
  {
   "cell_type": "code",
   "execution_count": 3,
   "id": "eec01baa",
   "metadata": {},
   "outputs": [],
   "source": [
    "# load the sensitivity analysis file\n",
    "df_map = pandas.read_csv('./data/refined_cmp.csv')"
   ]
  },
  {
   "cell_type": "code",
   "execution_count": 5,
   "id": "2e7c476b",
   "metadata": {},
   "outputs": [
    {
     "data": {
      "text/html": [
       "<div>\n",
       "<style scoped>\n",
       "    .dataframe tbody tr th:only-of-type {\n",
       "        vertical-align: middle;\n",
       "    }\n",
       "\n",
       "    .dataframe tbody tr th {\n",
       "        vertical-align: top;\n",
       "    }\n",
       "\n",
       "    .dataframe thead th {\n",
       "        text-align: right;\n",
       "    }\n",
       "</style>\n",
       "<table border=\"1\" class=\"dataframe\">\n",
       "  <thead>\n",
       "    <tr style=\"text-align: right;\">\n",
       "      <th></th>\n",
       "      <th>Screw Name</th>\n",
       "      <th>Screw Position</th>\n",
       "      <th>f1</th>\n",
       "      <th>f2</th>\n",
       "      <th>f3</th>\n",
       "      <th>f4</th>\n",
       "      <th>f5</th>\n",
       "      <th>f6</th>\n",
       "      <th>f7</th>\n",
       "      <th>f8</th>\n",
       "      <th>...</th>\n",
       "      <th>BW2_3</th>\n",
       "      <th>BW3_4</th>\n",
       "      <th>BW4_5</th>\n",
       "      <th>BW5_6</th>\n",
       "      <th>BW6_7</th>\n",
       "      <th>BW7_8</th>\n",
       "      <th>BW1_4</th>\n",
       "      <th>BW5_8</th>\n",
       "      <th>BW2_4</th>\n",
       "      <th>BW5_7</th>\n",
       "    </tr>\n",
       "  </thead>\n",
       "  <tbody>\n",
       "    <tr>\n",
       "      <th>0</th>\n",
       "      <td>f1</td>\n",
       "      <td>-0.122628</td>\n",
       "      <td>4459.331877</td>\n",
       "      <td>4909.805051</td>\n",
       "      <td>4910.187242</td>\n",
       "      <td>4905.361985</td>\n",
       "      <td>4904.906347</td>\n",
       "      <td>4855.855686</td>\n",
       "      <td>4914.368104</td>\n",
       "      <td>4807.948762</td>\n",
       "      <td>...</td>\n",
       "      <td>160.15168</td>\n",
       "      <td>113.120324</td>\n",
       "      <td>118.093813</td>\n",
       "      <td>102.780765</td>\n",
       "      <td>126.691115</td>\n",
       "      <td>168.846577</td>\n",
       "      <td>-34.137853</td>\n",
       "      <td>-20.991896</td>\n",
       "      <td>5.519425</td>\n",
       "      <td>-51.974149</td>\n",
       "    </tr>\n",
       "    <tr>\n",
       "      <th>1</th>\n",
       "      <td>f1</td>\n",
       "      <td>0.044039</td>\n",
       "      <td>4528.221945</td>\n",
       "      <td>4909.805051</td>\n",
       "      <td>4910.187242</td>\n",
       "      <td>4905.361985</td>\n",
       "      <td>4904.906347</td>\n",
       "      <td>4855.855686</td>\n",
       "      <td>4914.368104</td>\n",
       "      <td>4807.948762</td>\n",
       "      <td>...</td>\n",
       "      <td>160.15168</td>\n",
       "      <td>113.120324</td>\n",
       "      <td>118.093813</td>\n",
       "      <td>102.780765</td>\n",
       "      <td>126.691115</td>\n",
       "      <td>168.846577</td>\n",
       "      <td>-35.795280</td>\n",
       "      <td>-20.991896</td>\n",
       "      <td>5.519425</td>\n",
       "      <td>-51.974149</td>\n",
       "    </tr>\n",
       "    <tr>\n",
       "      <th>2</th>\n",
       "      <td>f1</td>\n",
       "      <td>0.210706</td>\n",
       "      <td>4599.309671</td>\n",
       "      <td>4909.805051</td>\n",
       "      <td>4910.187242</td>\n",
       "      <td>4905.361985</td>\n",
       "      <td>4904.906347</td>\n",
       "      <td>4855.855686</td>\n",
       "      <td>4914.368104</td>\n",
       "      <td>4807.948762</td>\n",
       "      <td>...</td>\n",
       "      <td>160.15168</td>\n",
       "      <td>113.120324</td>\n",
       "      <td>118.093813</td>\n",
       "      <td>102.780765</td>\n",
       "      <td>126.691115</td>\n",
       "      <td>168.846577</td>\n",
       "      <td>-37.723693</td>\n",
       "      <td>-20.991896</td>\n",
       "      <td>5.519425</td>\n",
       "      <td>-51.974149</td>\n",
       "    </tr>\n",
       "    <tr>\n",
       "      <th>3</th>\n",
       "      <td>f1</td>\n",
       "      <td>0.377372</td>\n",
       "      <td>4667.789921</td>\n",
       "      <td>4909.805051</td>\n",
       "      <td>4910.187242</td>\n",
       "      <td>4905.361985</td>\n",
       "      <td>4904.906347</td>\n",
       "      <td>4855.855686</td>\n",
       "      <td>4914.368104</td>\n",
       "      <td>4807.948762</td>\n",
       "      <td>...</td>\n",
       "      <td>160.15168</td>\n",
       "      <td>113.120324</td>\n",
       "      <td>118.093813</td>\n",
       "      <td>102.780765</td>\n",
       "      <td>126.691115</td>\n",
       "      <td>168.846577</td>\n",
       "      <td>-39.256968</td>\n",
       "      <td>-20.991896</td>\n",
       "      <td>5.519425</td>\n",
       "      <td>-51.974149</td>\n",
       "    </tr>\n",
       "    <tr>\n",
       "      <th>4</th>\n",
       "      <td>f1</td>\n",
       "      <td>0.544039</td>\n",
       "      <td>4733.792593</td>\n",
       "      <td>4909.805051</td>\n",
       "      <td>4910.187242</td>\n",
       "      <td>4905.361985</td>\n",
       "      <td>4904.906347</td>\n",
       "      <td>4855.855686</td>\n",
       "      <td>4914.368104</td>\n",
       "      <td>4807.948762</td>\n",
       "      <td>...</td>\n",
       "      <td>160.15168</td>\n",
       "      <td>113.120324</td>\n",
       "      <td>118.093813</td>\n",
       "      <td>102.780765</td>\n",
       "      <td>126.691115</td>\n",
       "      <td>168.846577</td>\n",
       "      <td>-40.760893</td>\n",
       "      <td>-20.991896</td>\n",
       "      <td>5.519425</td>\n",
       "      <td>-51.974149</td>\n",
       "    </tr>\n",
       "    <tr>\n",
       "      <th>5</th>\n",
       "      <td>f1</td>\n",
       "      <td>0.710706</td>\n",
       "      <td>4799.186552</td>\n",
       "      <td>4909.805051</td>\n",
       "      <td>4910.187242</td>\n",
       "      <td>4905.361985</td>\n",
       "      <td>4904.906347</td>\n",
       "      <td>4855.855686</td>\n",
       "      <td>4914.368104</td>\n",
       "      <td>4807.948762</td>\n",
       "      <td>...</td>\n",
       "      <td>160.15168</td>\n",
       "      <td>113.120324</td>\n",
       "      <td>118.093813</td>\n",
       "      <td>102.780765</td>\n",
       "      <td>126.691115</td>\n",
       "      <td>168.846577</td>\n",
       "      <td>-42.248214</td>\n",
       "      <td>-20.991896</td>\n",
       "      <td>5.519425</td>\n",
       "      <td>-51.974149</td>\n",
       "    </tr>\n",
       "    <tr>\n",
       "      <th>6</th>\n",
       "      <td>f1</td>\n",
       "      <td>0.877372</td>\n",
       "      <td>4860.583741</td>\n",
       "      <td>4909.805051</td>\n",
       "      <td>4910.187242</td>\n",
       "      <td>4905.361985</td>\n",
       "      <td>4904.906347</td>\n",
       "      <td>4855.855686</td>\n",
       "      <td>4914.368104</td>\n",
       "      <td>4807.948762</td>\n",
       "      <td>...</td>\n",
       "      <td>160.15168</td>\n",
       "      <td>113.120324</td>\n",
       "      <td>118.093813</td>\n",
       "      <td>102.780765</td>\n",
       "      <td>126.691115</td>\n",
       "      <td>168.846577</td>\n",
       "      <td>-43.091299</td>\n",
       "      <td>-20.991896</td>\n",
       "      <td>5.519425</td>\n",
       "      <td>-51.974149</td>\n",
       "    </tr>\n",
       "    <tr>\n",
       "      <th>7</th>\n",
       "      <td>f1</td>\n",
       "      <td>1.044039</td>\n",
       "      <td>4916.933775</td>\n",
       "      <td>4909.805051</td>\n",
       "      <td>4910.187242</td>\n",
       "      <td>4905.361985</td>\n",
       "      <td>4904.906347</td>\n",
       "      <td>4855.855686</td>\n",
       "      <td>4914.368104</td>\n",
       "      <td>4807.948762</td>\n",
       "      <td>...</td>\n",
       "      <td>160.15168</td>\n",
       "      <td>113.120324</td>\n",
       "      <td>118.093813</td>\n",
       "      <td>102.780765</td>\n",
       "      <td>126.691115</td>\n",
       "      <td>168.846577</td>\n",
       "      <td>-44.815407</td>\n",
       "      <td>-20.991896</td>\n",
       "      <td>5.519425</td>\n",
       "      <td>-51.974149</td>\n",
       "    </tr>\n",
       "    <tr>\n",
       "      <th>8</th>\n",
       "      <td>f1</td>\n",
       "      <td>1.210706</td>\n",
       "      <td>4966.910709</td>\n",
       "      <td>4909.805051</td>\n",
       "      <td>4910.187242</td>\n",
       "      <td>4905.361985</td>\n",
       "      <td>4904.906347</td>\n",
       "      <td>4855.855686</td>\n",
       "      <td>4914.368104</td>\n",
       "      <td>4807.948762</td>\n",
       "      <td>...</td>\n",
       "      <td>160.15168</td>\n",
       "      <td>113.120324</td>\n",
       "      <td>118.093813</td>\n",
       "      <td>102.780765</td>\n",
       "      <td>126.691115</td>\n",
       "      <td>168.846577</td>\n",
       "      <td>-46.048862</td>\n",
       "      <td>-20.991896</td>\n",
       "      <td>5.519425</td>\n",
       "      <td>-51.974149</td>\n",
       "    </tr>\n",
       "    <tr>\n",
       "      <th>9</th>\n",
       "      <td>f1</td>\n",
       "      <td>1.377372</td>\n",
       "      <td>5013.892344</td>\n",
       "      <td>4909.805051</td>\n",
       "      <td>4910.187242</td>\n",
       "      <td>4905.361985</td>\n",
       "      <td>4904.906347</td>\n",
       "      <td>4855.855686</td>\n",
       "      <td>4914.368104</td>\n",
       "      <td>4807.948762</td>\n",
       "      <td>...</td>\n",
       "      <td>160.15168</td>\n",
       "      <td>113.120324</td>\n",
       "      <td>118.093813</td>\n",
       "      <td>102.780765</td>\n",
       "      <td>126.691115</td>\n",
       "      <td>168.846577</td>\n",
       "      <td>-46.784577</td>\n",
       "      <td>-20.991896</td>\n",
       "      <td>5.519425</td>\n",
       "      <td>-51.974149</td>\n",
       "    </tr>\n",
       "  </tbody>\n",
       "</table>\n",
       "<p>10 rows × 21 columns</p>\n",
       "</div>"
      ],
      "text/plain": [
       "  Screw Name  Screw Position           f1           f2           f3  \\\n",
       "0         f1       -0.122628  4459.331877  4909.805051  4910.187242   \n",
       "1         f1        0.044039  4528.221945  4909.805051  4910.187242   \n",
       "2         f1        0.210706  4599.309671  4909.805051  4910.187242   \n",
       "3         f1        0.377372  4667.789921  4909.805051  4910.187242   \n",
       "4         f1        0.544039  4733.792593  4909.805051  4910.187242   \n",
       "5         f1        0.710706  4799.186552  4909.805051  4910.187242   \n",
       "6         f1        0.877372  4860.583741  4909.805051  4910.187242   \n",
       "7         f1        1.044039  4916.933775  4909.805051  4910.187242   \n",
       "8         f1        1.210706  4966.910709  4909.805051  4910.187242   \n",
       "9         f1        1.377372  5013.892344  4909.805051  4910.187242   \n",
       "\n",
       "            f4           f5           f6           f7           f8  ...  \\\n",
       "0  4905.361985  4904.906347  4855.855686  4914.368104  4807.948762  ...   \n",
       "1  4905.361985  4904.906347  4855.855686  4914.368104  4807.948762  ...   \n",
       "2  4905.361985  4904.906347  4855.855686  4914.368104  4807.948762  ...   \n",
       "3  4905.361985  4904.906347  4855.855686  4914.368104  4807.948762  ...   \n",
       "4  4905.361985  4904.906347  4855.855686  4914.368104  4807.948762  ...   \n",
       "5  4905.361985  4904.906347  4855.855686  4914.368104  4807.948762  ...   \n",
       "6  4905.361985  4904.906347  4855.855686  4914.368104  4807.948762  ...   \n",
       "7  4905.361985  4904.906347  4855.855686  4914.368104  4807.948762  ...   \n",
       "8  4905.361985  4904.906347  4855.855686  4914.368104  4807.948762  ...   \n",
       "9  4905.361985  4904.906347  4855.855686  4914.368104  4807.948762  ...   \n",
       "\n",
       "       BW2_3       BW3_4       BW4_5       BW5_6       BW6_7       BW7_8  \\\n",
       "0  160.15168  113.120324  118.093813  102.780765  126.691115  168.846577   \n",
       "1  160.15168  113.120324  118.093813  102.780765  126.691115  168.846577   \n",
       "2  160.15168  113.120324  118.093813  102.780765  126.691115  168.846577   \n",
       "3  160.15168  113.120324  118.093813  102.780765  126.691115  168.846577   \n",
       "4  160.15168  113.120324  118.093813  102.780765  126.691115  168.846577   \n",
       "5  160.15168  113.120324  118.093813  102.780765  126.691115  168.846577   \n",
       "6  160.15168  113.120324  118.093813  102.780765  126.691115  168.846577   \n",
       "7  160.15168  113.120324  118.093813  102.780765  126.691115  168.846577   \n",
       "8  160.15168  113.120324  118.093813  102.780765  126.691115  168.846577   \n",
       "9  160.15168  113.120324  118.093813  102.780765  126.691115  168.846577   \n",
       "\n",
       "       BW1_4      BW5_8     BW2_4      BW5_7  \n",
       "0 -34.137853 -20.991896  5.519425 -51.974149  \n",
       "1 -35.795280 -20.991896  5.519425 -51.974149  \n",
       "2 -37.723693 -20.991896  5.519425 -51.974149  \n",
       "3 -39.256968 -20.991896  5.519425 -51.974149  \n",
       "4 -40.760893 -20.991896  5.519425 -51.974149  \n",
       "5 -42.248214 -20.991896  5.519425 -51.974149  \n",
       "6 -43.091299 -20.991896  5.519425 -51.974149  \n",
       "7 -44.815407 -20.991896  5.519425 -51.974149  \n",
       "8 -46.048862 -20.991896  5.519425 -51.974149  \n",
       "9 -46.784577 -20.991896  5.519425 -51.974149  \n",
       "\n",
       "[10 rows x 21 columns]"
      ]
     },
     "execution_count": 5,
     "metadata": {},
     "output_type": "execute_result"
    }
   ],
   "source": [
    "df_map.head(10)"
   ]
  },
  {
   "cell_type": "code",
   "execution_count": null,
   "id": "d38d07af",
   "metadata": {},
   "outputs": [],
   "source": [
    "# the linear interpolator from Reza\n",
    "def map_screws_to_cmp(self):        \n",
    "    pred_cmp = filter8p4z_cst_calib.cmp_tuned\n",
    "    # Jay:use_finer_f_only is set to false by default\n",
    "    if self.use_finer_f_only:\n",
    "        for i in range(self.numScrews):\n",
    "            tmp_cmp = np.zeros((self.numScrews, 1))\n",
    "            for j in range(self.numScrews):\n",
    "                if i < filter8p4z_cst_calib.nrof_res:\n",
    "                    tmp_cmp[j] = np.interp(self.screws_curr_pos[i], self.screws_map_pos_finer_f_only[i, :], self.cmp_map_finer_f_only[j, i * filter8p4z_cst_calib.nrof_map_pts_finer_f_only : (i + 1) * filter8p4z_cst_calib.nrof_map_pts_finer_f_only])\n",
    "                else:\n",
    "                    tmp_cmp[j] = np.interp(self.screws_curr_pos[i], self.screws_map_pos[i, :], self.cmp_map[j, i * filter8p4z_cst_calib.nrof_map_pts : (i + 1) * filter8p4z_cst_calib.nrof_map_pts])\n",
    "\n",
    "            pred_cmp = pred_cmp + tmp_cmp - filter8p4z_cst_calib.cmp_tuned\n",
    "    else:\n",
    "        for i in range(self.numScrews):\n",
    "            tmp_cmp = np.zeros((self.numScrews, 1))\n",
    "            for j in range(self.numScrews):\n",
    "                tmp_cmp[j] = np.interp(self.screws_curr_pos[i], self.screws_map_pos[i, :], self.cmp_map[j, i * filter8p4z_cst_calib.nrof_map_pts : (i + 1) * filter8p4z_cst_calib.nrof_map_pts])\n",
    "\n",
    "            pred_cmp = pred_cmp + tmp_cmp - filter8p4z_cst_calib.cmp_tuned\n",
    "        \n",
    "    return pred_cmp\n"
   ]
  },
  {
   "cell_type": "code",
   "execution_count": 4,
   "id": "d813e9d3",
   "metadata": {},
   "outputs": [],
   "source": [
    "# modified version\n",
    "f_tuned = np.array([4766.4, 4909.8, 4910.2, 4905.4, 4904.9, 4855.8, 4914.4, 4807.9]) # order = f1 .. f8\n",
    "coup_tuned = np.array([194.28, 160.15, 113.12, 118.09, 102.78, 126.69, 168.85, -41.57, -20.99, 5.52, -51.97])# order = BW12, 23, ..., 78, 14, 58, 24, 57\n",
    "    \n",
    "nrof_map_pts = 10\n",
    "nrof_tunable_par = 19\n",
    "    \n",
    "screws_map_pos = np.zeros((nrof_tunable_par, nrof_map_pts))\n",
    "cmp_map = np.zeros((nrof_tunable_par, nrof_map_pts * nrof_tunable_par))\n",
    "\n",
    "# Loading the mapping from the csv file for future interpolations\n",
    "df_map = pandas.read_csv('./data/refined_cmp.csv')\n",
    "\n",
    "\n",
    "def map_screws_to_cmp_modified(screws_curr_pos):\n",
    "    pred_cmp = np.concatenate((f_tuned, coup_tuned))\n",
    "    pred_cmp = pred_cmp.reshape((19, 1))\n",
    "    \n",
    "    cmp_tuned = np.concatenate((f_tuned, coup_tuned))\n",
    "    cmp_tuned = cmp_tuned.reshape((19, 1))\n",
    "\n",
    "    for i in range(nrof_tunable_par):\n",
    "        screws_map_pos[i, :] = np.array(df_map['Screw Position'][i * nrof_map_pts : (i + 1) * nrof_map_pts])\n",
    "    for i in range(nrof_map_pts * nrof_tunable_par):\n",
    "        for j in range(nrof_tunable_par):\n",
    "            cmp_map[j, i] = np.array(df_map.iloc[i, j + 2])\n",
    "\n",
    "    for i in range(19):\n",
    "        tmp_cmp = np.zeros((19, 1))\n",
    "        for j in range(19):\n",
    "            tmp_cmp[j] = np.interp(screws_curr_pos[i], screws_map_pos[i, :], \n",
    "                                   cmp_map[j, i * nrof_map_pts : (i + 1) * nrof_map_pts])\n",
    "\n",
    "        pred_cmp = pred_cmp + tmp_cmp - cmp_tuned\n",
    "    \n",
    "    return pred_cmp\n"
   ]
  },
  {
   "cell_type": "markdown",
   "id": "989e7f16",
   "metadata": {},
   "source": [
    "## load data"
   ]
  },
  {
   "cell_type": "code",
   "execution_count": 5,
   "id": "f0106a3e",
   "metadata": {},
   "outputs": [],
   "source": [
    "screw_pos_1300 = np.loadtxt('data/screw_position_CST_matrix_random_1300.csv',delimiter=',')\n",
    "cmp_1300 = np.loadtxt('data/cmp_matrix_19_seed1300.csv',delimiter=',')\n",
    "\n",
    "action_CST_1300 = np.loadtxt('data/action_in_CST_matrix_rand_seed1300.csv',delimiter=',')\n",
    "action_filttune_full_1300 = np.loadtxt('data/action_in_filttune_matrix_19_seed1300.csv',delimiter=',')\n",
    "\n",
    "golden_CST = np.array([0.627372, 0.849978, 0.950813, 0.875983, 0.866188, 1.03133, 0.671715, 0.085633, 1.69804,\n",
    "                       0.508077, 0.803913, 1.08792, -0.844056, -0.484051, 1.71896, 0, 0, 0, 0]);\n",
    "golden_cmp = cmp_1300[:,-1]"
   ]
  },
  {
   "cell_type": "markdown",
   "id": "08c8e146",
   "metadata": {},
   "source": [
    "##### NOTE that golden_cmp is slightly different from Reza's data"
   ]
  },
  {
   "cell_type": "code",
   "execution_count": 6,
   "id": "019de9ed",
   "metadata": {},
   "outputs": [
    {
     "data": {
      "text/plain": [
       "array([4766.29661844, 4909.78532573, 4910.2190568 , 4905.37944946,\n",
       "       4904.92446961, 4855.83295124, 4914.39764996, 4807.78726567,\n",
       "        194.2611782 ,  160.14845903,  113.10592641,  118.10442858,\n",
       "        102.79119083,  126.7522391 ,  169.01408253,  -41.58845174,\n",
       "        -21.02683131,    5.54469257,  -52.02574186])"
      ]
     },
     "execution_count": 6,
     "metadata": {},
     "output_type": "execute_result"
    }
   ],
   "source": [
    "golden_cmp"
   ]
  },
  {
   "cell_type": "code",
   "execution_count": 31,
   "id": "3dab8421",
   "metadata": {},
   "outputs": [
    {
     "data": {
      "text/plain": [
       "(19,)"
      ]
     },
     "execution_count": 31,
     "metadata": {},
     "output_type": "execute_result"
    }
   ],
   "source": [
    "cmp_1300[:,0].shape"
   ]
  },
  {
   "cell_type": "code",
   "execution_count": 37,
   "id": "51b57726",
   "metadata": {},
   "outputs": [
    {
     "name": "stdout",
     "output_type": "stream",
     "text": [
      "[[ 4.72147742e+03]\n",
      " [ 4.94545966e+03]\n",
      " [ 4.85879171e+03]\n",
      " [ 4.89647984e+03]\n",
      " [ 4.90489332e+03]\n",
      " [ 4.84682887e+03]\n",
      " [ 4.87989926e+03]\n",
      " [ 4.83851168e+03]\n",
      " [ 2.05579630e+02]\n",
      " [ 1.50376547e+02]\n",
      " [ 1.34360300e+02]\n",
      " [ 1.05952012e+02]\n",
      " [ 1.18400414e+02]\n",
      " [ 1.38159048e+02]\n",
      " [ 1.67214006e+02]\n",
      " [-3.92318815e+01]\n",
      " [-2.34296935e+01]\n",
      " [ 2.72179182e+00]\n",
      " [-4.97572356e+01]]\n"
     ]
    },
    {
     "data": {
      "text/plain": [
       "array([ 4.72147742e+03,  4.94545966e+03,  4.85879171e+03,  4.89647984e+03,\n",
       "        4.90489332e+03,  4.84682887e+03,  4.87989926e+03,  4.83851168e+03,\n",
       "        2.05579630e+02,  1.50376547e+02,  1.34360300e+02,  1.05952012e+02,\n",
       "        1.18400414e+02,  1.38159048e+02,  1.67214006e+02, -3.92318815e+01,\n",
       "       -2.34296935e+01,  2.72179182e+00, -4.97572356e+01])"
      ]
     },
     "execution_count": 37,
     "metadata": {},
     "output_type": "execute_result"
    }
   ],
   "source": [
    "tmp = map_screws_to_cmp_modified(screw_pos_1300[:,0])\n",
    "print(tmp)\n",
    "tmp.reshape(19,)"
   ]
  },
  {
   "cell_type": "code",
   "execution_count": 21,
   "id": "1dac2e81",
   "metadata": {},
   "outputs": [
    {
     "data": {
      "text/plain": [
       "array([ 0.00000000e+00,  0.00000000e+00,  0.00000000e+00,  0.00000000e+00,\n",
       "        0.00000000e+00,  0.00000000e+00,  0.00000000e+00,  0.00000000e+00,\n",
       "        0.00000000e+00,  0.00000000e+00,  0.00000000e+00,  0.00000000e+00,\n",
       "        0.00000000e+00,  0.00000000e+00,  0.00000000e+00,  0.00000000e+00,\n",
       "       -3.55271368e-15,  4.44089210e-16, -7.10542736e-15])"
      ]
     },
     "execution_count": 21,
     "metadata": {},
     "output_type": "execute_result"
    }
   ],
   "source": [
    "action_filttune_full_1300[:,0] + golden_cmp - cmp_1300[:,0]"
   ]
  },
  {
   "cell_type": "code",
   "execution_count": 22,
   "id": "e30b0b0c",
   "metadata": {},
   "outputs": [
    {
     "data": {
      "text/plain": [
       "(19, 4802)"
      ]
     },
     "execution_count": 22,
     "metadata": {},
     "output_type": "execute_result"
    }
   ],
   "source": [
    "screw_pos_1300.shape"
   ]
  },
  {
   "cell_type": "markdown",
   "id": "87e7f42c",
   "metadata": {},
   "source": [
    "## Screw_pos = action_CST + golden_CST, cmp = action_filttune + golden_cmp"
   ]
  },
  {
   "cell_type": "markdown",
   "id": "923e9e32",
   "metadata": {},
   "source": [
    "### predicted cmp using linear interpolator"
   ]
  },
  {
   "cell_type": "code",
   "execution_count": 41,
   "id": "1cf4b8e9",
   "metadata": {},
   "outputs": [],
   "source": [
    "cmp_pred_lininter = np.zeros([19,4802])\n",
    "\n",
    "for i in range(4802):\n",
    "    cmp_pred_lininter[:,i] = map_screws_to_cmp_modified(screw_pos_1300[:,i]).reshape(19,)"
   ]
  },
  {
   "cell_type": "code",
   "execution_count": 42,
   "id": "7b802e99",
   "metadata": {
    "collapsed": true,
    "jupyter": {
     "outputs_hidden": true
    }
   },
   "outputs": [
    {
     "data": {
      "text/plain": [
       "array([[ 4.72147742e+03,  4.76894867e+03,  4.80605552e+03,\n",
       "         4.78835101e+03,  4.78877592e+03,  4.67836130e+03,\n",
       "         4.69371367e+03,  4.80650724e+03,  4.71008538e+03,\n",
       "         4.78927195e+03,  4.80705665e+03,  4.77257279e+03,\n",
       "         4.83253060e+03,  4.83828410e+03,  4.83984360e+03],\n",
       "       [ 4.94545966e+03,  4.88367578e+03,  4.86468185e+03,\n",
       "         4.94486863e+03,  4.91346708e+03,  4.89606294e+03,\n",
       "         4.90311170e+03,  4.89294504e+03,  4.91984337e+03,\n",
       "         4.88511654e+03,  4.90148057e+03,  4.86523321e+03,\n",
       "         4.91794688e+03,  4.83889334e+03,  4.94750253e+03],\n",
       "       [ 4.85879171e+03,  4.95546868e+03,  4.93110057e+03,\n",
       "         4.93428820e+03,  4.96216462e+03,  4.93653870e+03,\n",
       "         4.96972367e+03,  4.84624575e+03,  4.93270085e+03,\n",
       "         4.92089030e+03,  4.86503256e+03,  4.96566787e+03,\n",
       "         4.90909807e+03,  4.90361400e+03,  4.87192916e+03],\n",
       "       [ 4.89647984e+03,  4.93093739e+03,  4.92918162e+03,\n",
       "         4.92631249e+03,  4.86785062e+03,  4.95872697e+03,\n",
       "         4.87758487e+03,  4.90139123e+03,  4.87291359e+03,\n",
       "         4.92639409e+03,  4.86797449e+03,  4.88059614e+03,\n",
       "         4.91205734e+03,  4.89118861e+03,  4.94557127e+03],\n",
       "       [ 4.90489332e+03,  4.85771929e+03,  4.90588142e+03,\n",
       "         4.88481853e+03,  4.88756119e+03,  4.93867355e+03,\n",
       "         4.88627265e+03,  4.90405770e+03,  4.88911465e+03,\n",
       "         4.90655611e+03,  4.86413745e+03,  4.85483628e+03,\n",
       "         4.89023350e+03,  4.88200029e+03,  4.90500723e+03],\n",
       "       [ 4.84682887e+03,  4.89684636e+03,  4.85920220e+03,\n",
       "         4.86408119e+03,  4.88920123e+03,  4.87903957e+03,\n",
       "         4.84172337e+03,  4.87136142e+03,  4.84982412e+03,\n",
       "         4.87003391e+03,  4.83399643e+03,  4.79794790e+03,\n",
       "         4.83080267e+03,  4.86858235e+03,  4.85284714e+03],\n",
       "       [ 4.87989926e+03,  4.92236172e+03,  4.87780233e+03,\n",
       "         4.95317112e+03,  4.92429962e+03,  4.95484420e+03,\n",
       "         4.96507323e+03,  4.82093800e+03,  4.95664901e+03,\n",
       "         4.85081503e+03,  4.91914764e+03,  4.94642382e+03,\n",
       "         4.92130885e+03,  4.90851364e+03,  4.90590672e+03],\n",
       "       [ 4.83851168e+03,  4.80869081e+03,  4.78769390e+03,\n",
       "         4.80036606e+03,  4.73518732e+03,  4.75457769e+03,\n",
       "         4.70881756e+03,  4.86740141e+03,  4.90609967e+03,\n",
       "         4.75631879e+03,  4.85801057e+03,  4.87820424e+03,\n",
       "         4.82545765e+03,  4.89062652e+03,  4.82653959e+03],\n",
       "       [ 2.05579630e+02,  1.93508555e+02,  1.93470320e+02,\n",
       "         2.21332323e+02,  2.32809785e+02,  1.85344008e+02,\n",
       "         2.06866534e+02,  2.22555852e+02,  2.03446770e+02,\n",
       "         2.02307641e+02,  1.95218158e+02,  1.91596958e+02,\n",
       "         2.17445198e+02,  1.96465166e+02,  2.01915028e+02],\n",
       "       [ 1.50376547e+02,  1.52806398e+02,  1.43239356e+02,\n",
       "         1.43670453e+02,  1.48122765e+02,  1.66978310e+02,\n",
       "         1.59752793e+02,  1.31589877e+02,  2.10405189e+02,\n",
       "         1.96701676e+02,  1.44507445e+02,  1.80006131e+02,\n",
       "         1.45954366e+02,  1.69533354e+02,  1.92914606e+02],\n",
       "       [ 1.34360300e+02,  1.14214124e+02,  1.05407238e+02,\n",
       "         1.35993241e+02,  1.02463457e+02,  1.16100127e+02,\n",
       "         1.15967415e+02,  1.21582701e+02,  1.09823675e+02,\n",
       "         1.24072960e+02,  1.06176616e+02,  1.05145895e+02,\n",
       "         1.05627624e+02,  1.04293422e+02,  1.15776341e+02],\n",
       "       [ 1.05952012e+02,  1.47849147e+02,  1.06449461e+02,\n",
       "         1.05005629e+02,  1.25520088e+02,  1.13070074e+02,\n",
       "         1.13467838e+02,  1.14791718e+02,  1.03919889e+02,\n",
       "         1.40407631e+02,  1.42877362e+02,  1.23027852e+02,\n",
       "         1.29833798e+02,  1.20533801e+02,  1.08360998e+02],\n",
       "       [ 1.18400414e+02,  1.04395101e+02,  1.41829189e+02,\n",
       "         1.04474157e+02,  1.17115200e+02,  1.07085559e+02,\n",
       "         1.42103958e+02,  1.20351739e+02,  1.36199726e+02,\n",
       "         1.15568730e+02,  1.46815608e+02,  1.00937383e+02,\n",
       "         1.03082721e+02,  1.15491428e+02,  1.07029024e+02],\n",
       "       [ 1.38159048e+02,  1.49079946e+02,  1.34519606e+02,\n",
       "         1.54752877e+02,  1.17245984e+02,  1.21514737e+02,\n",
       "         1.11870743e+02,  1.22517710e+02,  1.42535037e+02,\n",
       "         1.22939132e+02,  1.24116962e+02,  1.36663765e+02,\n",
       "         1.16626072e+02,  1.42404392e+02,  1.23508820e+02],\n",
       "       [ 1.67214006e+02,  1.44024817e+02,  1.49294215e+02,\n",
       "         1.78259352e+02,  1.42592655e+02,  1.76464510e+02,\n",
       "         1.38058698e+02,  2.07038377e+02,  2.22289139e+02,\n",
       "         1.44127054e+02,  1.50081076e+02,  1.69630691e+02,\n",
       "         1.47205942e+02,  2.24522744e+02,  1.85464289e+02],\n",
       "       [-3.92318815e+01, -4.32990311e+01, -4.03179002e+01,\n",
       "        -3.93265224e+01, -4.26208531e+01, -3.95003462e+01,\n",
       "        -3.86597875e+01, -4.23944881e+01, -4.16237815e+01,\n",
       "        -4.37797429e+01, -4.51450321e+01, -4.10006097e+01,\n",
       "        -4.32465281e+01, -4.18078604e+01, -4.50382842e+01],\n",
       "       [-2.34296935e+01, -2.01286359e+01, -2.22921530e+01,\n",
       "        -2.14008094e+01, -2.18610447e+01, -2.04018301e+01,\n",
       "        -2.13537243e+01, -1.99632889e+01, -1.93150642e+01,\n",
       "        -2.25343503e+01, -2.36857132e+01, -2.08119524e+01,\n",
       "        -2.36582551e+01, -1.98771011e+01, -2.09871637e+01],\n",
       "       [ 2.72179182e+00,  2.63598655e+00,  7.07716884e+00,\n",
       "         6.58007995e+00,  8.30903961e+00,  7.10449319e+00,\n",
       "         3.10823476e+00,  6.53030415e+00,  7.82849264e+00,\n",
       "         1.50578156e+00,  1.88219027e+00,  5.81268834e+00,\n",
       "         4.24726827e+00,  7.76998317e+00,  3.25806520e+00],\n",
       "       [-4.97572356e+01, -5.39723460e+01, -4.76546529e+01,\n",
       "        -5.08995407e+01, -5.44278438e+01, -5.36096595e+01,\n",
       "        -5.33130426e+01, -4.86178455e+01, -4.98735845e+01,\n",
       "        -5.14671439e+01, -5.22190721e+01, -5.49422506e+01,\n",
       "        -5.02146667e+01, -5.09267707e+01, -5.14716655e+01]])"
      ]
     },
     "execution_count": 42,
     "metadata": {},
     "output_type": "execute_result"
    }
   ],
   "source": [
    "cmp_pred_lininter[:,0:15]"
   ]
  },
  {
   "cell_type": "markdown",
   "id": "ecdbb9c2",
   "metadata": {},
   "source": [
    "### predicted cmp using regression model"
   ]
  },
  {
   "cell_type": "code",
   "execution_count": 49,
   "id": "d70d00e1",
   "metadata": {
    "collapsed": true,
    "jupyter": {
     "outputs_hidden": true
    }
   },
   "outputs": [
    {
     "name": "stderr",
     "output_type": "stream",
     "text": [
      "2022-01-11 12:48:39.627535: I tensorflow/stream_executor/cuda/cuda_gpu_executor.cc:981] successful NUMA node read from SysFS had negative value (-1), but there must be at least one NUMA node, so returning NUMA node zero\n",
      "2022-01-11 12:48:39.628198: I tensorflow/compiler/xla/service/service.cc:168] XLA service 0x5650d63444f0 initialized for platform CUDA (this does not guarantee that XLA will be used). Devices:\n",
      "2022-01-11 12:48:39.628225: I tensorflow/compiler/xla/service/service.cc:176]   StreamExecutor device (0): Tesla T4, Compute Capability 7.5\n",
      "2022-01-11 12:48:39.628502: I tensorflow/stream_executor/cuda/cuda_gpu_executor.cc:981] successful NUMA node read from SysFS had negative value (-1), but there must be at least one NUMA node, so returning NUMA node zero\n",
      "2022-01-11 12:48:39.629076: I tensorflow/core/common_runtime/gpu/gpu_device.cc:1555] Found device 0 with properties: \n",
      "pciBusID: 0000:00:04.0 name: Tesla T4 computeCapability: 7.5\n",
      "coreClock: 1.59GHz coreCount: 40 deviceMemorySize: 14.75GiB deviceMemoryBandwidth: 298.08GiB/s\n",
      "2022-01-11 12:48:39.629174: I tensorflow/stream_executor/platform/default/dso_loader.cc:48] Successfully opened dynamic library libcudart.so.11.0\n",
      "2022-01-11 12:48:39.629203: I tensorflow/stream_executor/platform/default/dso_loader.cc:48] Successfully opened dynamic library libcublas.so.11\n",
      "2022-01-11 12:48:39.629223: I tensorflow/stream_executor/platform/default/dso_loader.cc:48] Successfully opened dynamic library libcufft.so.10\n",
      "2022-01-11 12:48:39.629237: I tensorflow/stream_executor/platform/default/dso_loader.cc:48] Successfully opened dynamic library libcurand.so.10\n",
      "2022-01-11 12:48:39.629251: I tensorflow/stream_executor/platform/default/dso_loader.cc:48] Successfully opened dynamic library libcusolver.so.10\n",
      "2022-01-11 12:48:39.629265: I tensorflow/stream_executor/platform/default/dso_loader.cc:48] Successfully opened dynamic library libcusparse.so.11\n",
      "2022-01-11 12:48:39.629279: I tensorflow/stream_executor/platform/default/dso_loader.cc:48] Successfully opened dynamic library libcudnn.so.8\n",
      "2022-01-11 12:48:39.629354: I tensorflow/stream_executor/cuda/cuda_gpu_executor.cc:981] successful NUMA node read from SysFS had negative value (-1), but there must be at least one NUMA node, so returning NUMA node zero\n",
      "2022-01-11 12:48:39.629925: I tensorflow/stream_executor/cuda/cuda_gpu_executor.cc:981] successful NUMA node read from SysFS had negative value (-1), but there must be at least one NUMA node, so returning NUMA node zero\n",
      "2022-01-11 12:48:39.630495: I tensorflow/core/common_runtime/gpu/gpu_device.cc:1697] Adding visible gpu devices: 0\n",
      "2022-01-11 12:48:39.961455: I tensorflow/core/common_runtime/gpu/gpu_device.cc:1096] Device interconnect StreamExecutor with strength 1 edge matrix:\n",
      "2022-01-11 12:48:39.961497: I tensorflow/core/common_runtime/gpu/gpu_device.cc:1102]      0 \n",
      "2022-01-11 12:48:39.961505: I tensorflow/core/common_runtime/gpu/gpu_device.cc:1115] 0:   N \n",
      "2022-01-11 12:48:39.961746: I tensorflow/stream_executor/cuda/cuda_gpu_executor.cc:981] successful NUMA node read from SysFS had negative value (-1), but there must be at least one NUMA node, so returning NUMA node zero\n",
      "2022-01-11 12:48:39.962434: I tensorflow/stream_executor/cuda/cuda_gpu_executor.cc:981] successful NUMA node read from SysFS had negative value (-1), but there must be at least one NUMA node, so returning NUMA node zero\n",
      "2022-01-11 12:48:39.962970: I tensorflow/core/common_runtime/gpu/gpu_device.cc:1241] Created TensorFlow device (/job:localhost/replica:0/task:0/device:GPU:0 with 13661 MB memory) -> physical GPU (device: 0, name: Tesla T4, pci bus id: 0000:00:04.0, compute capability: 7.5)\n"
     ]
    }
   ],
   "source": [
    "# load the trained model\n",
    "reg_CF = load_model('model/model_comp_small_ST13_0_CF.h5')"
   ]
  },
  {
   "cell_type": "code",
   "execution_count": 53,
   "id": "9cea85db",
   "metadata": {},
   "outputs": [],
   "source": [
    "action_filttune_pred = reg_CF.predict(action_CST_1300.transpose())"
   ]
  },
  {
   "cell_type": "code",
   "execution_count": 57,
   "id": "37ddc4f7",
   "metadata": {},
   "outputs": [],
   "source": [
    "cmp_pred_reg = np.zeros([19,4802])\n",
    "tmp = action_filttune_pred.transpose()\n",
    "\n",
    "for i in range(4802):\n",
    "    cmp_pred_reg[:,i] = tmp[:,i] + golden_cmp"
   ]
  },
  {
   "cell_type": "markdown",
   "id": "9bd19608",
   "metadata": {},
   "source": [
    "### metrics"
   ]
  },
  {
   "cell_type": "code",
   "execution_count": 59,
   "id": "d582566b",
   "metadata": {},
   "outputs": [
    {
     "name": "stdout",
     "output_type": "stream",
     "text": [
      "The full metrics\n",
      "--------------------------------------\n",
      "MSE of interpolator is 19.581417011309377\n",
      "MSE of regression is 7.478222035527945\n"
     ]
    }
   ],
   "source": [
    "mse_lininter = metrics.mean_squared_error(cmp_1300[:,0:4802], cmp_pred_lininter)\n",
    "mse_reg = metrics.mean_squared_error(cmp_1300[:,0:4802], cmp_pred_reg)\n",
    "\n",
    "print(\"The full metrics\")\n",
    "print(\"--------------------------------------\")\n",
    "print('MSE of interpolator is {}'.format(mse_lininter))\n",
    "print('MSE of regression is {}'.format(mse_reg))"
   ]
  },
  {
   "cell_type": "code",
   "execution_count": 60,
   "id": "192496b7",
   "metadata": {},
   "outputs": [
    {
     "name": "stdout",
     "output_type": "stream",
     "text": [
      "The metrics of F-type screws\n",
      "--------------------------------------\n",
      "MSE of interpolator is 28.130352340914\n",
      "MSE of regression is 9.06283477314004\n"
     ]
    }
   ],
   "source": [
    "mse_lininter_F = metrics.mean_squared_error(cmp_1300[0:8,0:4802], cmp_pred_lininter[0:8,:])\n",
    "mse_reg_F = metrics.mean_squared_error(cmp_1300[0:8,0:4802], cmp_pred_reg[0:8,:])\n",
    "\n",
    "print(\"The metrics of F-type screws\")\n",
    "print(\"--------------------------------------\")\n",
    "print('MSE of interpolator is {}'.format(mse_lininter_F))\n",
    "print('MSE of regression is {}'.format(mse_reg_F))"
   ]
  },
  {
   "cell_type": "markdown",
   "id": "7d9efee1",
   "metadata": {},
   "source": [
    "# Modify regression model to map cst screws position to cmp"
   ]
  }
 ],
 "metadata": {
  "environment": {
   "name": "tf2-gpu.2-1.m78",
   "type": "gcloud",
   "uri": "gcr.io/deeplearning-platform-release/tf2-gpu.2-1:m78"
  },
  "kernelspec": {
   "display_name": "Python 3",
   "language": "python",
   "name": "python3"
  },
  "language_info": {
   "codemirror_mode": {
    "name": "ipython",
    "version": 3
   },
   "file_extension": ".py",
   "mimetype": "text/x-python",
   "name": "python",
   "nbconvert_exporter": "python",
   "pygments_lexer": "ipython3",
   "version": "3.7.10"
  }
 },
 "nbformat": 4,
 "nbformat_minor": 5
}
