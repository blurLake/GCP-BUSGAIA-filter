{
 "cells": [
  {
   "cell_type": "code",
   "execution_count": 2,
   "id": "389bc585",
   "metadata": {},
   "outputs": [],
   "source": [
    "import numpy as np\n",
    "import matplotlib.pyplot as plt\n",
    "\n",
    "from sklearn.model_selection import train_test_split\n",
    "from sklearn.metrics import r2_score\n",
    "from sklearn import metrics"
   ]
  },
  {
   "cell_type": "markdown",
   "id": "c5a41461",
   "metadata": {},
   "source": [
    "## load the data"
   ]
  },
  {
   "cell_type": "markdown",
   "id": "daadb897",
   "metadata": {},
   "source": [
    "### action data"
   ]
  },
  {
   "cell_type": "code",
   "execution_count": 3,
   "id": "4cae3aea",
   "metadata": {},
   "outputs": [],
   "source": [
    "# last column in action_filttune is the origin in filttune\n",
    "action_CST_400 = np.loadtxt('data/action_in_CST_matrix_rand_seed400.csv',delimiter=',')\n",
    "action_filttune_full_400 = np.loadtxt('data/action_in_filttune_matrix_19_seed400.csv',delimiter=',')\n",
    "\n",
    "action_CST_500 = np.loadtxt('data/action_in_CST_matrix_rand_seed500.csv',delimiter=',')\n",
    "action_filttune_full_500 = np.loadtxt('data/action_in_filttune_matrix_19_seed500.csv',delimiter=',')\n",
    "\n",
    "action_CST_600 = np.loadtxt('data/action_in_CST_matrix_rand_seed600.csv',delimiter=',')\n",
    "action_filttune_full_600 = np.loadtxt('data/action_in_filttune_matrix_19_seed600.csv',delimiter=',')\n",
    "\n",
    "action_CST_700 = np.loadtxt('data/action_in_CST_matrix_rand_seed700.csv',delimiter=',')\n",
    "action_filttune_full_700 = np.loadtxt('data/action_in_filttune_matrix_19_seed700.csv',delimiter=',')\n",
    "\n",
    "action_CST_800 = np.loadtxt('data/action_in_CST_matrix_rand_seed800.csv',delimiter=',')\n",
    "action_filttune_full_800 = np.loadtxt('data/action_in_filttune_matrix_19_seed800.csv',delimiter=',')\n",
    "\n",
    "action_CST_900 = np.loadtxt('data/action_in_CST_matrix_rand_seed900.csv',delimiter=',')\n",
    "action_filttune_full_900 = np.loadtxt('data/action_in_filttune_matrix_19_seed900.csv',delimiter=',')\n",
    "\n",
    "action_CST_1000 = np.loadtxt('data/action_in_CST_matrix_rand_seed1000.csv',delimiter=',')\n",
    "action_filttune_full_1000 = np.loadtxt('data/action_in_filttune_matrix_19_seed1000.csv',delimiter=',')\n",
    "\n",
    "action_CST_1100 = np.loadtxt('data/action_in_CST_matrix_rand_seed1100.csv',delimiter=',')\n",
    "action_filttune_full_1100 = np.loadtxt('data/action_in_filttune_matrix_19_seed1100.csv',delimiter=',')\n",
    "\n",
    "action_CST_1200 = np.loadtxt('data/action_in_CST_matrix_rand_seed1200.csv',delimiter=',')\n",
    "action_filttune_full_1200 = np.loadtxt('data/action_in_filttune_matrix_19_seed1200.csv',delimiter=',')\n",
    "\n",
    "action_CST_1300 = np.loadtxt('data/action_in_CST_matrix_rand_seed1300.csv',delimiter=',')\n",
    "action_filttune_full_1300 = np.loadtxt('data/action_in_filttune_matrix_19_seed1300.csv',delimiter=',')\n",
    "\n",
    "action_CST_1300F012mm = np.loadtxt('data/action_in_CST_matrix_rand_seed1300.csv',delimiter=',')\n",
    "action_filttune_full_1300F012mm = np.loadtxt('data/action_in_filttune_matrix_19_seed1300F012mm.csv',delimiter=',')"
   ]
  },
  {
   "cell_type": "code",
   "execution_count": 5,
   "id": "159054bc",
   "metadata": {},
   "outputs": [
    {
     "data": {
      "text/plain": [
       "(19, 4803)"
      ]
     },
     "execution_count": 5,
     "metadata": {},
     "output_type": "execute_result"
    }
   ],
   "source": [
    "action_filttune_full_1300.shape"
   ]
  },
  {
   "cell_type": "code",
   "execution_count": 4,
   "id": "c4a8cce7",
   "metadata": {},
   "outputs": [],
   "source": [
    "action_filttune_400 = action_filttune_full_400[:,0:5372]\n",
    "action_filttune_500 = action_filttune_full_500[:,0:3201]\n",
    "action_filttune_600 = action_filttune_full_600[:,0:3636]\n",
    "\n",
    "action_filttune_700 = action_filttune_full_700[:,0:855]\n",
    "action_filttune_800 = action_filttune_full_800[:,0:482]\n",
    "\n",
    "action_filttune_900  = action_filttune_full_900[:,0:1083]\n",
    "action_filttune_1000 = action_filttune_full_1000[:,0:1068]\n",
    "action_filttune_1100 = action_filttune_full_1100[:,0:2910]\n",
    "action_filttune_1200 = action_filttune_full_1200[:,0:3878]\n",
    "\n",
    "action_filttune_1300 = action_filttune_full_1300[:,0:4802]\n",
    "action_filttune_1300F012mm = action_filttune_full_1300[:,0:4347]"
   ]
  },
  {
   "cell_type": "markdown",
   "id": "d931c97e",
   "metadata": {},
   "source": [
    "### cmp and screw position"
   ]
  },
  {
   "cell_type": "code",
   "execution_count": 5,
   "id": "80a4f6f8",
   "metadata": {},
   "outputs": [],
   "source": [
    "cmp_full_400 = np.loadtxt('data/cmp_matrix_19_seed400.csv',delimiter=',')\n",
    "\n",
    "SP_500 = np.loadtxt('data/screw_position_CST_matrix_random_500.csv',delimiter=',')\n",
    "#cmp_full_500 = np.loadtxt('data/cmp_matrix_19_seed500.csv',delimiter=',')\n",
    "\n",
    "SP_600 = np.loadtxt('data/screw_position_CST_matrix_random_600.csv',delimiter=',')\n",
    "cmp_full_600 = np.loadtxt('data/cmp_matrix_19_seed600.csv',delimiter=',')\n",
    "\n",
    "SP_700 = np.loadtxt('data/screw_position_CST_matrix_random_700.csv',delimiter=',')\n",
    "cmp_full_700 = np.loadtxt('data/cmp_matrix_19_seed700.csv',delimiter=',')\n",
    "\n",
    "SP_800 = np.loadtxt('data/screw_position_CST_matrix_random_800.csv',delimiter=',')\n",
    "cmp_full_800 = np.loadtxt('data/cmp_matrix_19_seed800.csv',delimiter=',')\n",
    "\n",
    "SP_900 = np.loadtxt('data/screw_position_CST_matrix_random_900.csv',delimiter=',')\n",
    "cmp_full_900 = np.loadtxt('data/cmp_matrix_19_seed900.csv',delimiter=',')\n",
    "\n",
    "SP_1000 = np.loadtxt('data/screw_position_CST_matrix_random_1000.csv',delimiter=',')\n",
    "cmp_full_1000 = np.loadtxt('data/cmp_matrix_19_seed1000.csv',delimiter=',')\n",
    "\n",
    "SP_1100 = np.loadtxt('data/screw_position_CST_matrix_random_1100.csv',delimiter=',')\n",
    "cmp_full_1100 = np.loadtxt('data/cmp_matrix_19_seed1100.csv',delimiter=',')\n",
    "\n",
    "SP_1200 = np.loadtxt('data/screw_position_CST_matrix_random_1200.csv',delimiter=',')\n",
    "cmp_full_1200 = np.loadtxt('data/cmp_matrix_19_seed1200.csv',delimiter=',')\n",
    "\n",
    "SP_1300 = np.loadtxt('data/screw_position_CST_matrix_random_1300.csv',delimiter=',')\n",
    "cmp_full_1300 = np.loadtxt('data/cmp_matrix_19_seed1300.csv',delimiter=',')\n",
    "\n",
    "SP_1300F012mm = np.loadtxt('data/screw_position_CST_matrix_random_1300F012mm.csv',delimiter=',')\n",
    "cmp_full_1300F012mm = np.loadtxt('data/cmp_matrix_19_seed1300F012mm.csv',delimiter=',')"
   ]
  },
  {
   "cell_type": "code",
   "execution_count": 6,
   "id": "a2a9183c",
   "metadata": {},
   "outputs": [],
   "source": [
    "cmp_400  = cmp_full_400[:,0:5372]\n",
    "\n",
    "cmp_500 = (action_filttune_500.transpose() + action_filttune_full_500[:,3201]).transpose()\n",
    "\n",
    "cmp_600  = cmp_full_600[:,0:3636]\n",
    "\n",
    "cmp_700  = cmp_full_700[:,0:855]\n",
    "cmp_800  = cmp_full_800[:,0:482]\n",
    "\n",
    "cmp_900  = cmp_full_900[:,0:1083]\n",
    "cmp_1000 = cmp_full_1000[:,0:1068]\n",
    "cmp_1100 = cmp_full_1100[:,0:2910]\n",
    "cmp_1200 = cmp_full_1200[:,0:3878]\n",
    "\n",
    "cmp_1300 = cmp_full_1300[:,0:4802]\n",
    "\n",
    "cmp_1300F012mm = cmp_full_1300F012mm[:,0:4347]"
   ]
  },
  {
   "cell_type": "code",
   "execution_count": 9,
   "id": "a8dad3c1",
   "metadata": {},
   "outputs": [
    {
     "data": {
      "text/plain": [
       "array([ 0.05237951,  1.40323185,  0.45717698,  1.62236941,  0.86922861,\n",
       "        1.30648692,  0.64812832,  0.52867434,  2.52954024, -1.28398352,\n",
       "        1.12461483,  1.55529156, -2.24853122,  0.35181884,  3.3748146 ,\n",
       "        0.26362294, -0.17300691,  0.8903241 , -0.52809354])"
      ]
     },
     "execution_count": 9,
     "metadata": {},
     "output_type": "execute_result"
    }
   ],
   "source": [
    "SP_1000[:,-1]"
   ]
  },
  {
   "cell_type": "code",
   "execution_count": 7,
   "id": "0b4c3121",
   "metadata": {},
   "outputs": [],
   "source": [
    "temp_400 = (action_filttune_1300F012mm.transpose() + action_filttune_full_400[:,-1]).transpose()"
   ]
  },
  {
   "cell_type": "code",
   "execution_count": 9,
   "id": "6aceb749",
   "metadata": {},
   "outputs": [
    {
     "data": {
      "text/plain": [
       "array([[ 0.00000000e+00,  0.00000000e+00,  0.00000000e+00,\n",
       "         0.00000000e+00],\n",
       "       [ 0.00000000e+00,  0.00000000e+00,  0.00000000e+00,\n",
       "         0.00000000e+00],\n",
       "       [ 0.00000000e+00,  0.00000000e+00,  0.00000000e+00,\n",
       "         0.00000000e+00],\n",
       "       [ 0.00000000e+00,  0.00000000e+00,  0.00000000e+00,\n",
       "         0.00000000e+00],\n",
       "       [ 0.00000000e+00,  0.00000000e+00,  0.00000000e+00,\n",
       "         0.00000000e+00],\n",
       "       [ 0.00000000e+00,  0.00000000e+00,  0.00000000e+00,\n",
       "         0.00000000e+00],\n",
       "       [ 0.00000000e+00,  0.00000000e+00,  0.00000000e+00,\n",
       "         0.00000000e+00],\n",
       "       [ 0.00000000e+00,  0.00000000e+00,  0.00000000e+00,\n",
       "         0.00000000e+00],\n",
       "       [ 0.00000000e+00,  0.00000000e+00,  0.00000000e+00,\n",
       "         0.00000000e+00],\n",
       "       [ 0.00000000e+00,  0.00000000e+00,  0.00000000e+00,\n",
       "         0.00000000e+00],\n",
       "       [ 0.00000000e+00,  0.00000000e+00,  0.00000000e+00,\n",
       "         0.00000000e+00],\n",
       "       [ 2.84217094e-14,  0.00000000e+00,  0.00000000e+00,\n",
       "         0.00000000e+00],\n",
       "       [ 0.00000000e+00,  0.00000000e+00,  0.00000000e+00,\n",
       "         0.00000000e+00],\n",
       "       [ 1.42108547e-14,  2.84217094e-14,  0.00000000e+00,\n",
       "         0.00000000e+00],\n",
       "       [-2.84217094e-14,  0.00000000e+00,  0.00000000e+00,\n",
       "         0.00000000e+00],\n",
       "       [ 0.00000000e+00,  0.00000000e+00,  0.00000000e+00,\n",
       "         0.00000000e+00],\n",
       "       [-1.77635684e-15, -3.55271368e-15,  0.00000000e+00,\n",
       "        -3.55271368e-15],\n",
       "       [ 0.00000000e+00,  0.00000000e+00,  4.44089210e-16,\n",
       "         8.88178420e-16],\n",
       "       [ 0.00000000e+00,  0.00000000e+00,  7.10542736e-15,\n",
       "         0.00000000e+00]])"
      ]
     },
     "execution_count": 9,
     "metadata": {},
     "output_type": "execute_result"
    }
   ],
   "source": [
    "temp_400[:,-5:-1] - cmp_1300F012mm[:,-5:-1]"
   ]
  },
  {
   "cell_type": "code",
   "execution_count": 16,
   "id": "6ee5c144",
   "metadata": {},
   "outputs": [
    {
     "data": {
      "text/plain": [
       "array([0., 0., 0., 0., 0., 0., 0., 0., 0., 0., 0., 0., 0., 0., 0., 0., 0.,\n",
       "       0., 0.])"
      ]
     },
     "execution_count": 16,
     "metadata": {},
     "output_type": "execute_result"
    }
   ],
   "source": [
    "action_filttune_full_600[:,-1] - action_filttune_full_1200[:,-1]"
   ]
  },
  {
   "cell_type": "markdown",
   "id": "555ae106",
   "metadata": {},
   "source": [
    "### add some golden data"
   ]
  },
  {
   "cell_type": "code",
   "execution_count": 104,
   "id": "79fa0173",
   "metadata": {},
   "outputs": [],
   "source": [
    "cmp_origin = np.loadtxt('data/cmp_origin_19.csv',delimiter=',')\n",
    "cst_origin = np.loadtxt('data/cst_origin_19.csv',delimiter=',')"
   ]
  },
  {
   "cell_type": "markdown",
   "id": "fbcb71b3",
   "metadata": {},
   "source": [
    "## load the RMSE data"
   ]
  },
  {
   "cell_type": "code",
   "execution_count": 10,
   "id": "c4d8f83d",
   "metadata": {},
   "outputs": [],
   "source": [
    "#load the RMSE data.\n",
    "#1st row: rmse; 2nd row: mrse\n",
    "RMS_400  = np.loadtxt('data/RMS_seed400.csv',delimiter=',')\n",
    "RMS_500  = np.loadtxt('data/RMS_seed500.csv',delimiter=',')\n",
    "RMS_600  = np.loadtxt('data/RMS_seed600.csv',delimiter=',')\n",
    "RMS_700  = np.loadtxt('data/RMS_seed700.csv',delimiter=',')\n",
    "RMS_800  = np.loadtxt('data/RMS_seed800.csv',delimiter=',')\n",
    "RMS_900  = np.loadtxt('data/RMS_seed900.csv',delimiter=',')\n",
    "RMS_1000 = np.loadtxt('data/RMS_seed1000.csv',delimiter=',')\n",
    "RMS_1100 = np.loadtxt('data/RMS_seed1100.csv',delimiter=',')\n",
    "RMS_1200 = np.loadtxt('data/RMS_seed1200.csv',delimiter=',')\n",
    "RMS_1300 = np.loadtxt('data/RMS_seed1300.csv',delimiter=',')\n",
    "RMS_1300F012mm = np.loadtxt('data/RMS_seed1300F012mm.csv',delimiter=',')"
   ]
  },
  {
   "cell_type": "code",
   "execution_count": 13,
   "id": "e088961e",
   "metadata": {},
   "outputs": [],
   "source": [
    "index_400 = range(action_CST_400.shape[1])\n",
    "temp_400 = RMS_400[0,:]>0.09\n",
    "to_delete_400 = index_400*temp_400\n",
    "to_delete_400 = [i for i in to_delete_400 if i != 0]\n",
    "\n",
    "index_500 = range(action_CST_500.shape[1])\n",
    "temp_500 = RMS_500[0,:]>0.09\n",
    "to_delete_500 = index_500*temp_500\n",
    "to_delete_500 = [i for i in to_delete_500 if i != 0]\n",
    "\n",
    "index_600 = range(action_CST_600.shape[1])\n",
    "temp_600 = RMS_600[0,:]>0.09\n",
    "to_delete_600 = index_600*temp_600\n",
    "to_delete_600 = [i for i in to_delete_600 if i != 0]"
   ]
  },
  {
   "cell_type": "markdown",
   "id": "566faaf5",
   "metadata": {},
   "source": [
    "### percentage of data with RMSE > 0.09"
   ]
  },
  {
   "cell_type": "code",
   "execution_count": 65,
   "id": "1923563f",
   "metadata": {},
   "outputs": [
    {
     "data": {
      "text/plain": [
       "0.3471705137751303"
      ]
     },
     "execution_count": 65,
     "metadata": {},
     "output_type": "execute_result"
    }
   ],
   "source": [
    "#seed_600\n",
    "sum(temp_400)/5372"
   ]
  },
  {
   "cell_type": "code",
   "execution_count": 66,
   "id": "32589db5",
   "metadata": {},
   "outputs": [
    {
     "data": {
      "text/plain": [
       "0.2705404561074664"
      ]
     },
     "execution_count": 66,
     "metadata": {},
     "output_type": "execute_result"
    }
   ],
   "source": [
    "#seed_500\n",
    "sum(temp_500)/3201"
   ]
  },
  {
   "cell_type": "code",
   "execution_count": 11,
   "id": "7f1786ed",
   "metadata": {},
   "outputs": [
    {
     "data": {
      "image/png": "[encoded data removed]",
      "text/plain": [
       "<Figure size 576x288 with 3 Axes>"
      ]
     },
     "metadata": {
      "needs_background": "light"
     },
     "output_type": "display_data"
    }
   ],
   "source": [
    "fig, axs = plt.subplots(1, 3, figsize =(8,4))\n",
    "bins = np.linspace(0, 0.6)\n",
    " \n",
    "# distribution of screw positions in CST\n",
    "axs[0].hist(RMS_1300F012mm[0,:].transpose(),bins,20)\n",
    "axs[0].set_title('RMSE 1300')\n",
    "\n",
    "axs[1].hist(RMS_500[0,:].transpose(),bins,20)\n",
    "axs[1].set_title('RMSE 500')\n",
    " \n",
    "axs[2].hist(RMS_600[0,:].transpose(),bins,20)\n",
    "axs[2].set_title('RMSE 600')\n",
    "\n",
    "#Show plot\n",
    "plt.show()"
   ]
  }
 ],
 "metadata": {
  "environment": {
   "name": "tf2-gpu.2-1.m78",
   "type": "gcloud",
   "uri": "gcr.io/deeplearning-platform-release/tf2-gpu.2-1:m78"
  },
  "kernelspec": {
   "display_name": "Python 3",
   "language": "python",
   "name": "python3"
  },
  "language_info": {
   "codemirror_mode": {
    "name": "ipython",
    "version": 3
   },
   "file_extension": ".py",
   "mimetype": "text/x-python",
   "name": "python",
   "nbconvert_exporter": "python",
   "pygments_lexer": "ipython3",
   "version": "3.7.10"
  }
 },
 "nbformat": 4,
 "nbformat_minor": 5
}
