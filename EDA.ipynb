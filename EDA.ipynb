{
 "cells": [
  {
   "cell_type": "code",
   "execution_count": 2,
   "id": "36eed621",
   "metadata": {},
   "outputs": [],
   "source": [
    "import numpy as np\n",
    "import matplotlib.pyplot as plt\n",
    "\n",
    "from sklearn.model_selection import train_test_split\n",
    "from sklearn.metrics import r2_score\n",
    "from sklearn import metrics"
   ]
  },
  {
   "cell_type": "markdown",
   "id": "7324cb5d",
   "metadata": {},
   "source": [
    "## load the data"
   ]
  },
  {
   "cell_type": "markdown",
   "id": "3eba32b3",
   "metadata": {},
   "source": [
    "### action data"
   ]
  },
  {
   "cell_type": "code",
   "execution_count": 3,
   "id": "7e0270b1",
   "metadata": {},
   "outputs": [],
   "source": [
    "# last column in action_filttune is the origin in filttune\n",
    "action_CST_400 = np.loadtxt('data/action_in_CST_matrix_rand_seed400.csv',delimiter=',')\n",
    "action_filttune_full_400 = np.loadtxt('data/action_in_filttune_matrix_19_seed400.csv',delimiter=',')\n",
    "\n",
    "action_CST_500 = np.loadtxt('data/action_in_CST_matrix_rand_seed500.csv',delimiter=',')\n",
    "action_filttune_full_500 = np.loadtxt('data/action_in_filttune_matrix_19_seed500.csv',delimiter=',')\n",
    "\n",
    "action_CST_700 = np.loadtxt('data/action_in_CST_matrix_rand_seed700.csv',delimiter=',')\n",
    "action_filttune_full_700 = np.loadtxt('data/action_in_filttune_matrix_19_seed700.csv',delimiter=',')\n",
    "\n",
    "action_CST_800 = np.loadtxt('data/action_in_CST_matrix_rand_seed800.csv',delimiter=',')\n",
    "action_filttune_full_800 = np.loadtxt('data/action_in_filttune_matrix_19_seed800.csv',delimiter=',')\n",
    "\n",
    "action_CST_900 = np.loadtxt('data/action_in_CST_matrix_rand_seed900.csv',delimiter=',')\n",
    "action_filttune_full_900 = np.loadtxt('data/action_in_filttune_matrix_19_seed900.csv',delimiter=',')\n",
    "\n",
    "action_CST_1000 = np.loadtxt('data/action_in_CST_matrix_rand_seed1000.csv',delimiter=',')\n",
    "action_filttune_full_1000 = np.loadtxt('data/action_in_filttune_matrix_19_seed1000.csv',delimiter=',')\n",
    "\n",
    "action_CST_1100 = np.loadtxt('data/action_in_CST_matrix_rand_seed1100.csv',delimiter=',')\n",
    "action_filttune_full_1100 = np.loadtxt('data/action_in_filttune_matrix_19_seed1100.csv',delimiter=',')\n",
    "\n",
    "action_CST_1200 = np.loadtxt('data/action_in_CST_matrix_rand_seed1200.csv',delimiter=',')\n",
    "action_filttune_full_1200 = np.loadtxt('data/action_in_filttune_matrix_19_seed1200.csv',delimiter=',')"
   ]
  },
  {
   "cell_type": "code",
   "execution_count": 4,
   "id": "7603b58b",
   "metadata": {},
   "outputs": [],
   "source": [
    "action_filttune_400 = action_filttune_full_400[:,0:5372]\n",
    "action_filttune_500 = action_filttune_full_500[:,0:3201]\n",
    "\n",
    "action_filttune_700 = action_filttune_full_700[:,0:855]\n",
    "action_filttune_800 = action_filttune_full_800[:,0:482]\n",
    "\n",
    "action_filttune_900  = action_filttune_full_900[:,0:1083]\n",
    "action_filttune_1000 = action_filttune_full_1000[:,0:1068]\n",
    "action_filttune_1100 = action_filttune_full_1100[:,0:2910]\n",
    "action_filttune_1200 = action_filttune_full_1200[:,0:3878]"
   ]
  },
  {
   "cell_type": "markdown",
   "id": "d0c0daf7",
   "metadata": {},
   "source": [
    "### cmp and screw position"
   ]
  },
  {
   "cell_type": "code",
   "execution_count": 5,
   "id": "9a44da41",
   "metadata": {},
   "outputs": [],
   "source": [
    "SP_500 = np.loadtxt('data/screw_position_CST_matrix_random_500.csv',delimiter=',')\n",
    "#cmp_full_500 = np.loadtxt('data/cmp_matrix_19_seed500.csv',delimiter=',')\n",
    "\n",
    "SP_900 = np.loadtxt('data/screw_position_CST_matrix_random_900.csv',delimiter=',')\n",
    "cmp_full_900 = np.loadtxt('data/cmp_matrix_19_seed900.csv',delimiter=',')\n",
    "\n",
    "SP_1000 = np.loadtxt('data/screw_position_CST_matrix_random_1000.csv',delimiter=',')\n",
    "cmp_full_1000 = np.loadtxt('data/cmp_matrix_19_seed1000.csv',delimiter=',')\n",
    "\n",
    "SP_1100 = np.loadtxt('data/screw_position_CST_matrix_random_1100.csv',delimiter=',')\n",
    "cmp_full_1100 = np.loadtxt('data/cmp_matrix_19_seed1100.csv',delimiter=',')"
   ]
  },
  {
   "cell_type": "code",
   "execution_count": 6,
   "id": "44c3720a",
   "metadata": {},
   "outputs": [],
   "source": [
    "cmp_500 = (action_filttune_500.transpose() + action_filttune_full_500[:,3201]).transpose()\n",
    "\n",
    "cmp_900  = cmp_full_900[:,0:1083]\n",
    "cmp_1000 = cmp_full_1000[:,0:1068]\n",
    "cmp_1100 = cmp_full_1100[:,0:2910]"
   ]
  },
  {
   "cell_type": "code",
   "execution_count": 7,
   "id": "3453bada",
   "metadata": {},
   "outputs": [
    {
     "data": {
      "text/plain": [
       "60819"
      ]
     },
     "execution_count": 7,
     "metadata": {},
     "output_type": "execute_result"
    }
   ],
   "source": [
    "np.count_nonzero(cmp_500) "
   ]
  },
  {
   "cell_type": "code",
   "execution_count": 8,
   "id": "bb6badcf",
   "metadata": {},
   "outputs": [
    {
     "data": {
      "text/plain": [
       "(19, 3201)"
      ]
     },
     "execution_count": 8,
     "metadata": {},
     "output_type": "execute_result"
    }
   ],
   "source": [
    "cmp_500.shape"
   ]
  },
  {
   "cell_type": "code",
   "execution_count": 9,
   "id": "7b14c7dc",
   "metadata": {},
   "outputs": [
    {
     "data": {
      "text/plain": [
       "60819"
      ]
     },
     "execution_count": 9,
     "metadata": {},
     "output_type": "execute_result"
    }
   ],
   "source": [
    "19*3201"
   ]
  },
  {
   "cell_type": "markdown",
   "id": "db5958a7",
   "metadata": {},
   "source": [
    "## load the RMSE data"
   ]
  },
  {
   "cell_type": "code",
   "execution_count": 5,
   "id": "1ab1205b",
   "metadata": {},
   "outputs": [],
   "source": [
    "#load the RMSE data.\n",
    "#1st row: rmse; 2nd row: mrse\n",
    "RMS_400  = np.loadtxt('data/RMS_seed400.csv',delimiter=',')\n",
    "RMS_500  = np.loadtxt('data/RMS_seed500.csv',delimiter=',')\n",
    "\n",
    "RMS_700  = np.loadtxt('data/RMS_seed700.csv',delimiter=',')\n",
    "RMS_800  = np.loadtxt('data/RMS_seed800.csv',delimiter=',')\n",
    "\n",
    "RMS_900  = np.loadtxt('data/RMS_seed900.csv',delimiter=',')\n",
    "RMS_1000 = np.loadtxt('data/RMS_seed1000.csv',delimiter=',')\n",
    "RMS_1100 = np.loadtxt('data/RMS_seed1100.csv',delimiter=',')\n",
    "RMS_1200 = np.loadtxt('data/RMS_seed1200.csv',delimiter=',')"
   ]
  },
  {
   "cell_type": "markdown",
   "id": "771ccedc",
   "metadata": {},
   "source": [
    "## EDA"
   ]
  },
  {
   "cell_type": "code",
   "execution_count": 16,
   "id": "63daae0a",
   "metadata": {},
   "outputs": [
    {
     "data": {
      "image/png": "[encoded data removed]",
      "text/plain": [
       "<Figure size 720x576 with 20 Axes>"
      ]
     },
     "metadata": {
      "needs_background": "light"
     },
     "output_type": "display_data"
    }
   ],
   "source": [
    "fig, axs = plt.subplots(5, 4, figsize =(10,8))\n",
    " \n",
    "# distribution of screw positions in CST\n",
    "axs[0, 0].hist(y_train_500.transpose()[0,:],20)\n",
    "axs[0, 0].set_title('cmp 1')\n",
    " \n",
    "axs[0, 1].hist(y_train_500.transpose()[1,:],20)\n",
    "axs[0, 1].set_title('cmp 2')\n",
    " \n",
    "axs[0, 2].hist(y_train_500.transpose()[2,:],20)\n",
    "axs[0, 2].set_title('cmp 3')\n",
    " \n",
    "axs[0, 3].hist(y_train_500.transpose()[3,:],20)\n",
    "axs[0, 3].set_title('cmp 4')\n",
    " \n",
    "axs[1, 0].hist(y_train_500.transpose()[4,:],20)\n",
    "axs[1, 0].set_title('cmp 5')\n",
    " \n",
    "axs[1, 1].hist(y_train_500.transpose()[5,:],20)\n",
    "axs[1, 1].set_title('cmp 6')\n",
    " \n",
    "axs[1, 2].hist(y_train_500.transpose()[6,:],20)\n",
    "axs[1, 2].set_title('cmp 7')\n",
    " \n",
    "axs[1, 3].hist(y_train_500.transpose()[7,:],20)\n",
    "axs[1, 3].set_title('cmp 8')\n",
    " \n",
    "axs[2, 0].hist(y_train_500.transpose()[8,:],20)\n",
    "axs[2, 0].set_title('cmp 9')\n",
    " \n",
    "axs[2, 1].hist(y_train_500.transpose()[9,:],20)\n",
    "axs[2, 1].set_title('cmp 10')\n",
    " \n",
    "axs[2, 2].hist(y_train_500.transpose()[10,:],20)\n",
    "axs[2, 2].set_title('cmp 11')\n",
    " \n",
    "axs[2, 3].hist(y_train_500.transpose()[11,:],20)\n",
    "axs[2, 3].set_title('cmp 12')\n",
    " \n",
    "axs[3, 0].hist(y_train_500.transpose()[12,:],20)\n",
    "axs[3, 0].set_title('cmp 13')\n",
    " \n",
    "axs[3, 1].hist(y_train_500.transpose()[13,:],20)\n",
    "axs[3, 1].set_title('cmp 14')\n",
    " \n",
    "axs[3, 2].hist(y_train_500.transpose()[14,:],20)\n",
    "axs[3, 2].set_title('cmp 15')\n",
    " \n",
    "axs[3, 3].hist(y_train_500.transpose()[15,:],20)\n",
    "axs[3, 3].set_title('cmp 16')\n",
    " \n",
    "axs[4, 0].hist(y_train_500.transpose()[16,:],20)\n",
    "axs[4, 0].set_title('cmp 17')\n",
    " \n",
    "axs[4, 1].hist(y_train_500.transpose()[17,:],20)\n",
    "axs[4, 1].set_title('cmp 18')\n",
    " \n",
    "axs[4, 2].hist(y_train_500.transpose()[18,:],20)\n",
    "axs[4, 2].set_title('cmp 19')\n",
    " \n",
    "#Show plot\n",
    "plt.show()"
   ]
  },
  {
   "cell_type": "code",
   "execution_count": 17,
   "id": "1bd0b2bf",
   "metadata": {},
   "outputs": [
    {
     "data": {
      "image/png": "[encoded data removed]",
      "text/plain": [
       "<Figure size 720x576 with 20 Axes>"
      ]
     },
     "metadata": {
      "needs_background": "light"
     },
     "output_type": "display_data"
    }
   ],
   "source": [
    "fig, axs = plt.subplots(5, 4, figsize =(10,8))\n",
    " \n",
    "# distribution of screw positions in CST\n",
    "axs[0, 0].hist(X_train_500.transpose()[0,:],20)\n",
    "axs[0, 0].set_title('cmp 1')\n",
    " \n",
    "axs[0, 1].hist(X_train_500.transpose()[1,:],20)\n",
    "axs[0, 1].set_title('cmp 2')\n",
    " \n",
    "axs[0, 2].hist(X_train_500.transpose()[2,:],20)\n",
    "axs[0, 2].set_title('cmp 3')\n",
    " \n",
    "axs[0, 3].hist(X_train_500.transpose()[3,:],20)\n",
    "axs[0, 3].set_title('cmp 4')\n",
    " \n",
    "axs[1, 0].hist(X_train_500.transpose()[4,:],20)\n",
    "axs[1, 0].set_title('cmp 5')\n",
    " \n",
    "axs[1, 1].hist(X_train_500.transpose()[5,:],20)\n",
    "axs[1, 1].set_title('cmp 6')\n",
    " \n",
    "axs[1, 2].hist(X_train_500.transpose()[6,:],20)\n",
    "axs[1, 2].set_title('cmp 7')\n",
    " \n",
    "axs[1, 3].hist(X_train_500.transpose()[7,:],20)\n",
    "axs[1, 3].set_title('cmp 8')\n",
    " \n",
    "axs[2, 0].hist(X_train_500.transpose()[8,:],20)\n",
    "axs[2, 0].set_title('cmp 9')\n",
    " \n",
    "axs[2, 1].hist(X_train_500.transpose()[9,:],20)\n",
    "axs[2, 1].set_title('cmp 10')\n",
    " \n",
    "axs[2, 2].hist(X_train_500.transpose()[10,:],20)\n",
    "axs[2, 2].set_title('cmp 11')\n",
    " \n",
    "axs[2, 3].hist(X_train_500.transpose()[11,:],20)\n",
    "axs[2, 3].set_title('cmp 12')\n",
    " \n",
    "axs[3, 0].hist(X_train_500.transpose()[12,:],20)\n",
    "axs[3, 0].set_title('cmp 13')\n",
    " \n",
    "axs[3, 1].hist(X_train_500.transpose()[13,:],20)\n",
    "axs[3, 1].set_title('cmp 14')\n",
    " \n",
    "axs[3, 2].hist(X_train_500.transpose()[14,:],20)\n",
    "axs[3, 2].set_title('cmp 15')\n",
    " \n",
    "axs[3, 3].hist(X_train_500.transpose()[15,:],20)\n",
    "axs[3, 3].set_title('cmp 16')\n",
    " \n",
    "axs[4, 0].hist(X_train_500.transpose()[16,:],20)\n",
    "axs[4, 0].set_title('cmp 17')\n",
    " \n",
    "axs[4, 1].hist(X_train_500.transpose()[17,:],20)\n",
    "axs[4, 1].set_title('cmp 18')\n",
    " \n",
    "axs[4, 2].hist(X_train_500.transpose()[18,:],20)\n",
    "axs[4, 2].set_title('cmp 19')\n",
    " \n",
    "#Show plot\n",
    "plt.show()"
   ]
  },
  {
   "cell_type": "markdown",
   "id": "936f20ae",
   "metadata": {},
   "source": [
    "## Seed 500 complete"
   ]
  },
  {
   "cell_type": "code",
   "execution_count": 12,
   "id": "6ed54d7c",
   "metadata": {},
   "outputs": [],
   "source": [
    "X_train_500, X_test_500, y_train_500, y_test_500 = train_test_split(SP_500.transpose(), \n",
    "                                                                    cmp_500.transpose(), random_state=1,train_size = 0.8)"
   ]
  },
  {
   "cell_type": "markdown",
   "id": "2c7defcc",
   "metadata": {},
   "source": [
    "#### build the model and train"
   ]
  },
  {
   "cell_type": "code",
   "execution_count": null,
   "id": "e073b56e",
   "metadata": {},
   "outputs": [],
   "source": [
    "'activation': 'relu',\n",
    " 'alpha': 0.05,\n",
    " 'batch_size': 'auto',\n",
    " 'hidden_layer_sizes': (300, 300, 300),\n",
    " 'learning_rate': 'adaptive',\n",
    " 'solver': 'adam'"
   ]
  },
  {
   "cell_type": "code",
   "execution_count": 82,
   "id": "9c9a1ff0",
   "metadata": {},
   "outputs": [
    {
     "name": "stderr",
     "output_type": "stream",
     "text": [
      "2021-09-16 19:31:53.156336: I tensorflow/stream_executor/platform/default/dso_loader.cc:48] Successfully opened dynamic library libcudart.so.11.0\n",
      "2021-09-16 19:31:53.874600: I tensorflow/stream_executor/platform/default/dso_loader.cc:48] Successfully opened dynamic library libnvinfer.so.7\n",
      "2021-09-16 19:31:53.875850: I tensorflow/stream_executor/platform/default/dso_loader.cc:48] Successfully opened dynamic library libnvinfer_plugin.so.7\n"
     ]
    }
   ],
   "source": [
    "from tensorflow.keras.models import Sequential,load_model, clone_model\n",
    "from tensorflow.keras.layers import Dense\n",
    "from tensorflow.keras.layers import BatchNormalization, Dropout\n",
    "import numpy as np\n",
    "from tensorflow.keras.optimizers import Adam\n",
    "from tensorflow.keras.callbacks import ModelCheckpoint, ReduceLROnPlateau, TensorBoard\n",
    "from tensorflow.keras import regularizers\n",
    "from tensorflow.keras.regularizers import l2, l1, l1_l2\n",
    "\n",
    "from livelossplot import PlotLossesKeras"
   ]
  },
  {
   "cell_type": "markdown",
   "id": "b045ca5e",
   "metadata": {},
   "source": [
    "##### so far the best"
   ]
  },
  {
   "cell_type": "code",
   "execution_count": null,
   "id": "b8d0502f",
   "metadata": {},
   "outputs": [
    {
     "data": {
      "image/png": "[encoded data removed]",
      "text/plain": [
       "<Figure size 864x576 with 2 Axes>"
      ]
     },
     "metadata": {
      "needs_background": "light"
     },
     "output_type": "display_data"
    },
    {
     "name": "stdout",
     "output_type": "stream",
     "text": [
      "Loss\n",
      "\ttraining         \t (min: 3325.084, max: 9942202.625, cur: 3354.789)\n",
      "\tvalidation       \t (min: 2612.792, max: 9882145.332, cur: 2618.971)\n",
      "lr\n",
      "\tlr               \t (min:    0.001, max:    0.001, cur:    0.001)\n",
      "2560/2560 [==============================] - 0s 192us/sample - loss: 3354.7888 - val_loss: 2618.9709\n",
      "Epoch 600/50000\n",
      "1640/2560 [==================>...........] - ETA: 0s - loss: 3290.5225"
     ]
    }
   ],
   "source": [
    "input_shape = (19,)\n",
    "\n",
    "model_abs_500 = Sequential()\n",
    "model_abs_500.add(Dense(300, input_shape=input_shape, activation='relu', kernel_regularizer=regularizers.l2(0.05)))\n",
    "model_abs_500.add(Dropout(0.2))\n",
    "model_abs_500.add(BatchNormalization())\n",
    "model_abs_500.add(Dense(300, activation='relu', kernel_regularizer=regularizers.l2(0.1)))\n",
    "model_abs_500.add(Dropout(0.2))\n",
    "model_abs_500.add(BatchNormalization())\n",
    "model_abs_500.add(Dense(300, activation='relu', kernel_regularizer=regularizers.l2(0.1)))\n",
    "model_abs_500.add(Dropout(0.2))\n",
    "model_abs_500.add(BatchNormalization())\n",
    "model_abs_500.add(Dense(19, activation='linear', kernel_regularizer=regularizers.l2(0.1)))\n",
    "\n",
    "# Configure the model and start training\n",
    "model_abs_500.compile(loss='mse', optimizer='adam')\n",
    "\n",
    "reduce_lr = ReduceLROnPlateau(monitor='val_loss', factor=0.5,\n",
    "                              patience=20, min_lr=0.0001)\n",
    "tbCallback = TensorBoard(log_dir='./logs')\n",
    "filepath = \"model_abs/model_500_0.h5\"\n",
    "checkpoint = ModelCheckpoint(filepath, monitor='loss', verbose=1, save_best_only=True, mode='min')\n",
    "callbacks_list = [checkpoint, reduce_lr, PlotLossesKeras()]\n",
    "\n",
    "model_abs_500.fit(X_train_500, y_train_500, epochs=50000, batch_size = 40, verbose=1, validation_data = (X_test_500,y_test_500), #validation_split=0.2,\n",
    "            callbacks=callbacks_list)"
   ]
  },
  {
   "cell_type": "markdown",
   "id": "b179e809",
   "metadata": {},
   "source": [
    "### retrain a model-1"
   ]
  },
  {
   "cell_type": "code",
   "execution_count": 25,
   "id": "0bc54a90",
   "metadata": {},
   "outputs": [],
   "source": [
    "# load so-far-the-best\n",
    "model_2_retrain_1 = load_model('model/model_500_2.h5')"
   ]
  },
  {
   "cell_type": "code",
   "execution_count": null,
   "id": "e15dd508",
   "metadata": {},
   "outputs": [
    {
     "data": {
      "image/png": "[encoded data removed]",
      "text/plain": [
       "<Figure size 864x576 with 2 Axes>"
      ]
     },
     "metadata": {
      "needs_background": "light"
     },
     "output_type": "display_data"
    },
    {
     "name": "stdout",
     "output_type": "stream",
     "text": [
      "Loss\n",
      "\ttraining         \t (min:  249.965, max:  406.026, cur:  279.567)\n",
      "\tvalidation       \t (min:  206.187, max:  596.939, cur:  212.254)\n",
      "lr\n",
      "\tlr               \t (min:    0.000, max:    0.001, cur:    0.000)\n",
      "2560/2560 [==============================] - 1s 198us/sample - loss: 279.5672 - val_loss: 212.2535\n",
      "Epoch 49835/50000\n",
      " 200/2560 [=>............................] - ETA: 0s - loss: 273.1288\n",
      "Epoch 49835: val_loss did not improve from 206.18653\n"
     ]
    }
   ],
   "source": [
    "# Configure the model and start retraining\n",
    "model_2_retrain_1.compile(loss='mse', optimizer='adam')\n",
    "\n",
    "reduce_lr = ReduceLROnPlateau(monitor='val_loss', factor=0.5,\n",
    "                              patience=20, min_lr=0.0001)\n",
    "tbCallback = TensorBoard(log_dir='./logs')\n",
    "filepath = \"model/model_500_2_retrain_1.h5\"\n",
    "checkpoint = ModelCheckpoint(filepath, monitor='val_loss', verbose=1, save_best_only=True, mode='min')\n",
    "callbacks_list = [checkpoint, reduce_lr, PlotLossesKeras()]\n",
    "\n",
    "model_2_retrain_1.fit(X_train_500, y_train_500, epochs=50000, batch_size = 200, verbose=1, validation_data = (X_test_500,y_test_500), #validation_split=0.2,\n",
    "            callbacks=callbacks_list)"
   ]
  },
  {
   "cell_type": "markdown",
   "id": "d5a0c0eb",
   "metadata": {},
   "source": [
    "### retrain a model-2"
   ]
  },
  {
   "cell_type": "code",
   "execution_count": 77,
   "id": "cac2911e",
   "metadata": {},
   "outputs": [],
   "source": [
    "# load so-far-the-best\n",
    "model_2_retrain_2_temp = load_model('model/model_500_2_retrain_1.h5')"
   ]
  },
  {
   "cell_type": "code",
   "execution_count": 78,
   "id": "c49cea45",
   "metadata": {},
   "outputs": [],
   "source": [
    "# change the dropout rate and regularizer\n",
    "model_2_retrain_2_temp.get_layer('dense').kernel_regularizer = l2(0.1)\n",
    "model_2_retrain_2_temp.get_layer('dense').activity_regularizer = l1(0.001)\n",
    "model_2_retrain_2_temp.layers[1].rate = 0.3\n",
    "\n",
    "model_2_retrain_2_temp.get_layer('dense_1').kernel_regularizer = l2(0.2)\n",
    "model_2_retrain_2_temp.get_layer('dense_1').activity_regularizer = l1(0.01)\n",
    "model_2_retrain_2_temp.layers[4].rate = 0.3\n",
    "\n",
    "model_2_retrain_2_temp.get_layer('dense_2').kernel_regularizer = l2(0.2)\n",
    "model_2_retrain_2_temp.get_layer('dense_2').activity_regularizer = l1(0.01)\n",
    "model_2_retrain_2_temp.layers[4].rate = 0.3"
   ]
  },
  {
   "cell_type": "code",
   "execution_count": 81,
   "id": "fce77917",
   "metadata": {},
   "outputs": [],
   "source": [
    "model_2_retrain_2 = clone_model(model_2_retrain_2_temp)"
   ]
  },
  {
   "cell_type": "code",
   "execution_count": 82,
   "id": "9609c8eb",
   "metadata": {},
   "outputs": [],
   "source": [
    "model_2_retrain_2.compile(loss='mse', optimizer='adam')"
   ]
  },
  {
   "cell_type": "code",
   "execution_count": 83,
   "id": "a13c3f54",
   "metadata": {},
   "outputs": [],
   "source": [
    "model_2_retrain_2.load_weights('model/model_500_2_retrain_1.h5')"
   ]
  },
  {
   "cell_type": "code",
   "execution_count": 84,
   "id": "293bc87c",
   "metadata": {},
   "outputs": [
    {
     "data": {
      "image/png": "[encoded data removed]",
      "text/plain": [
       "<Figure size 864x576 with 2 Axes>"
      ]
     },
     "metadata": {
      "needs_background": "light"
     },
     "output_type": "display_data"
    },
    {
     "name": "stdout",
     "output_type": "stream",
     "text": [
      "Loss\n",
      "\ttraining         \t (min:  301.137, max:  466.238, cur:  314.352)\n",
      "\tvalidation       \t (min:  207.599, max:  651.516, cur:  213.169)\n",
      "lr\n",
      "\tlr               \t (min:    0.000, max:    0.001, cur:    0.000)\n",
      "2560/2560 [==============================] - 0s 167us/sample - loss: 314.3522 - val_loss: 213.1690\n"
     ]
    },
    {
     "data": {
      "text/plain": [
       "<tensorflow.python.keras.callbacks.History at 0x7faabdca1dd0>"
      ]
     },
     "execution_count": 84,
     "metadata": {},
     "output_type": "execute_result"
    }
   ],
   "source": [
    "reduce_lr = ReduceLROnPlateau(monitor='val_loss', factor=0.5,\n",
    "                              patience=20, min_lr=0.0001)\n",
    "tbCallback = TensorBoard(log_dir='./logs')\n",
    "filepath = \"model/model_500_2_retrain_2.h5\"\n",
    "checkpoint = ModelCheckpoint(filepath, monitor='val_loss', verbose=1, save_best_only=True, mode='min')\n",
    "callbacks_list = [checkpoint, reduce_lr, PlotLossesKeras()]\n",
    "\n",
    "model_2_retrain_2.fit(X_train_500, y_train_500, epochs=50000, batch_size = 200, verbose=1, validation_data = (X_test_500,y_test_500), #validation_split=0.2,\n",
    "            callbacks=callbacks_list)"
   ]
  },
  {
   "cell_type": "code",
   "execution_count": 75,
   "id": "0fd712a9",
   "metadata": {},
   "outputs": [
    {
     "data": {
      "text/plain": [
       "'dense_2'"
      ]
     },
     "execution_count": 75,
     "metadata": {},
     "output_type": "execute_result"
    }
   ],
   "source": [
    "model_2_retrain_2_temp.layers[6].name"
   ]
  },
  {
   "cell_type": "markdown",
   "id": "a4c827ac",
   "metadata": {},
   "source": [
    "### retrain a model-3 & 4"
   ]
  },
  {
   "cell_type": "code",
   "execution_count": 134,
   "id": "0d9f6a96",
   "metadata": {},
   "outputs": [],
   "source": [
    "# load so-far-the-best\n",
    "model_2_retrain_3_temp = load_model('model/model_500_2_retrain_2.h5')"
   ]
  },
  {
   "cell_type": "code",
   "execution_count": 135,
   "id": "d7714d34",
   "metadata": {},
   "outputs": [],
   "source": [
    "# change the dropout rate and regularizer\n",
    "model_2_retrain_3_temp.get_layer('dense').kernel_regularizer = l1_l2(0.1,0.1)\n",
    "model_2_retrain_3_temp.layers[1].rate = 0.4\n",
    "\n",
    "model_2_retrain_3_temp.get_layer('dense_1').kernel_regularizer = l1_l2(0.1,0.1)\n",
    "model_2_retrain_3_temp.layers[4].rate = 0.4\n",
    "\n",
    "model_2_retrain_3_temp.get_layer('dense_2').kernel_regularizer = l1_l2(0.1,0.1)\n",
    "model_2_retrain_3_temp.layers[4].rate = 0.4"
   ]
  },
  {
   "cell_type": "code",
   "execution_count": 136,
   "id": "3539b5cd",
   "metadata": {},
   "outputs": [],
   "source": [
    "model_2_retrain_3 = clone_model(model_2_retrain_3_temp)"
   ]
  },
  {
   "cell_type": "code",
   "execution_count": 137,
   "id": "06c2799f",
   "metadata": {},
   "outputs": [],
   "source": [
    "model_2_retrain_3.compile(loss='mse', optimizer='adam')"
   ]
  },
  {
   "cell_type": "code",
   "execution_count": 138,
   "id": "da891f45",
   "metadata": {},
   "outputs": [],
   "source": [
    "model_2_retrain_3.load_weights('model/model_500_2_retrain_2.h5')"
   ]
  },
  {
   "cell_type": "code",
   "execution_count": null,
   "id": "301e5392",
   "metadata": {},
   "outputs": [],
   "source": [
    "reduce_lr = ReduceLROnPlateau(monitor='val_loss', factor=0.8,\n",
    "                              patience=40, min_lr=0.00001)\n",
    "tbCallback = TensorBoard(log_dir='./logs')\n",
    "filepath = \"model/model_500_2_retrain_3.h5\"\n",
    "checkpoint = ModelCheckpoint(filepath, monitor='val_loss', verbose=1, save_best_only=True, mode='min')\n",
    "callbacks_list = [checkpoint, reduce_lr, PlotLossesKeras()]\n",
    "\n",
    "model_2_retrain_3.fit(X_train_500, y_train_500, epochs=150000, batch_size = 200, verbose=1, validation_data = (X_test_500,y_test_500), #validation_split=0.2,\n",
    "            callbacks=callbacks_list)"
   ]
  },
  {
   "cell_type": "code",
   "execution_count": 133,
   "id": "252ae3dd",
   "metadata": {},
   "outputs": [
    {
     "ename": "KeyboardInterrupt",
     "evalue": "",
     "output_type": "error",
     "traceback": [
      "\u001b[0;31m---------------------------------------------------------------------------\u001b[0m",
      "\u001b[0;31mKeyboardInterrupt\u001b[0m                         Traceback (most recent call last)",
      "\u001b[0;32m/tmp/ipykernel_22679/892332802.py\u001b[0m in \u001b[0;36m<module>\u001b[0;34m\u001b[0m\n\u001b[1;32m     10\u001b[0m \u001b[0;34m\u001b[0m\u001b[0m\n\u001b[1;32m     11\u001b[0m model_2_retrain_4.fit(X_train_500, y_train_500, epochs=50000, batch_size = 200, verbose=1, validation_data = (X_test_500,y_test_500), #validation_split=0.2,\n\u001b[0;32m---> 12\u001b[0;31m             callbacks=callbacks_list)\n\u001b[0m",
      "\u001b[0;32m/opt/conda/lib/python3.7/site-packages/tensorflow_core/python/keras/engine/training.py\u001b[0m in \u001b[0;36mfit\u001b[0;34m(self, x, y, batch_size, epochs, verbose, callbacks, validation_split, validation_data, shuffle, class_weight, sample_weight, initial_epoch, steps_per_epoch, validation_steps, validation_freq, max_queue_size, workers, use_multiprocessing, **kwargs)\u001b[0m\n\u001b[1;32m    817\u001b[0m         \u001b[0mmax_queue_size\u001b[0m\u001b[0;34m=\u001b[0m\u001b[0mmax_queue_size\u001b[0m\u001b[0;34m,\u001b[0m\u001b[0;34m\u001b[0m\u001b[0;34m\u001b[0m\u001b[0m\n\u001b[1;32m    818\u001b[0m         \u001b[0mworkers\u001b[0m\u001b[0;34m=\u001b[0m\u001b[0mworkers\u001b[0m\u001b[0;34m,\u001b[0m\u001b[0;34m\u001b[0m\u001b[0;34m\u001b[0m\u001b[0m\n\u001b[0;32m--> 819\u001b[0;31m         use_multiprocessing=use_multiprocessing)\n\u001b[0m\u001b[1;32m    820\u001b[0m \u001b[0;34m\u001b[0m\u001b[0m\n\u001b[1;32m    821\u001b[0m   def evaluate(self,\n",
      "\u001b[0;32m/opt/conda/lib/python3.7/site-packages/tensorflow_core/python/keras/engine/training_v2.py\u001b[0m in \u001b[0;36mfit\u001b[0;34m(self, model, x, y, batch_size, epochs, verbose, callbacks, validation_split, validation_data, shuffle, class_weight, sample_weight, initial_epoch, steps_per_epoch, validation_steps, validation_freq, max_queue_size, workers, use_multiprocessing, **kwargs)\u001b[0m\n\u001b[1;32m    395\u001b[0m                       total_epochs=1)\n\u001b[1;32m    396\u001b[0m                   cbks.make_logs(model, epoch_logs, eval_result, ModeKeys.TEST,\n\u001b[0;32m--> 397\u001b[0;31m                                  prefix='val_')\n\u001b[0m\u001b[1;32m    398\u001b[0m \u001b[0;34m\u001b[0m\u001b[0m\n\u001b[1;32m    399\u001b[0m     \u001b[0;32mreturn\u001b[0m \u001b[0mmodel\u001b[0m\u001b[0;34m.\u001b[0m\u001b[0mhistory\u001b[0m\u001b[0;34m\u001b[0m\u001b[0;34m\u001b[0m\u001b[0m\n",
      "\u001b[0;32m/opt/conda/lib/python3.7/contextlib.py\u001b[0m in \u001b[0;36m__exit__\u001b[0;34m(self, type, value, traceback)\u001b[0m\n\u001b[1;32m    117\u001b[0m         \u001b[0;32mif\u001b[0m \u001b[0mtype\u001b[0m \u001b[0;32mis\u001b[0m \u001b[0;32mNone\u001b[0m\u001b[0;34m:\u001b[0m\u001b[0;34m\u001b[0m\u001b[0;34m\u001b[0m\u001b[0m\n\u001b[1;32m    118\u001b[0m             \u001b[0;32mtry\u001b[0m\u001b[0;34m:\u001b[0m\u001b[0;34m\u001b[0m\u001b[0;34m\u001b[0m\u001b[0m\n\u001b[0;32m--> 119\u001b[0;31m                 \u001b[0mnext\u001b[0m\u001b[0;34m(\u001b[0m\u001b[0mself\u001b[0m\u001b[0;34m.\u001b[0m\u001b[0mgen\u001b[0m\u001b[0;34m)\u001b[0m\u001b[0;34m\u001b[0m\u001b[0;34m\u001b[0m\u001b[0m\n\u001b[0m\u001b[1;32m    120\u001b[0m             \u001b[0;32mexcept\u001b[0m \u001b[0mStopIteration\u001b[0m\u001b[0;34m:\u001b[0m\u001b[0;34m\u001b[0m\u001b[0;34m\u001b[0m\u001b[0m\n\u001b[1;32m    121\u001b[0m                 \u001b[0;32mreturn\u001b[0m \u001b[0;32mFalse\u001b[0m\u001b[0;34m\u001b[0m\u001b[0;34m\u001b[0m\u001b[0m\n",
      "\u001b[0;32m/opt/conda/lib/python3.7/site-packages/tensorflow_core/python/keras/engine/training_v2.py\u001b[0m in \u001b[0;36mon_epoch\u001b[0;34m(self, epoch, mode)\u001b[0m\n\u001b[1;32m    769\u001b[0m       \u001b[0;32mif\u001b[0m \u001b[0mmode\u001b[0m \u001b[0;34m==\u001b[0m \u001b[0mModeKeys\u001b[0m\u001b[0;34m.\u001b[0m\u001b[0mTRAIN\u001b[0m\u001b[0;34m:\u001b[0m\u001b[0;34m\u001b[0m\u001b[0;34m\u001b[0m\u001b[0m\n\u001b[1;32m    770\u001b[0m         \u001b[0;31m# Epochs only apply to `fit`.\u001b[0m\u001b[0;34m\u001b[0m\u001b[0;34m\u001b[0m\u001b[0;34m\u001b[0m\u001b[0m\n\u001b[0;32m--> 771\u001b[0;31m         \u001b[0mself\u001b[0m\u001b[0;34m.\u001b[0m\u001b[0mcallbacks\u001b[0m\u001b[0;34m.\u001b[0m\u001b[0mon_epoch_end\u001b[0m\u001b[0;34m(\u001b[0m\u001b[0mepoch\u001b[0m\u001b[0;34m,\u001b[0m \u001b[0mepoch_logs\u001b[0m\u001b[0;34m)\u001b[0m\u001b[0;34m\u001b[0m\u001b[0;34m\u001b[0m\u001b[0m\n\u001b[0m\u001b[1;32m    772\u001b[0m       \u001b[0mself\u001b[0m\u001b[0;34m.\u001b[0m\u001b[0mprogbar\u001b[0m\u001b[0;34m.\u001b[0m\u001b[0mon_epoch_end\u001b[0m\u001b[0;34m(\u001b[0m\u001b[0mepoch\u001b[0m\u001b[0;34m,\u001b[0m \u001b[0mepoch_logs\u001b[0m\u001b[0;34m)\u001b[0m\u001b[0;34m\u001b[0m\u001b[0;34m\u001b[0m\u001b[0m\n\u001b[1;32m    773\u001b[0m \u001b[0;34m\u001b[0m\u001b[0m\n",
      "\u001b[0;32m/opt/conda/lib/python3.7/site-packages/tensorflow_core/python/keras/callbacks.py\u001b[0m in \u001b[0;36mon_epoch_end\u001b[0;34m(self, epoch, logs)\u001b[0m\n\u001b[1;32m    300\u001b[0m     \u001b[0mlogs\u001b[0m \u001b[0;34m=\u001b[0m \u001b[0mlogs\u001b[0m \u001b[0;32mor\u001b[0m \u001b[0;34m{\u001b[0m\u001b[0;34m}\u001b[0m\u001b[0;34m\u001b[0m\u001b[0;34m\u001b[0m\u001b[0m\n\u001b[1;32m    301\u001b[0m     \u001b[0;32mfor\u001b[0m \u001b[0mcallback\u001b[0m \u001b[0;32min\u001b[0m \u001b[0mself\u001b[0m\u001b[0;34m.\u001b[0m\u001b[0mcallbacks\u001b[0m\u001b[0;34m:\u001b[0m\u001b[0;34m\u001b[0m\u001b[0;34m\u001b[0m\u001b[0m\n\u001b[0;32m--> 302\u001b[0;31m       \u001b[0mcallback\u001b[0m\u001b[0;34m.\u001b[0m\u001b[0mon_epoch_end\u001b[0m\u001b[0;34m(\u001b[0m\u001b[0mepoch\u001b[0m\u001b[0;34m,\u001b[0m \u001b[0mlogs\u001b[0m\u001b[0;34m)\u001b[0m\u001b[0;34m\u001b[0m\u001b[0;34m\u001b[0m\u001b[0m\n\u001b[0m\u001b[1;32m    303\u001b[0m \u001b[0;34m\u001b[0m\u001b[0m\n\u001b[1;32m    304\u001b[0m   \u001b[0;32mdef\u001b[0m \u001b[0mon_train_batch_begin\u001b[0m\u001b[0;34m(\u001b[0m\u001b[0mself\u001b[0m\u001b[0;34m,\u001b[0m \u001b[0mbatch\u001b[0m\u001b[0;34m,\u001b[0m \u001b[0mlogs\u001b[0m\u001b[0;34m=\u001b[0m\u001b[0;32mNone\u001b[0m\u001b[0;34m)\u001b[0m\u001b[0;34m:\u001b[0m\u001b[0;34m\u001b[0m\u001b[0;34m\u001b[0m\u001b[0m\n",
      "\u001b[0;32m/opt/conda/lib/python3.7/site-packages/livelossplot/inputs/generic_keras.py\u001b[0m in \u001b[0;36mon_epoch_end\u001b[0;34m(self, epoch, logs)\u001b[0m\n\u001b[1;32m     20\u001b[0m         \"\"\"\n\u001b[1;32m     21\u001b[0m         \u001b[0mself\u001b[0m\u001b[0;34m.\u001b[0m\u001b[0mliveplot\u001b[0m\u001b[0;34m.\u001b[0m\u001b[0mupdate\u001b[0m\u001b[0;34m(\u001b[0m\u001b[0mlogs\u001b[0m\u001b[0;34m.\u001b[0m\u001b[0mcopy\u001b[0m\u001b[0;34m(\u001b[0m\u001b[0;34m)\u001b[0m\u001b[0;34m,\u001b[0m \u001b[0mepoch\u001b[0m\u001b[0;34m)\u001b[0m\u001b[0;34m\u001b[0m\u001b[0;34m\u001b[0m\u001b[0m\n\u001b[0;32m---> 22\u001b[0;31m         \u001b[0mself\u001b[0m\u001b[0;34m.\u001b[0m\u001b[0mliveplot\u001b[0m\u001b[0;34m.\u001b[0m\u001b[0msend\u001b[0m\u001b[0;34m(\u001b[0m\u001b[0;34m)\u001b[0m\u001b[0;34m\u001b[0m\u001b[0;34m\u001b[0m\u001b[0m\n\u001b[0m",
      "\u001b[0;32m/opt/conda/lib/python3.7/site-packages/livelossplot/plot_losses.py\u001b[0m in \u001b[0;36msend\u001b[0;34m(self)\u001b[0m\n\u001b[1;32m     39\u001b[0m         \u001b[0;34m\"\"\"Method will send logs to every output class\"\"\"\u001b[0m\u001b[0;34m\u001b[0m\u001b[0;34m\u001b[0m\u001b[0m\n\u001b[1;32m     40\u001b[0m         \u001b[0;32mfor\u001b[0m \u001b[0moutput\u001b[0m \u001b[0;32min\u001b[0m \u001b[0mself\u001b[0m\u001b[0;34m.\u001b[0m\u001b[0moutputs\u001b[0m\u001b[0;34m:\u001b[0m\u001b[0;34m\u001b[0m\u001b[0;34m\u001b[0m\u001b[0m\n\u001b[0;32m---> 41\u001b[0;31m             \u001b[0moutput\u001b[0m\u001b[0;34m.\u001b[0m\u001b[0msend\u001b[0m\u001b[0;34m(\u001b[0m\u001b[0mself\u001b[0m\u001b[0;34m.\u001b[0m\u001b[0mlogger\u001b[0m\u001b[0;34m)\u001b[0m\u001b[0;34m\u001b[0m\u001b[0;34m\u001b[0m\u001b[0m\n\u001b[0m\u001b[1;32m     42\u001b[0m \u001b[0;34m\u001b[0m\u001b[0m\n\u001b[1;32m     43\u001b[0m     \u001b[0;32mdef\u001b[0m \u001b[0mdraw\u001b[0m\u001b[0;34m(\u001b[0m\u001b[0mself\u001b[0m\u001b[0;34m)\u001b[0m\u001b[0;34m:\u001b[0m\u001b[0;34m\u001b[0m\u001b[0;34m\u001b[0m\u001b[0m\n",
      "\u001b[0;32m/opt/conda/lib/python3.7/site-packages/livelossplot/outputs/matplotlib_plot.py\u001b[0m in \u001b[0;36msend\u001b[0;34m(self, logger)\u001b[0m\n\u001b[1;32m     68\u001b[0m             \u001b[0mextra_plot\u001b[0m\u001b[0;34m(\u001b[0m\u001b[0max\u001b[0m\u001b[0;34m,\u001b[0m \u001b[0mlogger\u001b[0m\u001b[0;34m)\u001b[0m\u001b[0;34m\u001b[0m\u001b[0;34m\u001b[0m\u001b[0m\n\u001b[1;32m     69\u001b[0m \u001b[0;34m\u001b[0m\u001b[0m\n\u001b[0;32m---> 70\u001b[0;31m         \u001b[0mself\u001b[0m\u001b[0;34m.\u001b[0m\u001b[0m_after_plots\u001b[0m\u001b[0;34m(\u001b[0m\u001b[0mfig\u001b[0m\u001b[0;34m)\u001b[0m\u001b[0;34m\u001b[0m\u001b[0;34m\u001b[0m\u001b[0m\n\u001b[0m\u001b[1;32m     71\u001b[0m \u001b[0;34m\u001b[0m\u001b[0m\n\u001b[1;32m     72\u001b[0m     \u001b[0;32mdef\u001b[0m \u001b[0m_default_after_subplot\u001b[0m\u001b[0;34m(\u001b[0m\u001b[0mself\u001b[0m\u001b[0;34m,\u001b[0m \u001b[0max\u001b[0m\u001b[0;34m:\u001b[0m \u001b[0mplt\u001b[0m\u001b[0;34m.\u001b[0m\u001b[0mAxes\u001b[0m\u001b[0;34m,\u001b[0m \u001b[0mgroup_name\u001b[0m\u001b[0;34m:\u001b[0m \u001b[0mstr\u001b[0m\u001b[0;34m,\u001b[0m \u001b[0mx_label\u001b[0m\u001b[0;34m:\u001b[0m \u001b[0mstr\u001b[0m\u001b[0;34m)\u001b[0m\u001b[0;34m:\u001b[0m\u001b[0;34m\u001b[0m\u001b[0;34m\u001b[0m\u001b[0m\n",
      "\u001b[0;32m/opt/conda/lib/python3.7/site-packages/livelossplot/outputs/matplotlib_plot.py\u001b[0m in \u001b[0;36m_default_after_plots\u001b[0;34m(self, fig)\u001b[0m\n\u001b[1;32m    101\u001b[0m             \u001b[0mfig\u001b[0m\u001b[0;34m:\u001b[0m \u001b[0mmatplotlib\u001b[0m \u001b[0mFigure\u001b[0m\u001b[0;34m\u001b[0m\u001b[0;34m\u001b[0m\u001b[0m\n\u001b[1;32m    102\u001b[0m         \"\"\"\n\u001b[0;32m--> 103\u001b[0;31m         \u001b[0mfig\u001b[0m\u001b[0;34m.\u001b[0m\u001b[0mtight_layout\u001b[0m\u001b[0;34m(\u001b[0m\u001b[0;34m)\u001b[0m\u001b[0;34m\u001b[0m\u001b[0;34m\u001b[0m\u001b[0m\n\u001b[0m\u001b[1;32m    104\u001b[0m         \u001b[0;32mif\u001b[0m \u001b[0mself\u001b[0m\u001b[0;34m.\u001b[0m\u001b[0mfigpath\u001b[0m \u001b[0;32mis\u001b[0m \u001b[0;32mnot\u001b[0m \u001b[0;32mNone\u001b[0m\u001b[0;34m:\u001b[0m\u001b[0;34m\u001b[0m\u001b[0;34m\u001b[0m\u001b[0m\n\u001b[1;32m    105\u001b[0m             \u001b[0mfig\u001b[0m\u001b[0;34m.\u001b[0m\u001b[0msavefig\u001b[0m\u001b[0;34m(\u001b[0m\u001b[0mself\u001b[0m\u001b[0;34m.\u001b[0m\u001b[0mfigpath\u001b[0m\u001b[0;34m.\u001b[0m\u001b[0mformat\u001b[0m\u001b[0;34m(\u001b[0m\u001b[0mi\u001b[0m\u001b[0;34m=\u001b[0m\u001b[0mself\u001b[0m\u001b[0;34m.\u001b[0m\u001b[0mfile_idx\u001b[0m\u001b[0;34m)\u001b[0m\u001b[0;34m)\u001b[0m\u001b[0;34m\u001b[0m\u001b[0;34m\u001b[0m\u001b[0m\n",
      "\u001b[0;32m/opt/conda/lib/python3.7/site-packages/matplotlib/figure.py\u001b[0m in \u001b[0;36mtight_layout\u001b[0;34m(self, pad, h_pad, w_pad, rect)\u001b[0m\n\u001b[1;32m   3164\u001b[0m             kwargs = get_tight_layout_figure(\n\u001b[1;32m   3165\u001b[0m                 \u001b[0mself\u001b[0m\u001b[0;34m,\u001b[0m \u001b[0mself\u001b[0m\u001b[0;34m.\u001b[0m\u001b[0maxes\u001b[0m\u001b[0;34m,\u001b[0m \u001b[0msubplotspec_list\u001b[0m\u001b[0;34m,\u001b[0m \u001b[0mrenderer\u001b[0m\u001b[0;34m,\u001b[0m\u001b[0;34m\u001b[0m\u001b[0;34m\u001b[0m\u001b[0m\n\u001b[0;32m-> 3166\u001b[0;31m                 pad=pad, h_pad=h_pad, w_pad=w_pad, rect=rect)\n\u001b[0m\u001b[1;32m   3167\u001b[0m         \u001b[0;32mif\u001b[0m \u001b[0mkwargs\u001b[0m\u001b[0;34m:\u001b[0m\u001b[0;34m\u001b[0m\u001b[0;34m\u001b[0m\u001b[0m\n\u001b[1;32m   3168\u001b[0m             \u001b[0mself\u001b[0m\u001b[0;34m.\u001b[0m\u001b[0msubplots_adjust\u001b[0m\u001b[0;34m(\u001b[0m\u001b[0;34m**\u001b[0m\u001b[0mkwargs\u001b[0m\u001b[0;34m)\u001b[0m\u001b[0;34m\u001b[0m\u001b[0;34m\u001b[0m\u001b[0m\n",
      "\u001b[0;32m/opt/conda/lib/python3.7/site-packages/matplotlib/tight_layout.py\u001b[0m in \u001b[0;36mget_tight_layout_figure\u001b[0;34m(fig, axes_list, subplotspec_list, renderer, pad, h_pad, w_pad, rect)\u001b[0m\n\u001b[1;32m    315\u001b[0m                                      \u001b[0msubplot_list\u001b[0m\u001b[0;34m=\u001b[0m\u001b[0msubplot_list\u001b[0m\u001b[0;34m,\u001b[0m\u001b[0;34m\u001b[0m\u001b[0;34m\u001b[0m\u001b[0m\n\u001b[1;32m    316\u001b[0m                                      \u001b[0max_bbox_list\u001b[0m\u001b[0;34m=\u001b[0m\u001b[0max_bbox_list\u001b[0m\u001b[0;34m,\u001b[0m\u001b[0;34m\u001b[0m\u001b[0;34m\u001b[0m\u001b[0m\n\u001b[0;32m--> 317\u001b[0;31m                                      pad=pad, h_pad=h_pad, w_pad=w_pad)\n\u001b[0m\u001b[1;32m    318\u001b[0m \u001b[0;34m\u001b[0m\u001b[0m\n\u001b[1;32m    319\u001b[0m     \u001b[0;31m# kwargs can be none if tight_layout fails...\u001b[0m\u001b[0;34m\u001b[0m\u001b[0;34m\u001b[0m\u001b[0;34m\u001b[0m\u001b[0m\n",
      "\u001b[0;32m/opt/conda/lib/python3.7/site-packages/matplotlib/tight_layout.py\u001b[0m in \u001b[0;36mauto_adjust_subplotpars\u001b[0;34m(fig, renderer, nrows_ncols, num1num2_list, subplot_list, ax_bbox_list, pad, h_pad, w_pad, rect)\u001b[0m\n\u001b[1;32m     82\u001b[0m             \u001b[0;32mif\u001b[0m \u001b[0max\u001b[0m\u001b[0;34m.\u001b[0m\u001b[0mget_visible\u001b[0m\u001b[0;34m(\u001b[0m\u001b[0;34m)\u001b[0m\u001b[0;34m:\u001b[0m\u001b[0;34m\u001b[0m\u001b[0;34m\u001b[0m\u001b[0m\n\u001b[1;32m     83\u001b[0m                 \u001b[0;32mtry\u001b[0m\u001b[0;34m:\u001b[0m\u001b[0;34m\u001b[0m\u001b[0;34m\u001b[0m\u001b[0m\n\u001b[0;32m---> 84\u001b[0;31m                     \u001b[0mbb\u001b[0m \u001b[0;34m+=\u001b[0m \u001b[0;34m[\u001b[0m\u001b[0max\u001b[0m\u001b[0;34m.\u001b[0m\u001b[0mget_tightbbox\u001b[0m\u001b[0;34m(\u001b[0m\u001b[0mrenderer\u001b[0m\u001b[0;34m,\u001b[0m \u001b[0mfor_layout_only\u001b[0m\u001b[0;34m=\u001b[0m\u001b[0;32mTrue\u001b[0m\u001b[0;34m)\u001b[0m\u001b[0;34m]\u001b[0m\u001b[0;34m\u001b[0m\u001b[0;34m\u001b[0m\u001b[0m\n\u001b[0m\u001b[1;32m     85\u001b[0m                 \u001b[0;32mexcept\u001b[0m \u001b[0mTypeError\u001b[0m\u001b[0;34m:\u001b[0m\u001b[0;34m\u001b[0m\u001b[0;34m\u001b[0m\u001b[0m\n\u001b[1;32m     86\u001b[0m                     \u001b[0mbb\u001b[0m \u001b[0;34m+=\u001b[0m \u001b[0;34m[\u001b[0m\u001b[0max\u001b[0m\u001b[0;34m.\u001b[0m\u001b[0mget_tightbbox\u001b[0m\u001b[0;34m(\u001b[0m\u001b[0mrenderer\u001b[0m\u001b[0;34m)\u001b[0m\u001b[0;34m]\u001b[0m\u001b[0;34m\u001b[0m\u001b[0;34m\u001b[0m\u001b[0m\n",
      "\u001b[0;32m/opt/conda/lib/python3.7/site-packages/matplotlib/axes/_base.py\u001b[0m in \u001b[0;36mget_tightbbox\u001b[0;34m(self, renderer, call_axes_locator, bbox_extra_artists, for_layout_only)\u001b[0m\n\u001b[1;32m   4438\u001b[0m                 \u001b[0;32mtry\u001b[0m\u001b[0;34m:\u001b[0m\u001b[0;34m\u001b[0m\u001b[0;34m\u001b[0m\u001b[0m\n\u001b[1;32m   4439\u001b[0m                     bb_yaxis = self.yaxis.get_tightbbox(\n\u001b[0;32m-> 4440\u001b[0;31m                         renderer, for_layout_only=for_layout_only)\n\u001b[0m\u001b[1;32m   4441\u001b[0m                 \u001b[0;32mexcept\u001b[0m \u001b[0mTypeError\u001b[0m\u001b[0;34m:\u001b[0m\u001b[0;34m\u001b[0m\u001b[0;34m\u001b[0m\u001b[0m\n\u001b[1;32m   4442\u001b[0m                     \u001b[0;31m# in case downstream library has redefined axis:\u001b[0m\u001b[0;34m\u001b[0m\u001b[0;34m\u001b[0m\u001b[0;34m\u001b[0m\u001b[0m\n",
      "\u001b[0;32m/opt/conda/lib/python3.7/site-packages/matplotlib/axis.py\u001b[0m in \u001b[0;36mget_tightbbox\u001b[0;34m(self, renderer, for_layout_only)\u001b[0m\n\u001b[1;32m   1084\u001b[0m             \u001b[0;32mreturn\u001b[0m\u001b[0;34m\u001b[0m\u001b[0;34m\u001b[0m\u001b[0m\n\u001b[1;32m   1085\u001b[0m \u001b[0;34m\u001b[0m\u001b[0m\n\u001b[0;32m-> 1086\u001b[0;31m         \u001b[0mticks_to_draw\u001b[0m \u001b[0;34m=\u001b[0m \u001b[0mself\u001b[0m\u001b[0;34m.\u001b[0m\u001b[0m_update_ticks\u001b[0m\u001b[0;34m(\u001b[0m\u001b[0;34m)\u001b[0m\u001b[0;34m\u001b[0m\u001b[0;34m\u001b[0m\u001b[0m\n\u001b[0m\u001b[1;32m   1087\u001b[0m \u001b[0;34m\u001b[0m\u001b[0m\n\u001b[1;32m   1088\u001b[0m         \u001b[0mself\u001b[0m\u001b[0;34m.\u001b[0m\u001b[0m_update_label_position\u001b[0m\u001b[0;34m(\u001b[0m\u001b[0mrenderer\u001b[0m\u001b[0;34m)\u001b[0m\u001b[0;34m\u001b[0m\u001b[0;34m\u001b[0m\u001b[0m\n",
      "\u001b[0;32m/opt/conda/lib/python3.7/site-packages/matplotlib/axis.py\u001b[0m in \u001b[0;36m_update_ticks\u001b[0;34m(self)\u001b[0m\n\u001b[1;32m   1028\u001b[0m         \u001b[0mmajor_locs\u001b[0m \u001b[0;34m=\u001b[0m \u001b[0mself\u001b[0m\u001b[0;34m.\u001b[0m\u001b[0mget_majorticklocs\u001b[0m\u001b[0;34m(\u001b[0m\u001b[0;34m)\u001b[0m\u001b[0;34m\u001b[0m\u001b[0;34m\u001b[0m\u001b[0m\n\u001b[1;32m   1029\u001b[0m         \u001b[0mmajor_labels\u001b[0m \u001b[0;34m=\u001b[0m \u001b[0mself\u001b[0m\u001b[0;34m.\u001b[0m\u001b[0mmajor\u001b[0m\u001b[0;34m.\u001b[0m\u001b[0mformatter\u001b[0m\u001b[0;34m.\u001b[0m\u001b[0mformat_ticks\u001b[0m\u001b[0;34m(\u001b[0m\u001b[0mmajor_locs\u001b[0m\u001b[0;34m)\u001b[0m\u001b[0;34m\u001b[0m\u001b[0;34m\u001b[0m\u001b[0m\n\u001b[0;32m-> 1030\u001b[0;31m         \u001b[0mmajor_ticks\u001b[0m \u001b[0;34m=\u001b[0m \u001b[0mself\u001b[0m\u001b[0;34m.\u001b[0m\u001b[0mget_major_ticks\u001b[0m\u001b[0;34m(\u001b[0m\u001b[0mlen\u001b[0m\u001b[0;34m(\u001b[0m\u001b[0mmajor_locs\u001b[0m\u001b[0;34m)\u001b[0m\u001b[0;34m)\u001b[0m\u001b[0;34m\u001b[0m\u001b[0;34m\u001b[0m\u001b[0m\n\u001b[0m\u001b[1;32m   1031\u001b[0m         \u001b[0mself\u001b[0m\u001b[0;34m.\u001b[0m\u001b[0mmajor\u001b[0m\u001b[0;34m.\u001b[0m\u001b[0mformatter\u001b[0m\u001b[0;34m.\u001b[0m\u001b[0mset_locs\u001b[0m\u001b[0;34m(\u001b[0m\u001b[0mmajor_locs\u001b[0m\u001b[0;34m)\u001b[0m\u001b[0;34m\u001b[0m\u001b[0;34m\u001b[0m\u001b[0m\n\u001b[1;32m   1032\u001b[0m         \u001b[0;32mfor\u001b[0m \u001b[0mtick\u001b[0m\u001b[0;34m,\u001b[0m \u001b[0mloc\u001b[0m\u001b[0;34m,\u001b[0m \u001b[0mlabel\u001b[0m \u001b[0;32min\u001b[0m \u001b[0mzip\u001b[0m\u001b[0;34m(\u001b[0m\u001b[0mmajor_ticks\u001b[0m\u001b[0;34m,\u001b[0m \u001b[0mmajor_locs\u001b[0m\u001b[0;34m,\u001b[0m \u001b[0mmajor_labels\u001b[0m\u001b[0;34m)\u001b[0m\u001b[0;34m:\u001b[0m\u001b[0;34m\u001b[0m\u001b[0;34m\u001b[0m\u001b[0m\n",
      "\u001b[0;32m/opt/conda/lib/python3.7/site-packages/matplotlib/axis.py\u001b[0m in \u001b[0;36mget_major_ticks\u001b[0;34m(self, numticks)\u001b[0m\n\u001b[1;32m   1357\u001b[0m         \u001b[0;32mwhile\u001b[0m \u001b[0mlen\u001b[0m\u001b[0;34m(\u001b[0m\u001b[0mself\u001b[0m\u001b[0;34m.\u001b[0m\u001b[0mmajorTicks\u001b[0m\u001b[0;34m)\u001b[0m \u001b[0;34m<\u001b[0m \u001b[0mnumticks\u001b[0m\u001b[0;34m:\u001b[0m\u001b[0;34m\u001b[0m\u001b[0;34m\u001b[0m\u001b[0m\n\u001b[1;32m   1358\u001b[0m             \u001b[0;31m# Update the new tick label properties from the old.\u001b[0m\u001b[0;34m\u001b[0m\u001b[0;34m\u001b[0m\u001b[0;34m\u001b[0m\u001b[0m\n\u001b[0;32m-> 1359\u001b[0;31m             \u001b[0mtick\u001b[0m \u001b[0;34m=\u001b[0m \u001b[0mself\u001b[0m\u001b[0;34m.\u001b[0m\u001b[0m_get_tick\u001b[0m\u001b[0;34m(\u001b[0m\u001b[0mmajor\u001b[0m\u001b[0;34m=\u001b[0m\u001b[0;32mTrue\u001b[0m\u001b[0;34m)\u001b[0m\u001b[0;34m\u001b[0m\u001b[0;34m\u001b[0m\u001b[0m\n\u001b[0m\u001b[1;32m   1360\u001b[0m             \u001b[0mself\u001b[0m\u001b[0;34m.\u001b[0m\u001b[0mmajorTicks\u001b[0m\u001b[0;34m.\u001b[0m\u001b[0mappend\u001b[0m\u001b[0;34m(\u001b[0m\u001b[0mtick\u001b[0m\u001b[0;34m)\u001b[0m\u001b[0;34m\u001b[0m\u001b[0;34m\u001b[0m\u001b[0m\n\u001b[1;32m   1361\u001b[0m             \u001b[0mself\u001b[0m\u001b[0;34m.\u001b[0m\u001b[0m_copy_tick_props\u001b[0m\u001b[0;34m(\u001b[0m\u001b[0mself\u001b[0m\u001b[0;34m.\u001b[0m\u001b[0mmajorTicks\u001b[0m\u001b[0;34m[\u001b[0m\u001b[0;36m0\u001b[0m\u001b[0;34m]\u001b[0m\u001b[0;34m,\u001b[0m \u001b[0mtick\u001b[0m\u001b[0;34m)\u001b[0m\u001b[0;34m\u001b[0m\u001b[0;34m\u001b[0m\u001b[0m\n",
      "\u001b[0;32m/opt/conda/lib/python3.7/site-packages/matplotlib/axis.py\u001b[0m in \u001b[0;36m_get_tick\u001b[0;34m(self, major)\u001b[0m\n\u001b[1;32m   2330\u001b[0m         \u001b[0;32melse\u001b[0m\u001b[0;34m:\u001b[0m\u001b[0;34m\u001b[0m\u001b[0;34m\u001b[0m\u001b[0m\n\u001b[1;32m   2331\u001b[0m             \u001b[0mtick_kw\u001b[0m \u001b[0;34m=\u001b[0m \u001b[0mself\u001b[0m\u001b[0;34m.\u001b[0m\u001b[0m_minor_tick_kw\u001b[0m\u001b[0;34m\u001b[0m\u001b[0;34m\u001b[0m\u001b[0m\n\u001b[0;32m-> 2332\u001b[0;31m         \u001b[0;32mreturn\u001b[0m \u001b[0mYTick\u001b[0m\u001b[0;34m(\u001b[0m\u001b[0mself\u001b[0m\u001b[0;34m.\u001b[0m\u001b[0maxes\u001b[0m\u001b[0;34m,\u001b[0m \u001b[0;36m0\u001b[0m\u001b[0;34m,\u001b[0m \u001b[0mmajor\u001b[0m\u001b[0;34m=\u001b[0m\u001b[0mmajor\u001b[0m\u001b[0;34m,\u001b[0m \u001b[0;34m**\u001b[0m\u001b[0mtick_kw\u001b[0m\u001b[0;34m)\u001b[0m\u001b[0;34m\u001b[0m\u001b[0;34m\u001b[0m\u001b[0m\n\u001b[0m\u001b[1;32m   2333\u001b[0m \u001b[0;34m\u001b[0m\u001b[0m\n\u001b[1;32m   2334\u001b[0m     \u001b[0;32mdef\u001b[0m \u001b[0mset_label_position\u001b[0m\u001b[0;34m(\u001b[0m\u001b[0mself\u001b[0m\u001b[0;34m,\u001b[0m \u001b[0mposition\u001b[0m\u001b[0;34m)\u001b[0m\u001b[0;34m:\u001b[0m\u001b[0;34m\u001b[0m\u001b[0;34m\u001b[0m\u001b[0m\n",
      "\u001b[0;32m/opt/conda/lib/python3.7/site-packages/matplotlib/axis.py\u001b[0m in \u001b[0;36m__init__\u001b[0;34m(self, *args, **kwargs)\u001b[0m\n\u001b[1;32m    485\u001b[0m \u001b[0;34m\u001b[0m\u001b[0m\n\u001b[1;32m    486\u001b[0m     \u001b[0;32mdef\u001b[0m \u001b[0m__init__\u001b[0m\u001b[0;34m(\u001b[0m\u001b[0mself\u001b[0m\u001b[0;34m,\u001b[0m \u001b[0;34m*\u001b[0m\u001b[0margs\u001b[0m\u001b[0;34m,\u001b[0m \u001b[0;34m**\u001b[0m\u001b[0mkwargs\u001b[0m\u001b[0;34m)\u001b[0m\u001b[0;34m:\u001b[0m\u001b[0;34m\u001b[0m\u001b[0;34m\u001b[0m\u001b[0m\n\u001b[0;32m--> 487\u001b[0;31m         \u001b[0msuper\u001b[0m\u001b[0;34m(\u001b[0m\u001b[0;34m)\u001b[0m\u001b[0;34m.\u001b[0m\u001b[0m__init__\u001b[0m\u001b[0;34m(\u001b[0m\u001b[0;34m*\u001b[0m\u001b[0margs\u001b[0m\u001b[0;34m,\u001b[0m \u001b[0;34m**\u001b[0m\u001b[0mkwargs\u001b[0m\u001b[0;34m)\u001b[0m\u001b[0;34m\u001b[0m\u001b[0;34m\u001b[0m\u001b[0m\n\u001b[0m\u001b[1;32m    488\u001b[0m         \u001b[0;31m# x in axes coords, y in data coords\u001b[0m\u001b[0;34m\u001b[0m\u001b[0;34m\u001b[0m\u001b[0;34m\u001b[0m\u001b[0m\n\u001b[1;32m    489\u001b[0m         self.tick1line.set(\n",
      "\u001b[0;32m/opt/conda/lib/python3.7/site-packages/matplotlib/_api/deprecation.py\u001b[0m in \u001b[0;36mwrapper\u001b[0;34m(*inner_args, **inner_kwargs)\u001b[0m\n\u001b[1;32m    429\u001b[0m                          \u001b[0;32melse\u001b[0m \u001b[0mdeprecation_addendum\u001b[0m\u001b[0;34m,\u001b[0m\u001b[0;34m\u001b[0m\u001b[0;34m\u001b[0m\u001b[0m\n\u001b[1;32m    430\u001b[0m                 **kwargs)\n\u001b[0;32m--> 431\u001b[0;31m         \u001b[0;32mreturn\u001b[0m \u001b[0mfunc\u001b[0m\u001b[0;34m(\u001b[0m\u001b[0;34m*\u001b[0m\u001b[0minner_args\u001b[0m\u001b[0;34m,\u001b[0m \u001b[0;34m**\u001b[0m\u001b[0minner_kwargs\u001b[0m\u001b[0;34m)\u001b[0m\u001b[0;34m\u001b[0m\u001b[0;34m\u001b[0m\u001b[0m\n\u001b[0m\u001b[1;32m    432\u001b[0m \u001b[0;34m\u001b[0m\u001b[0m\n\u001b[1;32m    433\u001b[0m     \u001b[0;32mreturn\u001b[0m \u001b[0mwrapper\u001b[0m\u001b[0;34m\u001b[0m\u001b[0;34m\u001b[0m\u001b[0m\n",
      "\u001b[0;32m/opt/conda/lib/python3.7/site-packages/matplotlib/axis.py\u001b[0m in \u001b[0;36m__init__\u001b[0;34m(self, axes, loc, label, size, width, color, tickdir, pad, labelsize, labelcolor, zorder, gridOn, tick1On, tick2On, label1On, label2On, major, labelrotation, grid_color, grid_linestyle, grid_linewidth, grid_alpha, **kw)\u001b[0m\n\u001b[1;32m     84\u001b[0m         \u001b[0msize\u001b[0m \u001b[0;32mis\u001b[0m \u001b[0mthe\u001b[0m \u001b[0mtick\u001b[0m \u001b[0msize\u001b[0m \u001b[0;32min\u001b[0m \u001b[0mpoints\u001b[0m\u001b[0;34m\u001b[0m\u001b[0;34m\u001b[0m\u001b[0m\n\u001b[1;32m     85\u001b[0m         \"\"\"\n\u001b[0;32m---> 86\u001b[0;31m         \u001b[0msuper\u001b[0m\u001b[0;34m(\u001b[0m\u001b[0;34m)\u001b[0m\u001b[0;34m.\u001b[0m\u001b[0m__init__\u001b[0m\u001b[0;34m(\u001b[0m\u001b[0;34m)\u001b[0m\u001b[0;34m\u001b[0m\u001b[0;34m\u001b[0m\u001b[0m\n\u001b[0m\u001b[1;32m     87\u001b[0m \u001b[0;34m\u001b[0m\u001b[0m\n\u001b[1;32m     88\u001b[0m         \u001b[0;32mif\u001b[0m \u001b[0mgridOn\u001b[0m \u001b[0;32mis\u001b[0m \u001b[0;32mNone\u001b[0m\u001b[0;34m:\u001b[0m\u001b[0;34m\u001b[0m\u001b[0;34m\u001b[0m\u001b[0m\n",
      "\u001b[0;32m/opt/conda/lib/python3.7/site-packages/matplotlib/artist.py\u001b[0m in \u001b[0;36m__init__\u001b[0;34m(self)\u001b[0m\n\u001b[1;32m    118\u001b[0m         \u001b[0;31m# Normally, artist classes need to be queried for mouseover info if and\u001b[0m\u001b[0;34m\u001b[0m\u001b[0;34m\u001b[0m\u001b[0;34m\u001b[0m\u001b[0m\n\u001b[1;32m    119\u001b[0m         \u001b[0;31m# only if they override get_cursor_data.\u001b[0m\u001b[0;34m\u001b[0m\u001b[0;34m\u001b[0m\u001b[0;34m\u001b[0m\u001b[0m\n\u001b[0;32m--> 120\u001b[0;31m         \u001b[0mself\u001b[0m\u001b[0;34m.\u001b[0m\u001b[0m_mouseover\u001b[0m \u001b[0;34m=\u001b[0m \u001b[0mtype\u001b[0m\u001b[0;34m(\u001b[0m\u001b[0mself\u001b[0m\u001b[0;34m)\u001b[0m\u001b[0;34m.\u001b[0m\u001b[0mget_cursor_data\u001b[0m \u001b[0;34m!=\u001b[0m \u001b[0mArtist\u001b[0m\u001b[0;34m.\u001b[0m\u001b[0mget_cursor_data\u001b[0m\u001b[0;34m\u001b[0m\u001b[0;34m\u001b[0m\u001b[0m\n\u001b[0m\u001b[1;32m    121\u001b[0m         \u001b[0mself\u001b[0m\u001b[0;34m.\u001b[0m\u001b[0m_callbacks\u001b[0m \u001b[0;34m=\u001b[0m \u001b[0mcbook\u001b[0m\u001b[0;34m.\u001b[0m\u001b[0mCallbackRegistry\u001b[0m\u001b[0;34m(\u001b[0m\u001b[0;34m)\u001b[0m\u001b[0;34m\u001b[0m\u001b[0;34m\u001b[0m\u001b[0m\n\u001b[1;32m    122\u001b[0m         \u001b[0;32mtry\u001b[0m\u001b[0;34m:\u001b[0m\u001b[0;34m\u001b[0m\u001b[0;34m\u001b[0m\u001b[0m\n",
      "\u001b[0;31mKeyboardInterrupt\u001b[0m: "
     ]
    },
    {
     "data": {
      "image/png": "[encoded data removed]",
      "text/plain": [
       "<Figure size 864x576 with 2 Axes>"
      ]
     },
     "metadata": {
      "needs_background": "light"
     },
     "output_type": "display_data"
    }
   ],
   "source": [
    "model_2_retrain_4 = load_model('model/model_500_2_retrain_3.h5')\n",
    "model_2_retrain_4.compile(loss='mse', optimizer='adam')\n",
    "\n",
    "reduce_lr = ReduceLROnPlateau(monitor='val_loss', factor=0.6,\n",
    "                              patience=20, min_lr=0.0001)\n",
    "tbCallback = TensorBoard(log_dir='./logs')\n",
    "filepath = \"model/model_500_2_retrain_4.h5\"\n",
    "checkpoint = ModelCheckpoint(filepath, monitor='val_loss', verbose=1, save_best_only=True, mode='min')\n",
    "callbacks_list = [checkpoint, reduce_lr, PlotLossesKeras()]\n",
    "\n",
    "model_2_retrain_4.fit(X_train_500, y_train_500, epochs=50000, batch_size = 200, verbose=1, validation_data = (X_test_500,y_test_500), #validation_split=0.2,\n",
    "            callbacks=callbacks_list)"
   ]
  },
  {
   "cell_type": "markdown",
   "id": "38ee3b87",
   "metadata": {},
   "source": [
    "#### normalize the targets"
   ]
  },
  {
   "cell_type": "code",
   "execution_count": 218,
   "id": "9b1b243d",
   "metadata": {},
   "outputs": [],
   "source": [
    "from sklearn.preprocessing import MinMaxScaler\n",
    "\n",
    "target_scaler = MinMaxScaler()\n",
    "target_scaler.fit(y_train_500)\n",
    "\n",
    "X_train_500_minmax = 10*target_scaler.transform(X_train_500)\n",
    "X_test_500_minmmax = 10*target_scaler.transform(X_test_500)\n",
    "\n",
    "y_train_500_minmax = 10*target_scaler.transform(y_train_500)\n",
    "y_test_500_minmax = 10*target_scaler.transform(y_test_500)"
   ]
  },
  {
   "cell_type": "code",
   "execution_count": null,
   "id": "47efd939",
   "metadata": {},
   "outputs": [
    {
     "data": {
      "image/png": "[encoded data removed]",
      "text/plain": [
       "<Figure size 864x576 with 2 Axes>"
      ]
     },
     "metadata": {
      "needs_background": "light"
     },
     "output_type": "display_data"
    },
    {
     "name": "stdout",
     "output_type": "stream",
     "text": [
      "Loss\n",
      "\ttraining         \t (min:    3.100, max:   29.132, cur:    3.101)\n",
      "\tvalidation       \t (min:    3.069, max: 3558.400, cur:    3.071)\n",
      "lr\n",
      "\tlr               \t (min:    0.000, max:    0.001, cur:    0.000)\n",
      "2560/2560 [==============================] - 2s 856us/sample - loss: 3.1006 - val_loss: 3.0713\n",
      "Epoch 2078/50000\n",
      "1764/2560 [===================>..........] - ETA: 0s - loss: 3.0918"
     ]
    }
   ],
   "source": [
    "input_shape = (19,)\n",
    "\n",
    "model_minmax.add(Dense(400, input_shape=input_shape, activation='relu'))\n",
    "#model_minmax.add(Dropout(0.02))\n",
    "model_minmax.add(BatchNormalization())\n",
    "model_minmax.add(Dense(400, activation='relu'))\n",
    "#model_minmax.add(Dropout(0.02))\n",
    "model_minmax.add(BatchNormalization())\n",
    "model_minmax.add(Dense(400, activation='relu'))\n",
    "#model_minmax.add(Dropout(0.02))\n",
    "model_minmax.add(BatchNormalization())\n",
    "model_minmax.add(Dense(19, activation='linear'))\n",
    "\n",
    "# Configure the model and start training\n",
    "model_minmax.compile(loss='mse', optimizer='adam')\n",
    "\n",
    "reduce_lr = ReduceLROnPlateau(monitor='val_loss', factor=0.5,\n",
    "                              patience=20, min_lr=0.000001)\n",
    "tbCallback = TensorBoard(log_dir='./logs')\n",
    "filepath = \"model/model_500_minmax_0.h5\"\n",
    "checkpoint = ModelCheckpoint(filepath, monitor='loss', verbose=1, save_best_only=True, mode='min')\n",
    "callbacks_list = [checkpoint, reduce_lr, PlotLossesKeras()]\n",
    "\n",
    "model_minmax.fit(X_train_500_minmax, y_train_500_minmax, epochs=50000, batch_size = 36, verbose=1, validation_data = (X_test_500_minmmax,y_test_500_minmax), #validation_split=0.2,\n",
    "            callbacks=callbacks_list)"
   ]
  },
  {
   "cell_type": "markdown",
   "id": "767a010b",
   "metadata": {},
   "source": [
    "#### MSE and R2 score for minmax"
   ]
  },
  {
   "cell_type": "code",
   "execution_count": 203,
   "id": "2a278955",
   "metadata": {},
   "outputs": [],
   "source": [
    "y_train_predict_500 = model_minmax.predict(X_train_500_minmax)\n",
    "y_test_predict_500 = model_minmax.predict(X_test_500_minmmax)"
   ]
  },
  {
   "cell_type": "code",
   "execution_count": 204,
   "id": "3914b36a",
   "metadata": {},
   "outputs": [
    {
     "name": "stdout",
     "output_type": "stream",
     "text": [
      "The model performance for testing set\n",
      "--------------------------------------\n",
      "MSE train is 0.031003251512883974\n",
      "MSE test is 0.030715263974686848\n",
      "R2 train is -0.000152967329086154\n",
      "R2 test is -0.003006113271485355\n"
     ]
    }
   ],
   "source": [
    "mse_train_500 = metrics.mean_squared_error(y_train_500_minmax, y_train_predict_500)\n",
    "mse_test_500 = metrics.mean_squared_error(y_test_500_minmax, y_test_predict_500)\n",
    "\n",
    "r2_train_500 = r2_score(y_train_500_minmax, y_train_predict_500)\n",
    "r2_test_500 = r2_score(y_test_500_minmax, y_test_predict_500)\n",
    "\n",
    "print(\"The model performance for testing set\")\n",
    "print(\"--------------------------------------\")\n",
    "print('MSE train is {}'.format(mse_train_500))\n",
    "print('MSE test is {}'.format(mse_test_500))\n",
    "print('R2 train is {}'.format(r2_train_500))\n",
    "print('R2 test is {}'.format(r2_test_500))"
   ]
  },
  {
   "cell_type": "code",
   "execution_count": 199,
   "id": "22a6e8f6",
   "metadata": {},
   "outputs": [],
   "source": [
    "y_train_predict_500_inv = target_scaler.inverse_transform(y_train_predict_500)\n",
    "y_test_predict_500_inv = target_scaler.inverse_transform(y_test_predict_500)"
   ]
  },
  {
   "cell_type": "code",
   "execution_count": 200,
   "id": "84f15cef",
   "metadata": {},
   "outputs": [
    {
     "name": "stdout",
     "output_type": "stream",
     "text": [
      "The model performance for testing set\n",
      "--------------------------------------\n",
      "MSE train is 7430.018798331819\n",
      "MSE test is 7310.410099662353\n",
      "R2 train is -0.0006605805039751348\n",
      "R2 test is -0.0031904826334089365\n"
     ]
    }
   ],
   "source": [
    "mse_train_500 = metrics.mean_squared_error(y_train_500, y_train_predict_500_inv)\n",
    "mse_test_500 = metrics.mean_squared_error(y_test_500, y_test_predict_500_inv)\n",
    "\n",
    "r2_train_500 = r2_score(y_train_500, y_train_predict_500_inv)\n",
    "r2_test_500 = r2_score(y_test_500, y_test_predict_500_inv)\n",
    "\n",
    "print(\"The model performance for testing set\")\n",
    "print(\"--------------------------------------\")\n",
    "print('MSE train is {}'.format(mse_train_500))\n",
    "print('MSE test is {}'.format(mse_test_500))\n",
    "print('R2 train is {}'.format(r2_train_500))\n",
    "print('R2 test is {}'.format(r2_test_500))"
   ]
  },
  {
   "cell_type": "markdown",
   "id": "dd0410c2",
   "metadata": {},
   "source": [
    "#### MSE and R2 score"
   ]
  },
  {
   "cell_type": "code",
   "execution_count": 90,
   "id": "facfedac",
   "metadata": {},
   "outputs": [],
   "source": [
    "y_train_predict_500 = model.predict(X_train_500)\n",
    "y_test_predict_500 = model.predict(X_test_500)"
   ]
  },
  {
   "cell_type": "code",
   "execution_count": 91,
   "id": "2f0aafd2",
   "metadata": {},
   "outputs": [
    {
     "name": "stdout",
     "output_type": "stream",
     "text": [
      "The model performance for testing set\n",
      "--------------------------------------\n",
      "MSE train is 208.50736009099893\n",
      "MSE test is 258.06542823060107\n",
      "R2 train is 0.6190423084808787\n",
      "R2 test is 0.6067981538298751\n"
     ]
    }
   ],
   "source": [
    "mse_train_500 = metrics.mean_squared_error(y_train_500, y_train_predict_500)\n",
    "mse_test_500 = metrics.mean_squared_error(y_test_500, y_test_predict_500)\n",
    "\n",
    "r2_train_500 = r2_score(y_train_500, y_train_predict_500)\n",
    "r2_test_500 = r2_score(y_test_500, y_test_predict_500)\n",
    "\n",
    "print(\"The model performance for testing set\")\n",
    "print(\"--------------------------------------\")\n",
    "print('MSE train is {}'.format(mse_train_500))\n",
    "print('MSE test is {}'.format(mse_test_500))\n",
    "print('R2 train is {}'.format(r2_train_500))\n",
    "print('R2 test is {}'.format(r2_test_500))"
   ]
  },
  {
   "cell_type": "markdown",
   "id": "efa71839",
   "metadata": {},
   "source": [
    "## Complete_small dataset"
   ]
  },
  {
   "cell_type": "markdown",
   "id": "9e9cc07a",
   "metadata": {},
   "source": [
    "### Select the data with RMSE<0.09"
   ]
  },
  {
   "cell_type": "code",
   "execution_count": 9,
   "id": "ff9fabd3",
   "metadata": {},
   "outputs": [],
   "source": [
    "index_500 = range(action_CST_500.shape[1])\n",
    "temp_500 = RMS_500[0,:]>0.09\n",
    "to_delete_500 = index_500*temp_500\n",
    "to_delete_500 = [i for i in to_delete_500 if i != 0]\n",
    "\n",
    "index_900 = range(action_CST_900.shape[1])\n",
    "temp_900 = RMS_900[0,:]>0.09\n",
    "to_delete_900 = index_900*temp_900\n",
    "to_delete_900 = [i for i in to_delete_900 if i != 0]\n",
    "\n",
    "index_1000 = range(action_CST_1000.shape[1])\n",
    "temp_1000 = RMS_1000[0,:]>0.09\n",
    "to_delete_1000 = index_1000*temp_1000\n",
    "to_delete_1000 = [i for i in to_delete_1000 if i != 0]\n",
    "\n",
    "index_1100 = range(action_CST_1100.shape[1])\n",
    "temp_1100 = RMS_1100[0,:]>0.09\n",
    "to_delete_1100 = index_1100*temp_1100\n",
    "to_delete_1100 = [i for i in to_delete_1100 if i != 0]"
   ]
  },
  {
   "cell_type": "code",
   "execution_count": 10,
   "id": "dd27b202",
   "metadata": {},
   "outputs": [],
   "source": [
    "action_CST_500_small  = np.delete(action_CST_500, to_delete_500,  axis=1)\n",
    "action_CST_900_small  = np.delete(action_CST_900, to_delete_900,  axis=1)\n",
    "action_CST_1000_small = np.delete(action_CST_1000, to_delete_1000,  axis=1)\n",
    "action_CST_1100_small = np.delete(action_CST_1100, to_delete_1100,  axis=1)\n",
    "\n",
    "action_filttune_500_small   = np.delete(action_filttune_500, to_delete_500,  axis=1)\n",
    "action_filttune_900_small   = np.delete(action_filttune_900, to_delete_900,  axis=1)\n",
    "action_filttune_1000_small  = np.delete(action_filttune_1000, to_delete_1000,  axis=1)\n",
    "action_filttune_1100_small  = np.delete(action_filttune_1100, to_delete_1100,  axis=1)"
   ]
  },
  {
   "cell_type": "code",
   "execution_count": 12,
   "id": "9632a0de",
   "metadata": {},
   "outputs": [],
   "source": [
    "a_CST_small = np.concatenate((action_CST_500_small,action_CST_900_small,\n",
    "                              action_CST_1000_small,action_CST_1100_small),axis = 1)\n",
    "a_filttune_small = np.concatenate((action_filttune_500_small,action_filttune_900_small, \n",
    "                                   action_filttune_1000_small, action_filttune_1100_small),axis = 1)"
   ]
  },
  {
   "cell_type": "code",
   "execution_count": 13,
   "id": "98387109",
   "metadata": {},
   "outputs": [],
   "source": [
    "X_train_small, X_test_small, y_train_small, y_test_small = train_test_split( \n",
    "    a_CST_small.transpose(), a_filttune_small.transpose(), random_state=1,train_size = 0.8)"
   ]
  },
  {
   "cell_type": "code",
   "execution_count": null,
   "id": "9fddc43e",
   "metadata": {
    "collapsed": true,
    "jupyter": {
     "outputs_hidden": true
    }
   },
   "outputs": [
    {
     "name": "stdout",
     "output_type": "stream",
     "text": [
      "Feature shape: (19,)\n",
      "Train on 3881 samples, validate on 971 samples\n",
      "Epoch 1/50000\n",
      "3881/3881 [==============================] - 0s 50us/step - loss: 7338.8869 - val_loss: 7238.8278\n",
      "Epoch 2/50000\n",
      "3881/3881 [==============================] - 0s 16us/step - loss: 7107.1893 - val_loss: 6958.5865\n",
      "Epoch 3/50000\n",
      "3881/3881 [==============================] - 0s 15us/step - loss: 6811.4809 - val_loss: 6805.3252\n",
      "Epoch 4/50000\n",
      "3881/3881 [==============================] - 0s 16us/step - loss: 6620.1499 - val_loss: 6859.2579\n",
      "Epoch 5/50000\n",
      "3881/3881 [==============================] - 0s 17us/step - loss: 6474.9230 - val_loss: 6734.0378\n",
      "Epoch 6/50000\n",
      "3881/3881 [==============================] - 0s 15us/step - loss: 6380.2860 - val_loss: 6662.9000\n",
      "Epoch 7/50000\n",
      "3881/3881 [==============================] - 0s 16us/step - loss: 6272.5475 - val_loss: 6603.9588\n",
      "Epoch 8/50000\n",
      "3881/3881 [==============================] - 0s 15us/step - loss: 6189.8110 - val_loss: 6609.9991\n",
      "Epoch 9/50000\n",
      "3881/3881 [==============================] - 0s 15us/step - loss: 6164.2877 - val_loss: 6616.4504\n",
      "Epoch 10/50000\n",
      "3881/3881 [==============================] - 0s 17us/step - loss: 6106.0683 - val_loss: 6621.5189\n",
      "Epoch 11/50000\n",
      "3881/3881 [==============================] - 0s 15us/step - loss: 6074.3422 - val_loss: 6717.5924\n",
      "Epoch 12/50000\n",
      "3881/3881 [==============================] - 0s 17us/step - loss: 6061.1673 - val_loss: 6685.0257\n",
      "Epoch 13/50000\n",
      "3881/3881 [==============================] - 0s 16us/step - loss: 5984.2002 - val_loss: 6704.3894\n",
      "Epoch 14/50000\n",
      "3881/3881 [==============================] - 0s 16us/step - loss: 5987.0709 - val_loss: 6662.3765\n",
      "Epoch 15/50000\n",
      "3881/3881 [==============================] - 0s 16us/step - loss: 5923.8300 - val_loss: 6732.0930\n",
      "Epoch 16/50000\n",
      "3881/3881 [==============================] - 0s 17us/step - loss: 5900.9267 - val_loss: 6700.5816\n",
      "Epoch 17/50000\n",
      "3881/3881 [==============================] - 0s 15us/step - loss: 5885.1836 - val_loss: 6799.4940\n",
      "Epoch 18/50000\n",
      "3881/3881 [==============================] - 0s 16us/step - loss: 5835.8779 - val_loss: 6805.2916\n",
      "Epoch 19/50000\n",
      "3881/3881 [==============================] - 0s 18us/step - loss: 5791.3592 - val_loss: 6875.0332\n",
      "Epoch 20/50000\n",
      "3881/3881 [==============================] - 0s 16us/step - loss: 5763.6653 - val_loss: 6927.9837\n",
      "Epoch 21/50000\n",
      "3881/3881 [==============================] - 0s 15us/step - loss: 5715.0628 - val_loss: 6878.5958\n",
      "Epoch 22/50000\n",
      "3881/3881 [==============================] - 0s 15us/step - loss: 5676.6345 - val_loss: 6908.9333\n",
      "Epoch 23/50000\n",
      "3881/3881 [==============================] - 0s 17us/step - loss: 5612.2401 - val_loss: 6933.7275\n",
      "Epoch 24/50000\n",
      "3881/3881 [==============================] - 0s 15us/step - loss: 5624.8705 - val_loss: 6941.3830\n",
      "Epoch 25/50000\n",
      "3881/3881 [==============================] - 0s 16us/step - loss: 5567.6703 - val_loss: 6930.0182\n",
      "Epoch 26/50000\n",
      "3881/3881 [==============================] - 0s 15us/step - loss: 5521.6328 - val_loss: 7001.3616\n",
      "Epoch 27/50000\n",
      "3881/3881 [==============================] - 0s 18us/step - loss: 5467.6274 - val_loss: 7028.3465\n",
      "Epoch 28/50000\n",
      "3881/3881 [==============================] - 0s 16us/step - loss: 5432.6720 - val_loss: 7006.0908\n",
      "Epoch 29/50000\n",
      "3881/3881 [==============================] - 0s 17us/step - loss: 5386.6929 - val_loss: 7028.3667\n",
      "Epoch 30/50000\n",
      "3881/3881 [==============================] - 0s 15us/step - loss: 5339.6724 - val_loss: 7147.7828\n",
      "Epoch 31/50000\n",
      "3881/3881 [==============================] - 0s 16us/step - loss: 5332.9494 - val_loss: 7170.6341\n",
      "Epoch 32/50000\n",
      "3881/3881 [==============================] - 0s 15us/step - loss: 5225.9526 - val_loss: 7191.5268\n",
      "Epoch 33/50000\n",
      "3881/3881 [==============================] - 0s 15us/step - loss: 5221.9523 - val_loss: 7231.1693\n",
      "Epoch 34/50000\n",
      "3881/3881 [==============================] - 0s 15us/step - loss: 5162.5083 - val_loss: 7452.8512\n",
      "Epoch 35/50000\n",
      "3881/3881 [==============================] - 0s 19us/step - loss: 5095.8108 - val_loss: 7303.5736\n",
      "Epoch 36/50000\n",
      "3881/3881 [==============================] - 0s 15us/step - loss: 5024.9552 - val_loss: 7350.3165\n",
      "Epoch 37/50000\n",
      "3881/3881 [==============================] - 0s 15us/step - loss: 5001.4264 - val_loss: 7347.3313\n",
      "Epoch 38/50000\n",
      "3881/3881 [==============================] - 0s 15us/step - loss: 4926.1945 - val_loss: 7409.9153\n",
      "Epoch 39/50000\n",
      "3881/3881 [==============================] - 0s 16us/step - loss: 4880.1759 - val_loss: 7513.1855\n",
      "Epoch 40/50000\n",
      "3881/3881 [==============================] - 0s 16us/step - loss: 4886.7885 - val_loss: 7517.3101\n",
      "Epoch 41/50000\n",
      "3881/3881 [==============================] - 0s 15us/step - loss: 4869.8896 - val_loss: 7447.6328\n",
      "Epoch 42/50000\n",
      "3881/3881 [==============================] - 0s 16us/step - loss: 4772.7974 - val_loss: 7517.8902\n",
      "Epoch 43/50000\n",
      "3881/3881 [==============================] - 0s 18us/step - loss: 4705.6357 - val_loss: 7606.6233\n",
      "Epoch 44/50000\n",
      "3881/3881 [==============================] - 0s 16us/step - loss: 4672.3070 - val_loss: 7757.9513\n",
      "Epoch 45/50000\n",
      "3881/3881 [==============================] - 0s 16us/step - loss: 4591.9940 - val_loss: 7807.7424\n",
      "Epoch 46/50000\n",
      "3881/3881 [==============================] - 0s 16us/step - loss: 4609.5317 - val_loss: 7766.8995\n",
      "Epoch 47/50000\n",
      "3881/3881 [==============================] - 0s 15us/step - loss: 4557.7065 - val_loss: 7788.5662\n",
      "Epoch 48/50000\n",
      "3881/3881 [==============================] - 0s 15us/step - loss: 4459.6713 - val_loss: 7811.1053\n",
      "Epoch 49/50000\n",
      "3881/3881 [==============================] - 0s 15us/step - loss: 4413.5674 - val_loss: 7933.4284\n",
      "Epoch 50/50000\n",
      "3881/3881 [==============================] - 0s 15us/step - loss: 4346.0302 - val_loss: 8054.2744\n",
      "Epoch 51/50000\n",
      "3881/3881 [==============================] - 0s 15us/step - loss: 4322.5414 - val_loss: 7999.6054\n",
      "Epoch 52/50000\n",
      "3881/3881 [==============================] - 0s 16us/step - loss: 4280.5450 - val_loss: 8101.5812\n",
      "Epoch 53/50000\n",
      "3881/3881 [==============================] - 0s 16us/step - loss: 4216.7078 - val_loss: 8132.3388\n",
      "Epoch 54/50000\n",
      "3881/3881 [==============================] - 0s 17us/step - loss: 4176.1069 - val_loss: 8201.7507\n",
      "Epoch 55/50000\n",
      "3881/3881 [==============================] - 0s 15us/step - loss: 4127.0679 - val_loss: 8314.9241\n",
      "Epoch 56/50000\n",
      "3881/3881 [==============================] - 0s 15us/step - loss: 4121.8271 - val_loss: 8339.8172\n",
      "Epoch 57/50000\n",
      "3881/3881 [==============================] - 0s 15us/step - loss: 4101.5975 - val_loss: 8330.1647\n",
      "Epoch 58/50000\n",
      "3881/3881 [==============================] - 0s 15us/step - loss: 4075.1142 - val_loss: 8398.0053\n",
      "Epoch 59/50000\n",
      "3881/3881 [==============================] - 0s 16us/step - loss: 4020.1346 - val_loss: 8362.7563\n",
      "Epoch 60/50000\n",
      "3881/3881 [==============================] - 0s 16us/step - loss: 3953.7872 - val_loss: 8450.9064\n",
      "Epoch 61/50000\n",
      "3881/3881 [==============================] - 0s 17us/step - loss: 3964.4070 - val_loss: 8405.0717\n",
      "Epoch 62/50000\n",
      "3881/3881 [==============================] - 0s 16us/step - loss: 3908.0444 - val_loss: 8433.7942\n",
      "Epoch 63/50000\n",
      "3881/3881 [==============================] - 0s 15us/step - loss: 3837.7796 - val_loss: 8763.0592\n",
      "Epoch 64/50000\n",
      "3881/3881 [==============================] - 0s 16us/step - loss: 3817.6878 - val_loss: 8641.3041\n",
      "Epoch 65/50000\n",
      "3881/3881 [==============================] - 0s 19us/step - loss: 3770.0587 - val_loss: 8680.3027\n",
      "Epoch 66/50000\n",
      "3881/3881 [==============================] - 0s 17us/step - loss: 3782.9816 - val_loss: 8809.8882\n",
      "Epoch 67/50000\n",
      "3881/3881 [==============================] - 0s 16us/step - loss: 3723.8759 - val_loss: 8752.7318\n",
      "Epoch 68/50000\n",
      "3881/3881 [==============================] - 0s 16us/step - loss: 3741.3804 - val_loss: 8751.6247\n",
      "Epoch 69/50000\n",
      "3881/3881 [==============================] - 0s 15us/step - loss: 3712.1293 - val_loss: 8936.5700\n",
      "Epoch 70/50000\n",
      "3881/3881 [==============================] - 0s 16us/step - loss: 3623.2307 - val_loss: 8925.7128\n",
      "Epoch 71/50000\n",
      "3881/3881 [==============================] - 0s 15us/step - loss: 3651.0317 - val_loss: 8862.3386\n",
      "Epoch 72/50000\n",
      "3881/3881 [==============================] - 0s 16us/step - loss: 3580.0028 - val_loss: 9054.9768\n",
      "Epoch 73/50000\n",
      "3881/3881 [==============================] - 0s 18us/step - loss: 3539.9081 - val_loss: 8967.6363\n",
      "Epoch 74/50000\n",
      "3881/3881 [==============================] - 0s 16us/step - loss: 3515.0659 - val_loss: 9049.0321\n",
      "Epoch 75/50000\n",
      "3881/3881 [==============================] - 0s 15us/step - loss: 3505.7861 - val_loss: 8825.5952\n",
      "Epoch 76/50000\n",
      "3881/3881 [==============================] - 0s 16us/step - loss: 3495.9121 - val_loss: 9495.0017\n",
      "Epoch 77/50000\n",
      "3881/3881 [==============================] - 0s 16us/step - loss: 3488.7576 - val_loss: 9235.6398\n",
      "Epoch 78/50000\n",
      "3881/3881 [==============================] - 0s 15us/step - loss: 3410.0431 - val_loss: 9364.2933\n",
      "Epoch 79/50000\n",
      "3881/3881 [==============================] - 0s 15us/step - loss: 3368.1636 - val_loss: 9288.3849\n",
      "Epoch 80/50000\n",
      "3881/3881 [==============================] - 0s 15us/step - loss: 3337.9279 - val_loss: 9307.3636\n",
      "Epoch 81/50000\n",
      "3881/3881 [==============================] - 0s 17us/step - loss: 3329.0919 - val_loss: 9304.0322\n",
      "Epoch 82/50000\n",
      "3881/3881 [==============================] - 0s 16us/step - loss: 3288.2647 - val_loss: 9272.5189\n",
      "Epoch 83/50000\n",
      "3881/3881 [==============================] - 0s 16us/step - loss: 3285.1425 - val_loss: 9499.3736\n",
      "Epoch 84/50000\n",
      "3881/3881 [==============================] - 0s 19us/step - loss: 3270.5087 - val_loss: 9471.2867\n",
      "Epoch 85/50000\n",
      "3881/3881 [==============================] - 0s 16us/step - loss: 3222.7836 - val_loss: 9418.3591\n",
      "Epoch 86/50000\n",
      "3881/3881 [==============================] - 0s 17us/step - loss: 3203.3388 - val_loss: 9479.0018\n",
      "Epoch 87/50000\n",
      "3881/3881 [==============================] - 0s 16us/step - loss: 3208.8475 - val_loss: 9535.2498\n",
      "Epoch 88/50000\n",
      "3881/3881 [==============================] - 0s 16us/step - loss: 3194.0266 - val_loss: 9738.0235\n",
      "Epoch 89/50000\n",
      "3881/3881 [==============================] - 0s 15us/step - loss: 3151.9917 - val_loss: 9630.5326\n",
      "Epoch 90/50000\n",
      "3881/3881 [==============================] - 0s 16us/step - loss: 3138.5842 - val_loss: 9585.1493\n",
      "Epoch 91/50000\n",
      "3881/3881 [==============================] - 0s 16us/step - loss: 3099.9321 - val_loss: 9554.2470\n",
      "Epoch 92/50000\n",
      "3881/3881 [==============================] - 0s 17us/step - loss: 3082.5514 - val_loss: 9686.5515\n",
      "Epoch 93/50000\n",
      "3881/3881 [==============================] - 0s 18us/step - loss: 3099.5191 - val_loss: 9794.2642\n",
      "Epoch 94/50000\n",
      "3881/3881 [==============================] - 0s 16us/step - loss: 3086.4227 - val_loss: 9705.1436\n",
      "Epoch 95/50000\n",
      "3881/3881 [==============================] - 0s 16us/step - loss: 3032.9511 - val_loss: 9835.7746\n",
      "Epoch 96/50000\n",
      "3881/3881 [==============================] - 0s 16us/step - loss: 2994.0744 - val_loss: 9979.9819\n",
      "Epoch 97/50000\n",
      "3881/3881 [==============================] - 0s 15us/step - loss: 3012.4386 - val_loss: 9841.3221\n",
      "Epoch 98/50000\n",
      "3881/3881 [==============================] - 0s 16us/step - loss: 3029.5498 - val_loss: 9771.5173\n",
      "Epoch 99/50000\n",
      "3881/3881 [==============================] - 0s 15us/step - loss: 2965.2389 - val_loss: 10016.8826\n",
      "Epoch 100/50000\n",
      "3881/3881 [==============================] - 0s 16us/step - loss: 2948.4550 - val_loss: 9925.5452\n",
      "Epoch 101/50000\n",
      "3881/3881 [==============================] - 0s 15us/step - loss: 2927.1884 - val_loss: 9933.0622\n",
      "Epoch 102/50000\n",
      "3881/3881 [==============================] - 0s 16us/step - loss: 2924.1960 - val_loss: 9969.8475\n",
      "Epoch 103/50000\n",
      "3881/3881 [==============================] - 0s 19us/step - loss: 2919.4364 - val_loss: 9992.4860\n",
      "Epoch 104/50000\n",
      "3881/3881 [==============================] - 0s 17us/step - loss: 2891.0333 - val_loss: 10054.1028\n",
      "Epoch 105/50000\n",
      "3881/3881 [==============================] - 0s 15us/step - loss: 2909.6514 - val_loss: 10150.0038\n",
      "Epoch 106/50000\n",
      "3881/3881 [==============================] - 0s 16us/step - loss: 2864.7013 - val_loss: 10194.0198\n",
      "Epoch 107/50000\n",
      "3881/3881 [==============================] - 0s 17us/step - loss: 2845.4850 - val_loss: 10259.7025\n",
      "Epoch 108/50000\n",
      "3881/3881 [==============================] - 0s 15us/step - loss: 2843.1864 - val_loss: 10295.1145\n",
      "Epoch 109/50000\n",
      "3881/3881 [==============================] - 0s 16us/step - loss: 2803.8878 - val_loss: 10287.6376\n",
      "Epoch 110/50000\n",
      "3881/3881 [==============================] - 0s 15us/step - loss: 2807.4056 - val_loss: 10412.2928\n",
      "Epoch 111/50000\n",
      "3881/3881 [==============================] - 0s 16us/step - loss: 2867.4571 - val_loss: 10262.3522\n",
      "Epoch 112/50000\n",
      "3881/3881 [==============================] - 0s 16us/step - loss: 2838.1635 - val_loss: 10218.6787\n",
      "Epoch 113/50000\n",
      "3881/3881 [==============================] - 0s 19us/step - loss: 2793.6592 - val_loss: 10272.9170\n",
      "Epoch 114/50000\n",
      "3881/3881 [==============================] - 0s 15us/step - loss: 2745.5181 - val_loss: 10342.2988\n",
      "Epoch 115/50000\n",
      "3881/3881 [==============================] - 0s 16us/step - loss: 2715.0207 - val_loss: 10390.4112\n",
      "Epoch 116/50000\n",
      "3881/3881 [==============================] - 0s 16us/step - loss: 2740.2805 - val_loss: 10339.7046\n",
      "Epoch 117/50000\n",
      "3881/3881 [==============================] - 0s 16us/step - loss: 2692.9702 - val_loss: 10499.6069\n",
      "Epoch 118/50000\n",
      "3881/3881 [==============================] - 0s 15us/step - loss: 2648.0248 - val_loss: 10560.6409\n",
      "Epoch 119/50000\n",
      "3881/3881 [==============================] - 0s 16us/step - loss: 2647.1477 - val_loss: 10503.6037\n",
      "Epoch 120/50000\n",
      "3881/3881 [==============================] - 0s 15us/step - loss: 2637.0762 - val_loss: 10569.8953\n",
      "Epoch 121/50000\n",
      "3881/3881 [==============================] - 0s 15us/step - loss: 2623.4055 - val_loss: 10607.3585\n",
      "Epoch 122/50000\n",
      "3881/3881 [==============================] - 0s 15us/step - loss: 2664.1156 - val_loss: 10654.8197\n",
      "Epoch 123/50000\n",
      "3881/3881 [==============================] - 0s 15us/step - loss: 2660.5071 - val_loss: 10530.9888\n",
      "Epoch 124/50000\n",
      "3881/3881 [==============================] - 0s 15us/step - loss: 2602.3987 - val_loss: 10593.0072\n",
      "Epoch 125/50000\n",
      "3881/3881 [==============================] - 0s 15us/step - loss: 2599.0650 - val_loss: 10637.2881\n",
      "Epoch 126/50000\n",
      "3881/3881 [==============================] - 0s 19us/step - loss: 2582.3352 - val_loss: 10686.4554\n",
      "Epoch 127/50000\n",
      "3881/3881 [==============================] - 0s 15us/step - loss: 2561.7852 - val_loss: 10856.4611\n",
      "Epoch 128/50000\n",
      "3881/3881 [==============================] - 0s 15us/step - loss: 2598.2975 - val_loss: 10711.3654\n",
      "Epoch 129/50000\n",
      "3881/3881 [==============================] - 0s 15us/step - loss: 2587.7438 - val_loss: 10736.4344\n",
      "Epoch 130/50000\n",
      "3881/3881 [==============================] - 0s 15us/step - loss: 2544.5415 - val_loss: 10700.0386\n",
      "Epoch 131/50000\n",
      "3881/3881 [==============================] - 0s 16us/step - loss: 2535.8569 - val_loss: 10939.6414\n",
      "Epoch 132/50000\n",
      "3881/3881 [==============================] - 0s 15us/step - loss: 2551.5092 - val_loss: 10788.6351\n",
      "Epoch 133/50000\n",
      "3881/3881 [==============================] - 0s 16us/step - loss: 2538.4795 - val_loss: 10919.9762\n",
      "Epoch 134/50000\n",
      "3881/3881 [==============================] - 0s 16us/step - loss: 2550.1560 - val_loss: 10828.5976\n",
      "Epoch 135/50000\n",
      "3881/3881 [==============================] - 0s 15us/step - loss: 2539.9246 - val_loss: 10945.0248\n",
      "Epoch 136/50000\n",
      "3881/3881 [==============================] - 0s 16us/step - loss: 2500.6929 - val_loss: 10992.9089\n",
      "Epoch 137/50000\n",
      "3881/3881 [==============================] - 0s 16us/step - loss: 2518.8218 - val_loss: 10953.6710\n",
      "Epoch 138/50000\n",
      "3881/3881 [==============================] - 0s 15us/step - loss: 2526.7876 - val_loss: 10869.7357\n",
      "Epoch 139/50000\n",
      "3881/3881 [==============================] - 0s 15us/step - loss: 2521.1141 - val_loss: 11070.0750\n",
      "Epoch 140/50000\n",
      "3881/3881 [==============================] - 0s 17us/step - loss: 2508.5666 - val_loss: 11048.3836\n",
      "Epoch 141/50000\n",
      "3881/3881 [==============================] - 0s 15us/step - loss: 2466.0884 - val_loss: 11031.9483\n",
      "Epoch 142/50000\n",
      "3881/3881 [==============================] - 0s 15us/step - loss: 2466.1177 - val_loss: 10946.5789\n",
      "Epoch 143/50000\n",
      "3881/3881 [==============================] - 0s 16us/step - loss: 2419.0115 - val_loss: 10988.0071\n",
      "Epoch 144/50000\n",
      "3881/3881 [==============================] - 0s 15us/step - loss: 2396.9813 - val_loss: 11110.0129\n",
      "Epoch 145/50000\n",
      "3881/3881 [==============================] - 0s 15us/step - loss: 2387.1979 - val_loss: 11149.4970\n",
      "Epoch 146/50000\n",
      "3881/3881 [==============================] - 0s 16us/step - loss: 2416.6111 - val_loss: 11175.3908\n",
      "Epoch 147/50000\n",
      "3881/3881 [==============================] - 0s 16us/step - loss: 2418.7441 - val_loss: 11152.3036\n",
      "Epoch 148/50000\n",
      "3881/3881 [==============================] - 0s 16us/step - loss: 2420.2006 - val_loss: 11255.4820\n",
      "Epoch 149/50000\n",
      "3881/3881 [==============================] - 0s 15us/step - loss: 2370.0564 - val_loss: 11190.9072\n",
      "Epoch 150/50000\n",
      "3881/3881 [==============================] - 0s 15us/step - loss: 2336.6691 - val_loss: 11308.6902\n",
      "Epoch 151/50000\n",
      "3881/3881 [==============================] - 0s 19us/step - loss: 2336.5904 - val_loss: 11349.5917\n",
      "Epoch 152/50000\n",
      "3881/3881 [==============================] - 0s 15us/step - loss: 2330.4673 - val_loss: 11180.2231\n",
      "Epoch 153/50000\n",
      "3881/3881 [==============================] - 0s 15us/step - loss: 2314.1497 - val_loss: 11363.6606\n",
      "Epoch 154/50000\n",
      "3881/3881 [==============================] - 0s 16us/step - loss: 2322.8157 - val_loss: 11519.8574\n",
      "Epoch 155/50000\n",
      "3881/3881 [==============================] - 0s 15us/step - loss: 2322.4759 - val_loss: 11366.7155\n",
      "Epoch 156/50000\n",
      "3881/3881 [==============================] - 0s 17us/step - loss: 2298.7241 - val_loss: 11494.6412\n",
      "Epoch 157/50000\n",
      "3881/3881 [==============================] - 0s 16us/step - loss: 2329.7055 - val_loss: 11259.7852\n",
      "Epoch 158/50000\n",
      "3881/3881 [==============================] - 0s 16us/step - loss: 2335.9158 - val_loss: 11349.7246\n",
      "Epoch 159/50000\n",
      "3881/3881 [==============================] - 0s 15us/step - loss: 2330.3634 - val_loss: 11427.8353\n",
      "Epoch 160/50000\n",
      "3881/3881 [==============================] - 0s 16us/step - loss: 2305.9330 - val_loss: 11465.3489\n",
      "Epoch 161/50000\n",
      "3881/3881 [==============================] - 0s 15us/step - loss: 2310.2771 - val_loss: 11418.6863\n",
      "Epoch 162/50000\n",
      "3881/3881 [==============================] - 0s 16us/step - loss: 2294.5698 - val_loss: 11457.6334\n",
      "Epoch 163/50000\n",
      "3881/3881 [==============================] - 0s 20us/step - loss: 2295.4876 - val_loss: 11481.0319\n",
      "Epoch 164/50000\n",
      "3881/3881 [==============================] - 0s 18us/step - loss: 2278.6003 - val_loss: 11477.9005\n",
      "Epoch 165/50000\n",
      "3881/3881 [==============================] - 0s 15us/step - loss: 2249.5771 - val_loss: 11479.1813\n",
      "Epoch 166/50000\n",
      "3881/3881 [==============================] - 0s 16us/step - loss: 2246.3158 - val_loss: 11611.6666\n",
      "Epoch 167/50000\n",
      "3881/3881 [==============================] - 0s 15us/step - loss: 2281.9169 - val_loss: 11550.3621\n",
      "Epoch 168/50000\n",
      "3881/3881 [==============================] - 0s 16us/step - loss: 2235.0337 - val_loss: 11519.5650\n",
      "Epoch 169/50000\n",
      "3881/3881 [==============================] - 0s 15us/step - loss: 2231.1741 - val_loss: 11712.2512\n",
      "Epoch 170/50000\n",
      "3881/3881 [==============================] - 0s 17us/step - loss: 2243.1479 - val_loss: 11692.4229\n",
      "Epoch 171/50000\n",
      "3881/3881 [==============================] - 0s 16us/step - loss: 2258.9011 - val_loss: 11612.4682\n",
      "Epoch 172/50000\n",
      "3881/3881 [==============================] - 0s 16us/step - loss: 2234.7244 - val_loss: 11718.3894\n",
      "Epoch 173/50000\n",
      "3881/3881 [==============================] - 0s 16us/step - loss: 2228.4738 - val_loss: 11713.8917\n",
      "Epoch 174/50000\n",
      "3881/3881 [==============================] - 0s 16us/step - loss: 2233.6116 - val_loss: 11901.0154\n",
      "Epoch 175/50000\n",
      "3881/3881 [==============================] - 0s 18us/step - loss: 2275.0035 - val_loss: 11662.8038\n",
      "Epoch 176/50000\n",
      "3881/3881 [==============================] - 0s 17us/step - loss: 2199.2227 - val_loss: 11717.0789\n",
      "Epoch 177/50000\n",
      "3881/3881 [==============================] - 0s 16us/step - loss: 2191.4094 - val_loss: 11677.7595\n",
      "Epoch 178/50000\n",
      "3881/3881 [==============================] - 0s 16us/step - loss: 2169.3802 - val_loss: 11760.3621\n",
      "Epoch 179/50000\n",
      "3881/3881 [==============================] - 0s 16us/step - loss: 2146.8813 - val_loss: 11813.9784\n",
      "Epoch 180/50000\n",
      "3881/3881 [==============================] - 0s 16us/step - loss: 2160.4791 - val_loss: 11883.4342\n",
      "Epoch 181/50000\n",
      "3881/3881 [==============================] - 0s 16us/step - loss: 2143.3999 - val_loss: 11964.6674\n",
      "Epoch 182/50000\n",
      "3881/3881 [==============================] - 0s 15us/step - loss: 2153.9405 - val_loss: 11918.6150\n",
      "Epoch 183/50000\n",
      "3881/3881 [==============================] - 0s 15us/step - loss: 2146.5103 - val_loss: 11900.3505\n",
      "Epoch 184/50000\n",
      "3881/3881 [==============================] - 0s 16us/step - loss: 2125.1451 - val_loss: 11840.0516\n",
      "Epoch 185/50000\n",
      "3881/3881 [==============================] - 0s 15us/step - loss: 2111.6082 - val_loss: 11970.3437\n",
      "Epoch 186/50000\n",
      "3881/3881 [==============================] - 0s 17us/step - loss: 2107.1474 - val_loss: 11870.0529\n",
      "Epoch 187/50000\n",
      "3881/3881 [==============================] - 0s 17us/step - loss: 2146.2235 - val_loss: 11911.4546\n",
      "Epoch 188/50000\n",
      "3881/3881 [==============================] - 0s 21us/step - loss: 2149.0719 - val_loss: 11980.6980\n",
      "Epoch 189/50000\n",
      "3881/3881 [==============================] - 0s 18us/step - loss: 2150.1224 - val_loss: 12154.6390\n",
      "Epoch 190/50000\n",
      "3881/3881 [==============================] - 0s 15us/step - loss: 2105.1472 - val_loss: 12017.8180\n",
      "Epoch 191/50000\n",
      "3881/3881 [==============================] - 0s 16us/step - loss: 2092.9275 - val_loss: 12014.5997\n",
      "Epoch 192/50000\n",
      "3881/3881 [==============================] - 0s 16us/step - loss: 2086.6334 - val_loss: 12004.5018\n",
      "Epoch 193/50000\n",
      "3881/3881 [==============================] - 0s 17us/step - loss: 2098.9516 - val_loss: 12152.8384\n",
      "Epoch 194/50000\n",
      "3881/3881 [==============================] - 0s 21us/step - loss: 2081.1566 - val_loss: 12147.3686\n",
      "Epoch 195/50000\n",
      "3881/3881 [==============================] - 0s 19us/step - loss: 2086.4459 - val_loss: 12077.8861\n",
      "Epoch 196/50000\n",
      "3881/3881 [==============================] - 0s 18us/step - loss: 2079.9753 - val_loss: 12061.0753\n",
      "Epoch 197/50000\n",
      "3881/3881 [==============================] - 0s 15us/step - loss: 2088.6535 - val_loss: 12300.1985\n",
      "Epoch 198/50000\n",
      "3881/3881 [==============================] - 0s 15us/step - loss: 2057.1745 - val_loss: 12177.6470\n",
      "Epoch 199/50000\n",
      "3881/3881 [==============================] - 0s 16us/step - loss: 2065.6978 - val_loss: 12200.1466\n",
      "Epoch 200/50000\n",
      "3881/3881 [==============================] - 0s 16us/step - loss: 2054.4969 - val_loss: 12077.6358\n",
      "Epoch 201/50000\n",
      "3881/3881 [==============================] - 0s 16us/step - loss: 2051.0046 - val_loss: 12137.8900\n",
      "Epoch 202/50000\n",
      "3881/3881 [==============================] - 0s 16us/step - loss: 2035.6860 - val_loss: 12301.1590\n",
      "Epoch 203/50000\n",
      "3881/3881 [==============================] - 0s 15us/step - loss: 2036.4435 - val_loss: 12173.7930\n",
      "Epoch 204/50000\n",
      "3881/3881 [==============================] - 0s 20us/step - loss: 2050.1203 - val_loss: 12201.9615\n",
      "Epoch 205/50000\n",
      "3881/3881 [==============================] - 0s 15us/step - loss: 2062.9054 - val_loss: 12204.4041\n",
      "Epoch 206/50000\n",
      "3881/3881 [==============================] - 0s 16us/step - loss: 2070.8105 - val_loss: 12200.9468\n",
      "Epoch 207/50000\n",
      "3881/3881 [==============================] - 0s 16us/step - loss: 2054.1388 - val_loss: 12240.3433\n",
      "Epoch 208/50000\n",
      "3881/3881 [==============================] - 0s 15us/step - loss: 2024.0378 - val_loss: 12307.3812\n",
      "Epoch 209/50000\n",
      "3881/3881 [==============================] - 0s 16us/step - loss: 2032.2916 - val_loss: 12220.2391\n",
      "Epoch 210/50000\n",
      "3881/3881 [==============================] - 0s 16us/step - loss: 2018.3275 - val_loss: 12408.8210\n",
      "Epoch 211/50000\n",
      "3881/3881 [==============================] - 0s 15us/step - loss: 2004.0564 - val_loss: 12408.3668\n",
      "Epoch 212/50000\n",
      "3881/3881 [==============================] - 0s 17us/step - loss: 2009.6948 - val_loss: 12284.2107\n",
      "Epoch 213/50000\n",
      "3881/3881 [==============================] - 0s 16us/step - loss: 1992.4766 - val_loss: 12428.3082\n",
      "Epoch 214/50000\n",
      "3881/3881 [==============================] - 0s 15us/step - loss: 2004.9196 - val_loss: 12571.8383\n",
      "Epoch 215/50000\n",
      "3881/3881 [==============================] - 0s 16us/step - loss: 1987.7311 - val_loss: 12619.1731\n",
      "Epoch 216/50000\n",
      "3881/3881 [==============================] - 0s 16us/step - loss: 1984.0145 - val_loss: 12331.3207\n",
      "Epoch 217/50000\n",
      "3881/3881 [==============================] - 0s 16us/step - loss: 1988.0094 - val_loss: 12547.2328\n",
      "Epoch 218/50000\n",
      "3881/3881 [==============================] - 0s 20us/step - loss: 1970.9456 - val_loss: 12392.9888\n",
      "Epoch 219/50000\n",
      "3881/3881 [==============================] - 0s 15us/step - loss: 1988.6810 - val_loss: 12585.1116\n",
      "Epoch 220/50000\n",
      "3881/3881 [==============================] - 0s 17us/step - loss: 1980.2232 - val_loss: 12449.5480\n",
      "Epoch 221/50000\n",
      "3881/3881 [==============================] - 0s 16us/step - loss: 1998.8900 - val_loss: 12405.1620\n",
      "Epoch 222/50000\n",
      "3881/3881 [==============================] - 0s 16us/step - loss: 1985.6081 - val_loss: 12399.9732\n",
      "Epoch 223/50000\n",
      "3881/3881 [==============================] - 0s 15us/step - loss: 1970.9092 - val_loss: 12423.4292\n",
      "Epoch 224/50000\n",
      "3881/3881 [==============================] - 0s 15us/step - loss: 1953.0374 - val_loss: 12548.4748\n",
      "Epoch 225/50000\n",
      "3881/3881 [==============================] - 0s 16us/step - loss: 1952.4560 - val_loss: 12627.7825\n",
      "Epoch 226/50000\n",
      "3881/3881 [==============================] - 0s 15us/step - loss: 1947.8752 - val_loss: 12490.3644\n",
      "Epoch 227/50000\n",
      "3881/3881 [==============================] - 0s 15us/step - loss: 1944.5731 - val_loss: 12674.5242\n",
      "Epoch 228/50000\n",
      "3881/3881 [==============================] - 0s 16us/step - loss: 1936.5785 - val_loss: 12656.1243\n",
      "Epoch 229/50000\n",
      "3881/3881 [==============================] - 0s 15us/step - loss: 1936.1663 - val_loss: 12525.9549\n",
      "Epoch 230/50000\n",
      "3881/3881 [==============================] - 0s 15us/step - loss: 1922.7083 - val_loss: 12543.6412\n",
      "Epoch 231/50000\n",
      "3881/3881 [==============================] - 0s 16us/step - loss: 1916.1864 - val_loss: 12693.5137\n",
      "Epoch 232/50000\n",
      "3881/3881 [==============================] - 0s 20us/step - loss: 1913.5692 - val_loss: 12675.2659\n",
      "Epoch 233/50000\n",
      "3881/3881 [==============================] - 0s 15us/step - loss: 1918.6476 - val_loss: 12692.5052\n",
      "Epoch 234/50000\n",
      "3881/3881 [==============================] - 0s 16us/step - loss: 1913.2758 - val_loss: 12770.9591\n",
      "Epoch 235/50000\n",
      "3881/3881 [==============================] - 0s 16us/step - loss: 1939.2889 - val_loss: 12651.4334\n",
      "Epoch 236/50000\n",
      "3881/3881 [==============================] - 0s 15us/step - loss: 1919.2269 - val_loss: 12601.8284\n",
      "Epoch 237/50000\n",
      "3881/3881 [==============================] - 0s 16us/step - loss: 1915.1946 - val_loss: 12749.3569\n",
      "Epoch 238/50000\n",
      "3881/3881 [==============================] - 0s 15us/step - loss: 1923.4714 - val_loss: 12696.3797\n",
      "Epoch 239/50000\n",
      "3881/3881 [==============================] - 0s 15us/step - loss: 1931.2804 - val_loss: 12656.2653\n",
      "Epoch 240/50000\n",
      "3881/3881 [==============================] - 0s 17us/step - loss: 1926.9268 - val_loss: 12837.3324\n",
      "Epoch 241/50000\n",
      "3881/3881 [==============================] - 0s 16us/step - loss: 1904.7349 - val_loss: 12715.9784\n",
      "Epoch 242/50000\n",
      "3881/3881 [==============================] - 0s 16us/step - loss: 1914.4862 - val_loss: 12625.2852\n",
      "Epoch 243/50000\n",
      "3881/3881 [==============================] - 0s 17us/step - loss: 1894.9239 - val_loss: 12837.2186\n",
      "Epoch 244/50000\n",
      "3881/3881 [==============================] - 0s 15us/step - loss: 1896.6328 - val_loss: 12699.5903\n",
      "Epoch 245/50000\n",
      "3881/3881 [==============================] - 0s 15us/step - loss: 1890.2951 - val_loss: 12692.4248\n",
      "Epoch 246/50000\n",
      "3881/3881 [==============================] - 0s 16us/step - loss: 1877.8945 - val_loss: 12756.5118\n",
      "Epoch 247/50000\n",
      "3881/3881 [==============================] - 0s 20us/step - loss: 1867.9192 - val_loss: 12884.6011\n",
      "Epoch 248/50000\n",
      "3881/3881 [==============================] - 0s 16us/step - loss: 1878.9660 - val_loss: 12895.8353\n",
      "Epoch 249/50000\n",
      "3881/3881 [==============================] - 0s 16us/step - loss: 1877.5458 - val_loss: 12991.9132\n",
      "Epoch 250/50000\n",
      "3881/3881 [==============================] - 0s 16us/step - loss: 1885.8308 - val_loss: 13008.7678\n",
      "Epoch 251/50000\n",
      "3881/3881 [==============================] - 0s 17us/step - loss: 1877.1764 - val_loss: 12726.5806\n",
      "Epoch 252/50000\n",
      "3881/3881 [==============================] - 0s 16us/step - loss: 1872.1727 - val_loss: 12828.8306\n",
      "Epoch 253/50000\n",
      "3881/3881 [==============================] - 0s 16us/step - loss: 1860.2670 - val_loss: 12832.3884\n",
      "Epoch 254/50000\n",
      "3881/3881 [==============================] - 0s 15us/step - loss: 1864.5004 - val_loss: 12760.0667\n",
      "Epoch 255/50000\n",
      "3881/3881 [==============================] - 0s 16us/step - loss: 1872.2725 - val_loss: 12908.0464\n",
      "Epoch 256/50000\n",
      "3881/3881 [==============================] - 0s 16us/step - loss: 1866.3633 - val_loss: 12921.8312\n",
      "Epoch 257/50000\n",
      "3881/3881 [==============================] - 0s 15us/step - loss: 1844.7007 - val_loss: 13014.2127\n",
      "Epoch 258/50000\n",
      "3881/3881 [==============================] - 0s 16us/step - loss: 1833.4604 - val_loss: 12876.5246\n",
      "Epoch 259/50000\n",
      "3881/3881 [==============================] - 0s 15us/step - loss: 1825.4680 - val_loss: 12915.0906\n",
      "Epoch 260/50000\n",
      "3881/3881 [==============================] - 0s 16us/step - loss: 1819.0083 - val_loss: 12996.4460\n",
      "Epoch 261/50000\n",
      "3881/3881 [==============================] - 0s 15us/step - loss: 1792.6605 - val_loss: 12960.1555\n",
      "Epoch 262/50000\n",
      "3881/3881 [==============================] - 0s 15us/step - loss: 1813.0176 - val_loss: 13175.0715\n",
      "Epoch 263/50000\n",
      "3881/3881 [==============================] - 0s 16us/step - loss: 1829.4628 - val_loss: 12904.0206\n",
      "Epoch 264/50000\n",
      "3881/3881 [==============================] - 0s 15us/step - loss: 1809.5637 - val_loss: 13067.7325\n",
      "Epoch 265/50000\n",
      "3881/3881 [==============================] - 0s 21us/step - loss: 1818.7101 - val_loss: 12970.0724\n",
      "Epoch 266/50000\n",
      "3881/3881 [==============================] - 0s 16us/step - loss: 1807.7680 - val_loss: 13005.9665\n",
      "Epoch 267/50000\n",
      "3881/3881 [==============================] - 0s 16us/step - loss: 1853.3306 - val_loss: 13043.8758\n",
      "Epoch 268/50000\n",
      "3881/3881 [==============================] - 0s 15us/step - loss: 1866.1079 - val_loss: 13105.4175\n",
      "Epoch 269/50000\n",
      "3881/3881 [==============================] - 0s 15us/step - loss: 1861.1333 - val_loss: 13056.0630\n",
      "Epoch 270/50000\n",
      "3881/3881 [==============================] - 0s 15us/step - loss: 1894.6844 - val_loss: 13093.3456\n",
      "Epoch 271/50000\n",
      "3881/3881 [==============================] - 0s 16us/step - loss: 1844.2100 - val_loss: 13102.4976\n",
      "Epoch 272/50000\n",
      "3881/3881 [==============================] - 0s 15us/step - loss: 1841.9594 - val_loss: 13113.0950\n",
      "Epoch 273/50000\n",
      "3881/3881 [==============================] - 0s 16us/step - loss: 1834.3526 - val_loss: 13099.2015\n",
      "Epoch 274/50000\n",
      "3881/3881 [==============================] - 0s 15us/step - loss: 1843.8018 - val_loss: 13050.2982\n",
      "Epoch 275/50000\n",
      "3881/3881 [==============================] - 0s 15us/step - loss: 1817.1263 - val_loss: 12977.1317\n",
      "Epoch 276/50000\n",
      "3881/3881 [==============================] - 0s 16us/step - loss: 1790.3792 - val_loss: 13133.8976\n",
      "Epoch 277/50000\n",
      "3881/3881 [==============================] - 0s 15us/step - loss: 1795.5180 - val_loss: 13055.8245\n",
      "Epoch 278/50000\n",
      "3881/3881 [==============================] - 0s 16us/step - loss: 1786.4199 - val_loss: 13164.7794\n",
      "Epoch 279/50000\n",
      "3881/3881 [==============================] - 0s 15us/step - loss: 1805.1327 - val_loss: 13101.1051\n",
      "Epoch 280/50000\n",
      "3881/3881 [==============================] - 0s 15us/step - loss: 1795.2965 - val_loss: 13123.7702\n",
      "Epoch 281/50000\n",
      "3881/3881 [==============================] - 0s 15us/step - loss: 1765.0868 - val_loss: 13085.9022\n",
      "Epoch 282/50000\n",
      "3881/3881 [==============================] - 0s 16us/step - loss: 1768.9255 - val_loss: 13164.1475\n",
      "Epoch 283/50000\n",
      "3881/3881 [==============================] - 0s 21us/step - loss: 1767.0460 - val_loss: 13249.4759\n",
      "Epoch 284/50000\n",
      "3881/3881 [==============================] - 0s 16us/step - loss: 1755.5783 - val_loss: 13129.2423\n",
      "Epoch 285/50000\n",
      "3881/3881 [==============================] - 0s 15us/step - loss: 1774.9850 - val_loss: 13337.4045\n",
      "Epoch 286/50000\n",
      "3881/3881 [==============================] - 0s 16us/step - loss: 1824.2445 - val_loss: 13334.1363\n",
      "Epoch 287/50000\n",
      "3881/3881 [==============================] - 0s 16us/step - loss: 1826.7718 - val_loss: 13178.4376\n",
      "Epoch 288/50000\n",
      "3881/3881 [==============================] - 0s 17us/step - loss: 1788.0071 - val_loss: 13083.7674\n",
      "Epoch 289/50000\n",
      "3881/3881 [==============================] - 0s 15us/step - loss: 1756.1266 - val_loss: 13467.1812\n",
      "Epoch 290/50000\n",
      "3881/3881 [==============================] - 0s 16us/step - loss: 1778.5706 - val_loss: 13265.7368\n",
      "Epoch 291/50000\n",
      "3881/3881 [==============================] - 0s 16us/step - loss: 1773.2702 - val_loss: 13188.3496\n",
      "Epoch 292/50000\n",
      "3881/3881 [==============================] - 0s 16us/step - loss: 1758.1059 - val_loss: 13500.1625\n",
      "Epoch 293/50000\n",
      "3881/3881 [==============================] - 0s 15us/step - loss: 1736.4698 - val_loss: 13244.5853\n",
      "Epoch 294/50000\n",
      "3881/3881 [==============================] - 0s 16us/step - loss: 1768.7505 - val_loss: 13445.5713\n",
      "Epoch 295/50000\n",
      "3881/3881 [==============================] - 0s 15us/step - loss: 1805.2678 - val_loss: 13379.9332\n",
      "Epoch 296/50000\n",
      "3881/3881 [==============================] - 0s 16us/step - loss: 1776.3422 - val_loss: 13407.0061\n",
      "Epoch 297/50000\n",
      "3881/3881 [==============================] - 0s 17us/step - loss: 1746.7514 - val_loss: 13418.1135\n",
      "Epoch 298/50000\n",
      "3881/3881 [==============================] - 0s 15us/step - loss: 1747.9099 - val_loss: 13383.2360\n",
      "Epoch 299/50000\n",
      "3881/3881 [==============================] - 0s 21us/step - loss: 1739.3229 - val_loss: 13340.1810\n",
      "Epoch 300/50000\n",
      "3881/3881 [==============================] - 0s 16us/step - loss: 1733.1917 - val_loss: 13389.5494\n",
      "Epoch 301/50000\n",
      "3881/3881 [==============================] - 0s 15us/step - loss: 1718.0992 - val_loss: 13419.9313\n",
      "Epoch 302/50000\n",
      "3881/3881 [==============================] - 0s 15us/step - loss: 1711.9791 - val_loss: 13422.3704\n",
      "Epoch 303/50000\n",
      "3881/3881 [==============================] - 0s 16us/step - loss: 1740.4818 - val_loss: 13386.7971\n",
      "Epoch 304/50000\n",
      "3881/3881 [==============================] - 0s 16us/step - loss: 1718.7929 - val_loss: 13345.2180\n",
      "Epoch 305/50000\n",
      "3881/3881 [==============================] - 0s 15us/step - loss: 1761.9906 - val_loss: 13371.4073\n",
      "Epoch 306/50000\n",
      "3881/3881 [==============================] - 0s 17us/step - loss: 1715.9829 - val_loss: 13321.7984\n",
      "Epoch 307/50000\n",
      "3881/3881 [==============================] - 0s 15us/step - loss: 1711.1970 - val_loss: 13275.3795\n",
      "Epoch 308/50000\n",
      "3881/3881 [==============================] - 0s 18us/step - loss: 1698.4015 - val_loss: 13506.2313\n",
      "Epoch 309/50000\n",
      "3881/3881 [==============================] - 0s 15us/step - loss: 1688.1433 - val_loss: 13553.2945\n",
      "Epoch 310/50000\n",
      " 200/3881 [>.............................] - ETA: 0s - loss: 1723.5658"
     ]
    }
   ],
   "source": [
    "from keras.models import Sequential\n",
    "from keras.layers import Dense\n",
    "from keras.layers import BatchNormalization, Dropout\n",
    "import numpy as np\n",
    "from keras.optimizers import adam\n",
    "\n",
    "#import tensorflow_addons as tfa\n",
    "\n",
    "# Set the input shape\n",
    "input_shape = (19,)\n",
    "print(f'Feature shape: {input_shape}')\n",
    "\n",
    "# Create the model\n",
    "model = Sequential()\n",
    "model.add(Dense(100, input_shape=input_shape, activation='relu', kernel_regularizer=keras.regularizers.l2(0.001)))\n",
    "#model.add(Dropout(0.1))\n",
    "#model.add(BatchNormalization())\n",
    "model.add(Dense(100, activation='relu', kernel_regularizer=keras.regularizers.l2(0.001)))\n",
    "#model.add(Dropout(0.1))\n",
    "#model.add(BatchNormalization())\n",
    "model.add(Dense(100, activation='relu', kernel_regularizer=keras.regularizers.l2(0.001)))\n",
    "#model.add(Dropout(0.1))\n",
    "#model.add(BatchNormalization())\n",
    "model.add(Dense(19, activation='linear', kernel_regularizer=keras.regularizers.l2(0.001)))\n",
    "\n",
    "# Configure the model and start training\n",
    "optimizer = adam(lr=0.01)\n",
    "model.compile(loss='mse', optimizer=optimizer)\n",
    "model.fit(X_train_small, y_train_small, epochs=50000, batch_size = 200, verbose=1, validation_split=0.2)"
   ]
  },
  {
   "cell_type": "code",
   "execution_count": null,
   "id": "8b79c16a",
   "metadata": {},
   "outputs": [],
   "source": []
  }
 ],
 "metadata": {
  "environment": {
   "name": "tf2-gpu.2-1.m78",
   "type": "gcloud",
   "uri": "gcr.io/deeplearning-platform-release/tf2-gpu.2-1:m78"
  },
  "kernelspec": {
   "display_name": "Python 3",
   "language": "python",
   "name": "python3"
  },
  "language_info": {
   "codemirror_mode": {
    "name": "ipython",
    "version": 3
   },
   "file_extension": ".py",
   "mimetype": "text/x-python",
   "name": "python",
   "nbconvert_exporter": "python",
   "pygments_lexer": "ipython3",
   "version": "3.7.10"
  }
 },
 "nbformat": 4,
 "nbformat_minor": 5
}
