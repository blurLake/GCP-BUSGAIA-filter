{
 "cells": [
  {
   "cell_type": "code",
   "execution_count": 2,
   "id": "b9b4081d",
   "metadata": {},
   "outputs": [],
   "source": [
    "import numpy as np\n",
    "import matplotlib.pyplot as plt\n",
    "\n",
    "from sklearn.model_selection import train_test_split\n",
    "from sklearn.metrics import r2_score\n",
    "from sklearn import metrics\n",
    "from sklearn.metrics import mean_absolute_percentage_error"
   ]
  },
  {
   "cell_type": "code",
   "execution_count": 2,
   "id": "4b81eacc",
   "metadata": {
    "collapsed": true,
    "jupyter": {
     "outputs_hidden": true
    }
   },
   "outputs": [
    {
     "name": "stdout",
     "output_type": "stream",
     "text": [
      "Requirement already satisfied: livelossplot in /opt/conda/lib/python3.7/site-packages (0.5.4)\n",
      "Requirement already satisfied: ipython in /opt/conda/lib/python3.7/site-packages (from livelossplot) (7.26.0)\n",
      "Requirement already satisfied: bokeh in /opt/conda/lib/python3.7/site-packages (from livelossplot) (2.3.3)\n",
      "Requirement already satisfied: matplotlib in /opt/conda/lib/python3.7/site-packages (from livelossplot) (3.4.3)\n",
      "Requirement already satisfied: packaging>=16.8 in /opt/conda/lib/python3.7/site-packages (from bokeh->livelossplot) (21.0)\n",
      "Requirement already satisfied: python-dateutil>=2.1 in /opt/conda/lib/python3.7/site-packages (from bokeh->livelossplot) (2.8.2)\n",
      "Requirement already satisfied: pillow>=7.1.0 in /opt/conda/lib/python3.7/site-packages (from bokeh->livelossplot) (8.3.1)\n",
      "Requirement already satisfied: PyYAML>=3.10 in /opt/conda/lib/python3.7/site-packages (from bokeh->livelossplot) (5.4.1)\n",
      "Requirement already satisfied: numpy>=1.11.3 in /opt/conda/lib/python3.7/site-packages (from bokeh->livelossplot) (1.19.5)\n",
      "Requirement already satisfied: Jinja2>=2.9 in /opt/conda/lib/python3.7/site-packages (from bokeh->livelossplot) (2.11.3)\n",
      "Requirement already satisfied: tornado>=5.1 in /opt/conda/lib/python3.7/site-packages (from bokeh->livelossplot) (6.1)\n",
      "Requirement already satisfied: typing-extensions>=3.7.4 in /opt/conda/lib/python3.7/site-packages (from bokeh->livelossplot) (3.10.0.0)\n",
      "Requirement already satisfied: MarkupSafe>=0.23 in /opt/conda/lib/python3.7/site-packages (from Jinja2>=2.9->bokeh->livelossplot) (1.1.1)\n",
      "Requirement already satisfied: pyparsing>=2.0.2 in /opt/conda/lib/python3.7/site-packages (from packaging>=16.8->bokeh->livelossplot) (2.4.7)\n",
      "Requirement already satisfied: six>=1.5 in /opt/conda/lib/python3.7/site-packages (from python-dateutil>=2.1->bokeh->livelossplot) (1.16.0)\n",
      "Requirement already satisfied: decorator in /opt/conda/lib/python3.7/site-packages (from ipython->livelossplot) (5.0.9)\n",
      "Requirement already satisfied: setuptools>=18.5 in /opt/conda/lib/python3.7/site-packages (from ipython->livelossplot) (57.4.0)\n",
      "Requirement already satisfied: prompt-toolkit!=3.0.0,!=3.0.1,<3.1.0,>=2.0.0 in /opt/conda/lib/python3.7/site-packages (from ipython->livelossplot) (3.0.19)\n",
      "Requirement already satisfied: jedi>=0.16 in /opt/conda/lib/python3.7/site-packages (from ipython->livelossplot) (0.18.0)\n",
      "Requirement already satisfied: traitlets>=4.2 in /opt/conda/lib/python3.7/site-packages (from ipython->livelossplot) (5.0.5)\n",
      "Requirement already satisfied: pygments in /opt/conda/lib/python3.7/site-packages (from ipython->livelossplot) (2.10.0)\n",
      "Requirement already satisfied: pickleshare in /opt/conda/lib/python3.7/site-packages (from ipython->livelossplot) (0.7.5)\n",
      "Requirement already satisfied: backcall in /opt/conda/lib/python3.7/site-packages (from ipython->livelossplot) (0.2.0)\n",
      "Requirement already satisfied: pexpect>4.3 in /opt/conda/lib/python3.7/site-packages (from ipython->livelossplot) (4.8.0)\n",
      "Requirement already satisfied: matplotlib-inline in /opt/conda/lib/python3.7/site-packages (from ipython->livelossplot) (0.1.2)\n",
      "Requirement already satisfied: parso<0.9.0,>=0.8.0 in /opt/conda/lib/python3.7/site-packages (from jedi>=0.16->ipython->livelossplot) (0.8.2)\n",
      "Requirement already satisfied: ptyprocess>=0.5 in /opt/conda/lib/python3.7/site-packages (from pexpect>4.3->ipython->livelossplot) (0.7.0)\n",
      "Requirement already satisfied: wcwidth in /opt/conda/lib/python3.7/site-packages (from prompt-toolkit!=3.0.0,!=3.0.1,<3.1.0,>=2.0.0->ipython->livelossplot) (0.2.5)\n",
      "Requirement already satisfied: ipython-genutils in /opt/conda/lib/python3.7/site-packages (from traitlets>=4.2->ipython->livelossplot) (0.2.0)\n",
      "Requirement already satisfied: cycler>=0.10 in /opt/conda/lib/python3.7/site-packages (from matplotlib->livelossplot) (0.10.0)\n",
      "Requirement already satisfied: kiwisolver>=1.0.1 in /opt/conda/lib/python3.7/site-packages (from matplotlib->livelossplot) (1.3.1)\n"
     ]
    }
   ],
   "source": [
    "!pip install livelossplot"
   ]
  },
  {
   "cell_type": "code",
   "execution_count": 3,
   "id": "a1314b55",
   "metadata": {
    "collapsed": true,
    "jupyter": {
     "outputs_hidden": true
    }
   },
   "outputs": [
    {
     "name": "stderr",
     "output_type": "stream",
     "text": [
      "2022-01-11 10:42:16.683954: I tensorflow/stream_executor/platform/default/dso_loader.cc:48] Successfully opened dynamic library libcudart.so.11.0\n",
      "2022-01-11 10:42:17.336106: I tensorflow/stream_executor/platform/default/dso_loader.cc:48] Successfully opened dynamic library libnvinfer.so.7\n",
      "2022-01-11 10:42:17.337170: I tensorflow/stream_executor/platform/default/dso_loader.cc:48] Successfully opened dynamic library libnvinfer_plugin.so.7\n"
     ]
    },
    {
     "name": "stdout",
     "output_type": "stream",
     "text": [
      "[name: \"/device:CPU:0\"\n",
      "device_type: \"CPU\"\n",
      "memory_limit: 268435456\n",
      "locality {\n",
      "}\n",
      "incarnation: 2841985871081131634\n",
      ", name: \"/device:XLA_CPU:0\"\n",
      "device_type: \"XLA_CPU\"\n",
      "memory_limit: 17179869184\n",
      "locality {\n",
      "}\n",
      "incarnation: 4042794004028119934\n",
      "physical_device_desc: \"device: XLA_CPU device\"\n",
      ", name: \"/device:XLA_GPU:0\"\n",
      "device_type: \"XLA_GPU\"\n",
      "memory_limit: 17179869184\n",
      "locality {\n",
      "}\n",
      "incarnation: 1113204093914466289\n",
      "physical_device_desc: \"device: XLA_GPU device\"\n",
      ", name: \"/device:GPU:0\"\n",
      "device_type: \"GPU\"\n",
      "memory_limit: 14842344244\n",
      "locality {\n",
      "  bus_id: 1\n",
      "  links {\n",
      "  }\n",
      "}\n",
      "incarnation: 13893733103764233266\n",
      "physical_device_desc: \"device: 0, name: Tesla T4, pci bus id: 0000:00:04.0, compute capability: 7.5\"\n",
      "]\n"
     ]
    },
    {
     "name": "stderr",
     "output_type": "stream",
     "text": [
      "2022-01-11 10:42:17.834201: I tensorflow/core/platform/profile_utils/cpu_utils.cc:94] CPU Frequency: 2299995000 Hz\n",
      "2022-01-11 10:42:17.834982: I tensorflow/compiler/xla/service/service.cc:168] XLA service 0x562f1bba90a0 initialized for platform Host (this does not guarantee that XLA will be used). Devices:\n",
      "2022-01-11 10:42:17.835003: I tensorflow/compiler/xla/service/service.cc:176]   StreamExecutor device (0): Host, Default Version\n",
      "2022-01-11 10:42:17.839799: I tensorflow/stream_executor/platform/default/dso_loader.cc:48] Successfully opened dynamic library libcuda.so.1\n",
      "2022-01-11 10:42:18.683843: I tensorflow/stream_executor/cuda/cuda_gpu_executor.cc:981] successful NUMA node read from SysFS had negative value (-1), but there must be at least one NUMA node, so returning NUMA node zero\n",
      "2022-01-11 10:42:18.684568: I tensorflow/compiler/xla/service/service.cc:168] XLA service 0x562f1ba13250 initialized for platform CUDA (this does not guarantee that XLA will be used). Devices:\n",
      "2022-01-11 10:42:18.684594: I tensorflow/compiler/xla/service/service.cc:176]   StreamExecutor device (0): Tesla T4, Compute Capability 7.5\n",
      "2022-01-11 10:42:18.685428: I tensorflow/stream_executor/cuda/cuda_gpu_executor.cc:981] successful NUMA node read from SysFS had negative value (-1), but there must be at least one NUMA node, so returning NUMA node zero\n",
      "2022-01-11 10:42:18.686032: I tensorflow/core/common_runtime/gpu/gpu_device.cc:1555] Found device 0 with properties: \n",
      "pciBusID: 0000:00:04.0 name: Tesla T4 computeCapability: 7.5\n",
      "coreClock: 1.59GHz coreCount: 40 deviceMemorySize: 14.75GiB deviceMemoryBandwidth: 298.08GiB/s\n",
      "2022-01-11 10:42:18.686110: I tensorflow/stream_executor/platform/default/dso_loader.cc:48] Successfully opened dynamic library libcudart.so.11.0\n",
      "2022-01-11 10:42:18.686159: I tensorflow/stream_executor/platform/default/dso_loader.cc:48] Successfully opened dynamic library libcublas.so.11\n",
      "2022-01-11 10:42:18.720991: I tensorflow/stream_executor/platform/default/dso_loader.cc:48] Successfully opened dynamic library libcufft.so.10\n",
      "2022-01-11 10:42:18.736158: I tensorflow/stream_executor/platform/default/dso_loader.cc:48] Successfully opened dynamic library libcurand.so.10\n",
      "2022-01-11 10:42:18.775242: I tensorflow/stream_executor/platform/default/dso_loader.cc:48] Successfully opened dynamic library libcusolver.so.10\n",
      "2022-01-11 10:42:18.785416: I tensorflow/stream_executor/platform/default/dso_loader.cc:48] Successfully opened dynamic library libcusparse.so.11\n",
      "2022-01-11 10:42:18.785492: I tensorflow/stream_executor/platform/default/dso_loader.cc:48] Successfully opened dynamic library libcudnn.so.8\n",
      "2022-01-11 10:42:18.785582: I tensorflow/stream_executor/cuda/cuda_gpu_executor.cc:981] successful NUMA node read from SysFS had negative value (-1), but there must be at least one NUMA node, so returning NUMA node zero\n",
      "2022-01-11 10:42:18.786180: I tensorflow/stream_executor/cuda/cuda_gpu_executor.cc:981] successful NUMA node read from SysFS had negative value (-1), but there must be at least one NUMA node, so returning NUMA node zero\n",
      "2022-01-11 10:42:18.786690: I tensorflow/core/common_runtime/gpu/gpu_device.cc:1697] Adding visible gpu devices: 0\n",
      "2022-01-11 10:42:18.789142: I tensorflow/stream_executor/platform/default/dso_loader.cc:48] Successfully opened dynamic library libcudart.so.11.0\n",
      "2022-01-11 10:42:22.222854: I tensorflow/core/common_runtime/gpu/gpu_device.cc:1096] Device interconnect StreamExecutor with strength 1 edge matrix:\n",
      "2022-01-11 10:42:22.222892: I tensorflow/core/common_runtime/gpu/gpu_device.cc:1102]      0 \n",
      "2022-01-11 10:42:22.222899: I tensorflow/core/common_runtime/gpu/gpu_device.cc:1115] 0:   N \n",
      "2022-01-11 10:42:22.226022: I tensorflow/stream_executor/cuda/cuda_gpu_executor.cc:981] successful NUMA node read from SysFS had negative value (-1), but there must be at least one NUMA node, so returning NUMA node zero\n",
      "2022-01-11 10:42:22.226640: I tensorflow/stream_executor/cuda/cuda_gpu_executor.cc:981] successful NUMA node read from SysFS had negative value (-1), but there must be at least one NUMA node, so returning NUMA node zero\n",
      "2022-01-11 10:42:22.227183: I tensorflow/core/common_runtime/gpu/gpu_device.cc:1241] Created TensorFlow device (/device:GPU:0 with 14154 MB memory) -> physical GPU (device: 0, name: Tesla T4, pci bus id: 0000:00:04.0, compute capability: 7.5)\n"
     ]
    }
   ],
   "source": [
    "from tensorflow.python.client import device_lib\n",
    "print(device_lib.list_local_devices())"
   ]
  },
  {
   "cell_type": "markdown",
   "id": "5ddc474c",
   "metadata": {},
   "source": [
    "## load the data"
   ]
  },
  {
   "cell_type": "markdown",
   "id": "b9035a14",
   "metadata": {},
   "source": [
    "### action"
   ]
  },
  {
   "cell_type": "code",
   "execution_count": 12,
   "id": "c51856db",
   "metadata": {},
   "outputs": [],
   "source": [
    "# last column in action_filttune is the origin in filttune\n",
    "\n",
    "action_CST_400 = np.loadtxt('data/action_in_CST_matrix_rand_seed400.csv',delimiter=',')\n",
    "action_filttune_full_400 = np.loadtxt('data/action_in_filttune_matrix_19_seed400.csv',delimiter=',')\n",
    "\n",
    "action_CST_500 = np.loadtxt('data/action_in_CST_matrix_rand_seed500.csv',delimiter=',')\n",
    "action_filttune_full_500 = np.loadtxt('data/action_in_filttune_matrix_19_seed500.csv',delimiter=',')\n",
    "\n",
    "action_CST_600 = np.loadtxt('data/action_in_CST_matrix_rand_seed600.csv',delimiter=',')\n",
    "action_filttune_full_600 = np.loadtxt('data/action_in_filttune_matrix_19_seed600.csv',delimiter=',')\n",
    "\n",
    "action_CST_700 = np.loadtxt('data/action_in_CST_matrix_rand_seed700.csv',delimiter=',')\n",
    "action_filttune_full_700 = np.loadtxt('data/action_in_filttune_matrix_19_seed700.csv',delimiter=',')\n",
    "\n",
    "action_CST_800 = np.loadtxt('data/action_in_CST_matrix_rand_seed800.csv',delimiter=',')\n",
    "action_filttune_full_800 = np.loadtxt('data/action_in_filttune_matrix_19_seed800.csv',delimiter=',')\n",
    "\n",
    "action_CST_900 = np.loadtxt('data/action_in_CST_matrix_rand_seed900.csv',delimiter=',')\n",
    "action_filttune_full_900 = np.loadtxt('data/action_in_filttune_matrix_19_seed900.csv',delimiter=',')\n",
    "\n",
    "action_CST_1000 = np.loadtxt('data/action_in_CST_matrix_rand_seed1000.csv',delimiter=',')\n",
    "action_filttune_full_1000 = np.loadtxt('data/action_in_filttune_matrix_19_seed1000.csv',delimiter=',')\n",
    "\n",
    "action_CST_1100 = np.loadtxt('data/action_in_CST_matrix_rand_seed1100.csv',delimiter=',')\n",
    "action_filttune_full_1100 = np.loadtxt('data/action_in_filttune_matrix_19_seed1100.csv',delimiter=',')\n",
    "\n",
    "action_CST_1200 = np.loadtxt('data/action_in_CST_matrix_rand_seed1200.csv',delimiter=',')\n",
    "action_filttune_full_1200 = np.loadtxt('data/action_in_filttune_matrix_19_seed1200.csv',delimiter=',')\n",
    "\n",
    "action_CST_1300 = np.loadtxt('data/action_in_CST_matrix_rand_seed1300.csv',delimiter=',')\n",
    "action_filttune_full_1300 = np.loadtxt('data/action_in_filttune_matrix_19_seed1300.csv',delimiter=',')\n",
    "\n",
    "action_CST_1300F012mm = np.loadtxt('data/action_in_CST_matrix_rand_seed1300F012mm.csv',delimiter=',')\n",
    "action_filttune_full_1300F012mm = np.loadtxt('data/action_in_filttune_matrix_19_seed1300F012mm.csv',delimiter=',')"
   ]
  },
  {
   "cell_type": "code",
   "execution_count": 13,
   "id": "164f7fde",
   "metadata": {},
   "outputs": [],
   "source": [
    "action_filttune_400 = action_filttune_full_400[:,0:5372]\n",
    "\n",
    "action_filttune_500 = action_filttune_full_500[:,0:3201]\n",
    "action_filttune_600  = action_filttune_full_600[:,0:3636]\n",
    "\n",
    "action_filttune_700 = action_filttune_full_700[:,0:855]\n",
    "action_filttune_800 = action_filttune_full_800[:,0:482]\n",
    "\n",
    "action_filttune_900  = action_filttune_full_900[:,0:1083]\n",
    "action_filttune_1000 = action_filttune_full_1000[:,0:1068]\n",
    "action_filttune_1100 = action_filttune_full_1100[:,0:2910]\n",
    "action_filttune_1200 = action_filttune_full_1200[:,0:3878]\n",
    "action_filttune_1300 = action_filttune_full_1300[:,0:4802]\n",
    "action_filttune_1300F012mm = action_filttune_full_1300[:,0:4347]"
   ]
  },
  {
   "cell_type": "markdown",
   "id": "2f2f906f",
   "metadata": {},
   "source": [
    "## load the RMSE data"
   ]
  },
  {
   "cell_type": "code",
   "execution_count": 14,
   "id": "48a57a7e",
   "metadata": {},
   "outputs": [],
   "source": [
    "#load the RMSE data.\n",
    "#1st row: rmse; 2nd row: mrse\n",
    "RMS_400  = np.loadtxt('data/RMS_seed400.csv',delimiter=',')\n",
    "RMS_500  = np.loadtxt('data/RMS_seed500.csv',delimiter=',')\n",
    "RMS_600  = np.loadtxt('data/RMS_seed600.csv',delimiter=',')\n",
    "RMS_700  = np.loadtxt('data/RMS_seed700.csv',delimiter=',')\n",
    "RMS_800  = np.loadtxt('data/RMS_seed800.csv',delimiter=',')\n",
    "RMS_900  = np.loadtxt('data/RMS_seed900.csv',delimiter=',')\n",
    "RMS_1000 = np.loadtxt('data/RMS_seed1000.csv',delimiter=',')\n",
    "RMS_1100 = np.loadtxt('data/RMS_seed1100.csv',delimiter=',')\n",
    "RMS_1200 = np.loadtxt('data/RMS_seed1200.csv',delimiter=',')\n",
    "RMS_1300 = np.loadtxt('data/RMS_seed1300.csv',delimiter=',')\n",
    "RMS_1300F012mm = np.loadtxt('data/RMS_seed1300F012mm.csv',delimiter=',')"
   ]
  },
  {
   "cell_type": "code",
   "execution_count": 10,
   "id": "7d82a9a7",
   "metadata": {},
   "outputs": [
    {
     "name": "stderr",
     "output_type": "stream",
     "text": [
      "2022-01-26 11:12:45.184274: I tensorflow/stream_executor/platform/default/dso_loader.cc:48] Successfully opened dynamic library libcudart.so.11.0\n",
      "2022-01-26 11:12:45.848137: I tensorflow/stream_executor/platform/default/dso_loader.cc:48] Successfully opened dynamic library libnvinfer.so.7\n",
      "2022-01-26 11:12:45.849327: I tensorflow/stream_executor/platform/default/dso_loader.cc:48] Successfully opened dynamic library libnvinfer_plugin.so.7\n"
     ]
    }
   ],
   "source": [
    "from tensorflow.keras.models import Sequential,load_model, clone_model\n",
    "from tensorflow.keras.layers import Dense\n",
    "from tensorflow.keras.layers import BatchNormalization, Dropout\n",
    "import numpy as np\n",
    "from tensorflow.keras.optimizers import Adam\n",
    "from tensorflow.keras.callbacks import ModelCheckpoint, ReduceLROnPlateau, TensorBoard\n",
    "from tensorflow.keras import regularizers\n",
    "from tensorflow.keras.regularizers import l2, l1, l1_l2\n",
    "from tensorflow.keras.losses import MeanAbsolutePercentageError\n",
    "import tensorflow as tf\n",
    "\n",
    "from livelossplot import PlotLossesKeras\n",
    "\n",
    "from tensorflow.keras.models import Sequential,load_model, clone_model\n",
    "from tensorflow.keras.layers import Dense\n",
    "from tensorflow.keras.layers import BatchNormalization, Dropout\n",
    "import numpy as np\n",
    "from tensorflow.keras.optimizers import Adam\n",
    "from tensorflow.keras.callbacks import ModelCheckpoint, ReduceLROnPlateau, TensorBoard\n",
    "from tensorflow.keras import regularizers\n",
    "from tensorflow.keras.regularizers import l2, l1, l1_l2\n",
    "\n",
    "from livelossplot import PlotLossesKeras"
   ]
  },
  {
   "cell_type": "markdown",
   "id": "b41fcbd1",
   "metadata": {},
   "source": [
    "## Complete_small dataset"
   ]
  },
  {
   "cell_type": "markdown",
   "id": "b0f38f1e",
   "metadata": {},
   "source": [
    "### Select the data with RMSE<0.09"
   ]
  },
  {
   "cell_type": "code",
   "execution_count": 15,
   "id": "6173bc6c",
   "metadata": {},
   "outputs": [],
   "source": [
    "index_400 = range(action_CST_400.shape[1])\n",
    "temp_400 = RMS_400[0,:]>0.04\n",
    "to_delete_400 = index_400*temp_400\n",
    "to_delete_400 = [i for i in to_delete_400 if i != 0]\n",
    "\n",
    "index_500 = range(action_CST_500.shape[1])\n",
    "temp_500 = RMS_500[0,:]>0.09\n",
    "to_delete_500 = index_500*temp_500\n",
    "to_delete_500 = [i for i in to_delete_500 if i != 0]\n",
    "\n",
    "index_600 = range(action_CST_600.shape[1])\n",
    "temp_600 = RMS_600[0,:]>0.09\n",
    "to_delete_600 = index_600*temp_600\n",
    "to_delete_600 = [i for i in to_delete_600 if i != 0]\n",
    "\n",
    "index_700 = range(action_CST_700.shape[1])\n",
    "temp_700 = RMS_700[0,:]>0.09\n",
    "to_delete_700 = index_700*temp_700\n",
    "to_delete_700 = [i for i in to_delete_700 if i != 0]\n",
    "\n",
    "index_800 = range(action_CST_800.shape[1])\n",
    "temp_800 = RMS_800[0,:]>0.09\n",
    "to_delete_800 = index_800*temp_800\n",
    "to_delete_800 = [i for i in to_delete_800 if i != 0]\n",
    "\n",
    "index_900 = range(action_CST_900.shape[1])\n",
    "temp_900 = RMS_900[0,:]>0.09\n",
    "to_delete_900 = index_900*temp_900\n",
    "to_delete_900 = [i for i in to_delete_900 if i != 0]\n",
    "\n",
    "index_1000 = range(action_CST_1000.shape[1])\n",
    "temp_1000 = RMS_1000[0,:]>0.09\n",
    "to_delete_1000 = index_1000*temp_1000\n",
    "to_delete_1000 = [i for i in to_delete_1000 if i != 0]\n",
    "\n",
    "index_1100 = range(action_CST_1100.shape[1])\n",
    "temp_1100 = RMS_1100[0,:]>0.09\n",
    "to_delete_1100 = index_1100*temp_1100\n",
    "to_delete_1100 = [i for i in to_delete_1100 if i != 0]\n",
    "\n",
    "index_1200 = range(action_CST_1200.shape[1])\n",
    "temp_1200 = RMS_1200[0,:]>0.09\n",
    "to_delete_1200 = index_1200*temp_1200\n",
    "to_delete_1200 = [i for i in to_delete_1200 if i != 0]\n",
    "\n",
    "index_1300 = range(action_CST_1300.shape[1])\n",
    "temp_1300 = RMS_1300[0,:]>0.09\n",
    "to_delete_1300 = index_1300*temp_1300\n",
    "to_delete_1300 = [i for i in to_delete_1300 if i != 0]\n",
    "\n",
    "index_1300F012mm = range(action_CST_1300F012mm.shape[1])\n",
    "temp_1300F012mm = RMS_1300F012mm[0,:]>0.09\n",
    "to_delete_1300F012mm = index_1300F012mm*temp_1300F012mm\n",
    "to_delete_1300F012mm = [i for i in to_delete_1300F012mm if i != 0]"
   ]
  },
  {
   "cell_type": "code",
   "execution_count": 16,
   "id": "fac4e7d2",
   "metadata": {},
   "outputs": [],
   "source": [
    "action_CST_400_small  = np.delete(action_CST_400, to_delete_400,  axis=1)\n",
    "action_CST_500_small  = np.delete(action_CST_500, to_delete_500,  axis=1)\n",
    "action_CST_600_small  = np.delete(action_CST_600, to_delete_600,  axis=1)\n",
    "action_CST_700_small  = np.delete(action_CST_700, to_delete_700,  axis=1)\n",
    "action_CST_800_small  = np.delete(action_CST_800, to_delete_800,  axis=1)\n",
    "action_CST_900_small  = np.delete(action_CST_900, to_delete_900,  axis=1)\n",
    "action_CST_1000_small = np.delete(action_CST_1000, to_delete_1000,  axis=1)\n",
    "action_CST_1100_small = np.delete(action_CST_1100, to_delete_1100,  axis=1)\n",
    "action_CST_1200_small = np.delete(action_CST_1200, to_delete_1200,  axis=1)\n",
    "action_CST_1300_small = np.delete(action_CST_1300, to_delete_1300,  axis=1)\n",
    "action_CST_1300F012mm_small = np.delete(action_CST_1300F012mm, to_delete_1300F012mm,  axis=1)\n",
    "\n",
    "action_filttune_400_small   = np.delete(action_filttune_400, to_delete_400,  axis=1)\n",
    "action_filttune_500_small   = np.delete(action_filttune_500, to_delete_500,  axis=1)\n",
    "action_filttune_600_small   = np.delete(action_filttune_600, to_delete_600,  axis=1)\n",
    "action_filttune_700_small   = np.delete(action_filttune_700, to_delete_700,  axis=1)\n",
    "action_filttune_800_small   = np.delete(action_filttune_800, to_delete_800,  axis=1)\n",
    "action_filttune_900_small   = np.delete(action_filttune_900, to_delete_900,  axis=1)\n",
    "action_filttune_1000_small  = np.delete(action_filttune_1000, to_delete_1000,  axis=1)\n",
    "action_filttune_1100_small  = np.delete(action_filttune_1100, to_delete_1100,  axis=1)\n",
    "action_filttune_1200_small  = np.delete(action_filttune_1200, to_delete_1200,  axis=1)\n",
    "action_filttune_1300_small  = np.delete(action_filttune_1300, to_delete_1300,  axis=1)\n",
    "action_filttune_1300F012mm_small  = np.delete(action_filttune_1300F012mm, to_delete_1300F012mm,  axis=1)"
   ]
  },
  {
   "cell_type": "markdown",
   "id": "0aec590b",
   "metadata": {},
   "source": [
    "### complete_small dataset + seed600"
   ]
  },
  {
   "cell_type": "code",
   "execution_count": 16,
   "id": "471f313d",
   "metadata": {},
   "outputs": [],
   "source": [
    "a_CST_small_600 = np.concatenate((action_CST_500_small,action_CST_600_small,action_CST_900_small,\n",
    "                              action_CST_1000_small,action_CST_1100_small),axis = 1)\n",
    "a_filttune_small_600 = np.concatenate((action_filttune_500_small,action_filttune_600_small,action_filttune_900_small, \n",
    "                                   action_filttune_1000_small, action_filttune_1100_small),axis = 1)"
   ]
  },
  {
   "cell_type": "code",
   "execution_count": 17,
   "id": "92e32d7b",
   "metadata": {},
   "outputs": [
    {
     "data": {
      "text/plain": [
       "(19, 9472)"
      ]
     },
     "execution_count": 17,
     "metadata": {},
     "output_type": "execute_result"
    }
   ],
   "source": [
    "a_CST_small_600.shape"
   ]
  },
  {
   "cell_type": "code",
   "execution_count": 246,
   "id": "a692b419",
   "metadata": {},
   "outputs": [
    {
     "data": {
      "text/plain": [
       "(19, 3407)"
      ]
     },
     "execution_count": 246,
     "metadata": {},
     "output_type": "execute_result"
    }
   ],
   "source": [
    "action_CST_600_small.shape"
   ]
  },
  {
   "cell_type": "code",
   "execution_count": 247,
   "id": "9a5a90a0",
   "metadata": {},
   "outputs": [
    {
     "data": {
      "text/plain": [
       "6065"
      ]
     },
     "execution_count": 247,
     "metadata": {},
     "output_type": "execute_result"
    }
   ],
   "source": [
    "9472 - 3407"
   ]
  },
  {
   "cell_type": "code",
   "execution_count": 12,
   "id": "62427e50",
   "metadata": {},
   "outputs": [],
   "source": [
    "X_train_small_600, X_test_small_600, y_train_small_600, y_test_small_600 = train_test_split( \n",
    "     a_filttune_small_600.transpose(),a_CST_small_600.transpose(), random_state=1,train_size = 0.8)"
   ]
  },
  {
   "cell_type": "code",
   "execution_count": 13,
   "id": "f63baff5",
   "metadata": {},
   "outputs": [
    {
     "data": {
      "text/plain": [
       "(7577, 19)"
      ]
     },
     "execution_count": 13,
     "metadata": {},
     "output_type": "execute_result"
    }
   ],
   "source": [
    "X_train_small_600.shape"
   ]
  },
  {
   "cell_type": "markdown",
   "id": "1787b2b6",
   "metadata": {},
   "source": [
    "##### so far the best"
   ]
  },
  {
   "cell_type": "code",
   "execution_count": 14,
   "id": "964211bb",
   "metadata": {},
   "outputs": [
    {
     "data": {
      "image/png": "[encoded data removed]",
      "text/plain": [
       "<Figure size 864x576 with 2 Axes>"
      ]
     },
     "metadata": {
      "needs_background": "light"
     },
     "output_type": "display_data"
    },
    {
     "name": "stdout",
     "output_type": "stream",
     "text": [
      "Loss\n",
      "\ttraining         \t (min:    0.059, max:    2.256, cur:    0.060)\n",
      "\tvalidation       \t (min:    0.101, max:    1.668, cur:    0.103)\n",
      "lr\n",
      "\tlr               \t (min:    0.000, max:    0.001, cur:    0.000)\n",
      "7577/7577 [==============================] - 1s 131us/sample - loss: 0.0600 - val_loss: 0.1033\n"
     ]
    },
    {
     "data": {
      "text/plain": [
       "<tensorflow.python.keras.callbacks.History at 0x7feed426a8d0>"
      ]
     },
     "execution_count": 14,
     "metadata": {},
     "output_type": "execute_result"
    }
   ],
   "source": [
    "# Set the input shape\n",
    "input_shape = (19,)\n",
    "\n",
    "# Create the model\n",
    "model_small_600_0 = Sequential()\n",
    "model_small_600_0.add(Dense(500, input_shape=input_shape, activation='relu', \n",
    "                        kernel_regularizer=regularizers.l2(0.001)))\n",
    "model_small_600_0.add(Dropout(0.1))\n",
    "model_small_600_0.add(BatchNormalization())\n",
    "model_small_600_0.add(Dense(500, activation='relu', kernel_regularizer=regularizers.l2(0.001)))\n",
    "model_small_600_0.add(Dropout(0.1))\n",
    "model_small_600_0.add(BatchNormalization())\n",
    "model_small_600_0.add(Dense(500, activation='relu', kernel_regularizer=regularizers.l2(0.001)))\n",
    "model_small_600_0.add(Dropout(0.1))\n",
    "model_small_600_0.add(BatchNormalization())\n",
    "model_small_600_0.add(Dense(19, activation='linear', kernel_regularizer=regularizers.l2(0.001)))\n",
    "\n",
    "# Configure the model and start training\n",
    "model_small_600_0.compile(loss='mse', optimizer='adam')\n",
    "\n",
    "reduce_lr = ReduceLROnPlateau(monitor='val_loss', factor=0.5,\n",
    "                              patience=15, min_lr=0.0001)\n",
    "tbCallback = TensorBoard(log_dir='./logs')\n",
    "filepath = \"model/model_comp_small_600_0.h5\"\n",
    "checkpoint = ModelCheckpoint(filepath, monitor='loss', verbose=1, save_best_only=True, mode='min')\n",
    "earlyStop = tf.keras.callbacks.EarlyStopping(monitor='val_loss', patience=30)\n",
    "callbacks_list = [checkpoint, reduce_lr, PlotLossesKeras(), earlyStop]\n",
    "\n",
    "model_small_600_0.fit(X_train_small_600, y_train_small_600, epochs=3000, \n",
    "                  batch_size = 144, verbose=1, validation_data = (X_test_small_600,y_test_small_600), #validation_split=0.2,\n",
    "                  callbacks=callbacks_list)"
   ]
  },
  {
   "cell_type": "code",
   "execution_count": 2,
   "id": "fce06e1b",
   "metadata": {
    "collapsed": true,
    "jupyter": {
     "outputs_hidden": true
    }
   },
   "outputs": [
    {
     "ename": "NameError",
     "evalue": "name 'load_model' is not defined",
     "output_type": "error",
     "traceback": [
      "\u001b[0;31m---------------------------------------------------------------------------\u001b[0m",
      "\u001b[0;31mNameError\u001b[0m                                 Traceback (most recent call last)",
      "\u001b[0;32m/tmp/ipykernel_10207/3888368808.py\u001b[0m in \u001b[0;36m<module>\u001b[0;34m\u001b[0m\n\u001b[0;32m----> 1\u001b[0;31m \u001b[0mmodel_small_600_0\u001b[0m \u001b[0;34m=\u001b[0m \u001b[0mload_model\u001b[0m\u001b[0;34m(\u001b[0m\u001b[0;34m'model/model_comp_small_600_0.h5'\u001b[0m\u001b[0;34m)\u001b[0m\u001b[0;34m\u001b[0m\u001b[0;34m\u001b[0m\u001b[0m\n\u001b[0m",
      "\u001b[0;31mNameError\u001b[0m: name 'load_model' is not defined"
     ]
    }
   ],
   "source": [
    "model_small_600_0 = load_model('model/model_comp_small_600_0.h5')"
   ]
  },
  {
   "cell_type": "code",
   "execution_count": 15,
   "id": "a254b925",
   "metadata": {},
   "outputs": [],
   "source": [
    "y_train_predict_small_600 = model_small_600_0.predict(X_train_small_600)\n",
    "y_test_predict_small_600 = model_small_600_0.predict(X_test_small_600)"
   ]
  },
  {
   "cell_type": "code",
   "execution_count": 16,
   "id": "36c03630",
   "metadata": {},
   "outputs": [
    {
     "name": "stdout",
     "output_type": "stream",
     "text": [
      "The model performance for testing set\n",
      "--------------------------------------\n",
      "MSE train is 0.017286005845301464\n",
      "MSE test is 0.08765630293707001\n",
      "R2 train is 0.9662844745349514\n",
      "R2 test is 0.8651369763334641\n",
      "MAPE train is 0.9366151217052245\n",
      "MAPE test is 1.2042878452067673\n"
     ]
    }
   ],
   "source": [
    "mse_train_small_600 = metrics.mean_squared_error(y_train_small_600, y_train_predict_small_600)\n",
    "mse_test_small_600 = metrics.mean_squared_error(y_test_small_600, y_test_predict_small_600)\n",
    "\n",
    "r2_train_small_600 = r2_score(y_train_small_600, y_train_predict_small_600)\n",
    "r2_test_small_600 = r2_score(y_test_small_600, y_test_predict_small_600)\n",
    "\n",
    "mape_train_small_600 = metrics.mean_absolute_percentage_error(y_train_small_600, y_train_predict_small_600)\n",
    "mape_test_small_600 = metrics.mean_absolute_percentage_error(y_test_small_600, y_test_predict_small_600)\n",
    "\n",
    "print(\"The model performance for testing set\")\n",
    "print(\"--------------------------------------\")\n",
    "print('MSE train is {}'.format(mse_train_small_600))\n",
    "print('MSE test is {}'.format(mse_test_small_600))\n",
    "print('R2 train is {}'.format(r2_train_small_600))\n",
    "print('R2 test is {}'.format(r2_test_small_600))\n",
    "print('MAPE train is {}'.format(mape_train_small_600))\n",
    "print('MAPE test is {}'.format(mape_test_small_600))"
   ]
  },
  {
   "cell_type": "markdown",
   "id": "7b826908",
   "metadata": {},
   "source": [
    "### prepare test on CST, find the index of the samples."
   ]
  },
  {
   "cell_type": "code",
   "execution_count": 66,
   "id": "cecb5148",
   "metadata": {},
   "outputs": [],
   "source": [
    "golden_CST = np.array([0.627372, 0.849978, 0.950813, 0.875983, 0.866188, 1.03133, 0.671715, 0.085633, 1.69804,\n",
    "                       0.508077, 0.803913, 1.08792, -0.844056, -0.484051, 1.71896, 0, 0, 0, 0]);"
   ]
  },
  {
   "cell_type": "code",
   "execution_count": 67,
   "id": "68ea5bd3",
   "metadata": {},
   "outputs": [
    {
     "data": {
      "text/plain": [
       "array([ 0.627372,  0.849978,  0.950813,  0.875983,  0.866188,  1.03133 ,\n",
       "        0.671715,  0.085633,  1.69804 ,  0.508077,  0.803913,  1.08792 ,\n",
       "       -0.844056, -0.484051,  1.71896 ,  0.      ,  0.      ,  0.      ,\n",
       "        0.      ])"
      ]
     },
     "execution_count": 67,
     "metadata": {},
     "output_type": "execute_result"
    }
   ],
   "source": [
    "golden_CST"
   ]
  },
  {
   "cell_type": "code",
   "execution_count": 183,
   "id": "ad4b9ebd",
   "metadata": {},
   "outputs": [],
   "source": [
    "ind = 7;"
   ]
  },
  {
   "cell_type": "code",
   "execution_count": 184,
   "id": "51da3189",
   "metadata": {},
   "outputs": [
    {
     "data": {
      "text/plain": [
       "array([ 0.15704189, -0.23534068, -0.06720491, -0.19276768,  0.18334969,\n",
       "        0.09458983,  0.05500544, -0.1129678 , -0.33580196, -0.87521861,\n",
       "        0.94439408,  1.50751945, -0.65318208, -0.12683603, -0.32761229,\n",
       "        0.56764009, -0.32459171,  0.6794746 ,  0.45085609])"
      ]
     },
     "execution_count": 184,
     "metadata": {},
     "output_type": "execute_result"
    }
   ],
   "source": [
    "y_test_small_ST[ind,:]"
   ]
  },
  {
   "cell_type": "code",
   "execution_count": 185,
   "id": "ab772644",
   "metadata": {},
   "outputs": [
    {
     "data": {
      "text/plain": [
       "array([ 0.14451201, -0.23533073, -0.06515764, -0.16322616,  0.15760031,\n",
       "        0.07041339,  0.09362824, -0.10721166, -0.22624314, -0.8886745 ,\n",
       "        1.0374012 ,  1.5743588 , -0.71647966, -0.14572237, -0.3954083 ,\n",
       "        0.6286045 , -0.3268634 ,  0.44944522,  0.41624132], dtype=float32)"
      ]
     },
     "execution_count": 185,
     "metadata": {},
     "output_type": "execute_result"
    }
   ],
   "source": [
    "y_test_predict_small_ST[ind,:]"
   ]
  },
  {
   "cell_type": "code",
   "execution_count": 186,
   "id": "35ab7a4d",
   "metadata": {},
   "outputs": [
    {
     "data": {
      "text/plain": [
       "array([ 0.77188401,  0.61464727,  0.88565536,  0.71275684,  1.02378831,\n",
       "        1.10174339,  0.76534324, -0.02157866,  1.47179686, -0.3805975 ,\n",
       "        1.8413142 ,  2.66227882, -1.56053566, -0.62977337,  1.3235517 ,\n",
       "        0.62860447, -0.32686341,  0.44944522,  0.41624132])"
      ]
     },
     "execution_count": 186,
     "metadata": {},
     "output_type": "execute_result"
    }
   ],
   "source": [
    "# Predicted CST screw position\n",
    "np.set_printoptions(suppress=True)\n",
    "y_test_predict_small_ST[ind,:] + golden_CST"
   ]
  },
  {
   "cell_type": "code",
   "execution_count": 187,
   "id": "216d2e0a",
   "metadata": {},
   "outputs": [
    {
     "data": {
      "text/plain": [
       "array([ 0.78441389,  0.61463732,  0.88360809,  0.68321532,  1.04953769,\n",
       "        1.12591983,  0.72672044, -0.0273348 ,  1.36223804, -0.36714161,\n",
       "        1.74830708,  2.59543945, -1.49723808, -0.61088703,  1.39134771,\n",
       "        0.56764009, -0.32459171,  0.6794746 ,  0.45085609])"
      ]
     },
     "execution_count": 187,
     "metadata": {},
     "output_type": "execute_result"
    }
   ],
   "source": [
    "y_test_small_ST[ind,:] + golden_CST"
   ]
  },
  {
   "cell_type": "code",
   "execution_count": 136,
   "id": "c6e93f8d",
   "metadata": {},
   "outputs": [
    {
     "data": {
      "text/plain": [
       "1"
      ]
     },
     "execution_count": 136,
     "metadata": {},
     "output_type": "execute_result"
    }
   ],
   "source": [
    "tmp = action_filttune_1200.transpose()[:,0] == X_test_small_ST[ind,0]\n",
    "sum(tmp)"
   ]
  },
  {
   "cell_type": "code",
   "execution_count": 137,
   "id": "42609b15",
   "metadata": {},
   "outputs": [
    {
     "name": "stdout",
     "output_type": "stream",
     "text": [
      "1008\n"
     ]
    }
   ],
   "source": [
    "# find the specific action index in data\n",
    "tmp = action_filttune_1200.transpose()[:,0] == X_test_small_ST[ind,0]\n",
    "index = 0\n",
    "for i in tmp:\n",
    "    if i == False:\n",
    "        index += 1\n",
    "        continue\n",
    "    else:\n",
    "        print(index)"
   ]
  },
  {
   "cell_type": "code",
   "execution_count": null,
   "id": "67492545",
   "metadata": {},
   "outputs": [],
   "source": [
    "0  seed600, 321\n",
    "1      600,  1978\n",
    "2      600,   779\n",
    "3      1200,  2845\n",
    "4      1200,  1154\n",
    "5      1200, 3291\n",
    "6,     600,  2492\n",
    "7,     1200,  1008"
   ]
  },
  {
   "cell_type": "code",
   "execution_count": 249,
   "id": "dd623813",
   "metadata": {},
   "outputs": [
    {
     "data": {
      "text/plain": [
       "-2219.76"
      ]
     },
     "execution_count": 249,
     "metadata": {},
     "output_type": "execute_result"
    }
   ],
   "source": [
    " - 1479.76 - 740"
   ]
  },
  {
   "cell_type": "markdown",
   "id": "ce40639d",
   "metadata": {},
   "source": [
    "### complete_small dataset + seed600/1200"
   ]
  },
  {
   "cell_type": "code",
   "execution_count": 27,
   "id": "4411a0d2",
   "metadata": {},
   "outputs": [
    {
     "data": {
      "text/plain": [
       "(19, 3749)"
      ]
     },
     "execution_count": 27,
     "metadata": {},
     "output_type": "execute_result"
    }
   ],
   "source": [
    "action_CST_1200_small.shape"
   ]
  },
  {
   "cell_type": "code",
   "execution_count": 28,
   "id": "3ac94d97",
   "metadata": {},
   "outputs": [],
   "source": [
    "a_CST_small_612 = np.concatenate((action_CST_500_small,action_CST_600_small,action_CST_900_small,\n",
    "                              action_CST_1000_small,action_CST_1100_small,action_CST_1200_small),axis = 1)\n",
    "a_filttune_small_612 = np.concatenate((action_filttune_500_small,action_filttune_600_small,action_filttune_900_small, \n",
    "                                   action_filttune_1000_small, action_filttune_1100_small,action_filttune_1200_small),axis = 1)"
   ]
  },
  {
   "cell_type": "code",
   "execution_count": 29,
   "id": "a859f438",
   "metadata": {},
   "outputs": [
    {
     "data": {
      "text/plain": [
       "(19, 13221)"
      ]
     },
     "execution_count": 29,
     "metadata": {},
     "output_type": "execute_result"
    }
   ],
   "source": [
    "a_CST_small_612.shape"
   ]
  },
  {
   "cell_type": "code",
   "execution_count": 31,
   "id": "28438e0a",
   "metadata": {},
   "outputs": [
    {
     "data": {
      "text/plain": [
       "(19, 3749)"
      ]
     },
     "execution_count": 31,
     "metadata": {},
     "output_type": "execute_result"
    }
   ],
   "source": [
    "action_CST_1200_small.shape"
   ]
  },
  {
   "cell_type": "code",
   "execution_count": 33,
   "id": "c052ba04",
   "metadata": {},
   "outputs": [],
   "source": [
    "X_train_small_612, X_test_small_612, y_train_small_612, y_test_small_612 = train_test_split( \n",
    "     a_filttune_small_612.transpose(),a_CST_small_612.transpose(), random_state=1,train_size = 0.8)"
   ]
  },
  {
   "cell_type": "code",
   "execution_count": 172,
   "id": "5513b2e4",
   "metadata": {},
   "outputs": [
    {
     "data": {
      "text/plain": [
       "6065"
      ]
     },
     "execution_count": 172,
     "metadata": {},
     "output_type": "execute_result"
    }
   ],
   "source": [
    "13221-7156"
   ]
  },
  {
   "cell_type": "markdown",
   "id": "bf23bf81",
   "metadata": {},
   "source": [
    "##### so far the best"
   ]
  },
  {
   "cell_type": "code",
   "execution_count": 45,
   "id": "dcbe26a9",
   "metadata": {},
   "outputs": [
    {
     "data": {
      "image/png": "[encoded data removed]",
      "text/plain": [
       "<Figure size 864x576 with 2 Axes>"
      ]
     },
     "metadata": {
      "needs_background": "light"
     },
     "output_type": "display_data"
    },
    {
     "name": "stdout",
     "output_type": "stream",
     "text": [
      "Loss\n",
      "\ttraining         \t (min:    0.058, max:    2.215, cur:    0.059)\n",
      "\tvalidation       \t (min:    0.079, max:    1.668, cur:    0.080)\n",
      "lr\n",
      "\tlr               \t (min:    0.000, max:    0.001, cur:    0.000)\n",
      "10576/10576 [==============================] - 1s 60us/sample - loss: 0.0589 - val_loss: 0.0803\n"
     ]
    },
    {
     "data": {
      "text/plain": [
       "<tensorflow.python.keras.callbacks.History at 0x7facc8632310>"
      ]
     },
     "execution_count": 45,
     "metadata": {},
     "output_type": "execute_result"
    }
   ],
   "source": [
    "# Set the input shape\n",
    "input_shape = (19,)\n",
    "\n",
    "# Create the model\n",
    "model_small_612_0 = Sequential()\n",
    "model_small_612_0.add(Dense(600, input_shape=input_shape, activation='relu', \n",
    "                        kernel_regularizer=regularizers.l2(0.001)))\n",
    "model_small_612_0.add(Dropout(0.1))\n",
    "model_small_612_0.add(BatchNormalization())\n",
    "model_small_612_0.add(Dense(600, activation='relu', kernel_regularizer=regularizers.l2(0.001)))\n",
    "model_small_612_0.add(Dropout(0.1))\n",
    "model_small_612_0.add(BatchNormalization())\n",
    "model_small_612_0.add(Dense(600, activation='relu', kernel_regularizer=regularizers.l2(0.001)))\n",
    "model_small_612_0.add(Dropout(0.1))\n",
    "model_small_612_0.add(BatchNormalization())\n",
    "model_small_612_0.add(Dense(19, activation='linear', kernel_regularizer=regularizers.l2(0.001)))\n",
    "\n",
    "# Configure the model and start training\n",
    "model_small_612_0.compile(loss='mse', optimizer='adam')\n",
    "\n",
    "reduce_lr = ReduceLROnPlateau(monitor='val_loss', factor=0.5,\n",
    "                              patience=15, min_lr=0.0001)\n",
    "tbCallback = TensorBoard(log_dir='./logs')\n",
    "filepath = \"model/model_comp_small_612_0.h5\"\n",
    "checkpoint = ModelCheckpoint(filepath, monitor='loss', verbose=1, save_best_only=True, mode='min')\n",
    "earlyStop = tf.keras.callbacks.EarlyStopping(monitor='val_loss', patience=30)\n",
    "callbacks_list = [checkpoint, reduce_lr, PlotLossesKeras(), earlyStop]\n",
    "\n",
    "model_small_612_0.fit(X_train_small_612, y_train_small_612, epochs=3000, \n",
    "                  batch_size = 144, verbose=1, validation_data = (X_test_small_612,y_test_small_612), #validation_split=0.2,\n",
    "                  callbacks=callbacks_list)"
   ]
  },
  {
   "cell_type": "code",
   "execution_count": 46,
   "id": "1edc5e28",
   "metadata": {},
   "outputs": [],
   "source": [
    "y_train_predict_small_612 = model_small_612_0.predict(X_train_small_612)\n",
    "y_test_predict_small_612 = model_small_612_0.predict(X_test_small_612)"
   ]
  },
  {
   "cell_type": "code",
   "execution_count": 47,
   "id": "736d1eb3",
   "metadata": {},
   "outputs": [
    {
     "name": "stdout",
     "output_type": "stream",
     "text": [
      "The model performance for testing set\n",
      "--------------------------------------\n",
      "MSE train is 0.021673537235306677\n",
      "MSE test is 0.0653228122270577\n",
      "R2 train is 0.9588016568733145\n",
      "R2 test is 0.8975980413391781\n",
      "MAPE train is 0.9683283608447679\n",
      "MAPE test is 1.0420216058870542\n"
     ]
    }
   ],
   "source": [
    "mse_train_small_612 = metrics.mean_squared_error(y_train_small_612, y_train_predict_small_612)\n",
    "mse_test_small_612 = metrics.mean_squared_error(y_test_small_612, y_test_predict_small_612)\n",
    "\n",
    "r2_train_small_612 = r2_score(y_train_small_612, y_train_predict_small_612)\n",
    "r2_test_small_612 = r2_score(y_test_small_612, y_test_predict_small_612)\n",
    "\n",
    "mape_train_small_612 = metrics.mean_absolute_percentage_error(y_train_small_612, y_train_predict_small_612)\n",
    "mape_test_small_612 = metrics.mean_absolute_percentage_error(y_test_small_612, y_test_predict_small_612)\n",
    "\n",
    "print(\"The model performance for testing set\")\n",
    "print(\"--------------------------------------\")\n",
    "print('MSE train is {}'.format(mse_train_small_612))\n",
    "print('MSE test is {}'.format(mse_test_small_612))\n",
    "print('R2 train is {}'.format(r2_train_small_612))\n",
    "print('R2 test is {}'.format(r2_test_small_612))\n",
    "print('MAPE train is {}'.format(mape_train_small_612))\n",
    "print('MAPE test is {}'.format(mape_test_small_612))"
   ]
  },
  {
   "cell_type": "code",
   "execution_count": null,
   "id": "fba3f36a",
   "metadata": {},
   "outputs": [],
   "source": []
  },
  {
   "cell_type": "markdown",
   "id": "e8d9d094",
   "metadata": {},
   "source": [
    "### Only good samples, small dataset: seed600+1200"
   ]
  },
  {
   "cell_type": "code",
   "execution_count": 27,
   "id": "69b6f917",
   "metadata": {},
   "outputs": [
    {
     "data": {
      "text/plain": [
       "(19, 3749)"
      ]
     },
     "execution_count": 27,
     "metadata": {},
     "output_type": "execute_result"
    }
   ],
   "source": [
    "action_CST_1200_small.shape"
   ]
  },
  {
   "cell_type": "code",
   "execution_count": 48,
   "id": "14653966",
   "metadata": {},
   "outputs": [],
   "source": [
    "#ST for small tolerance\n",
    "a_CST_small_ST = np.concatenate((action_CST_600_small,action_CST_1200_small),axis = 1)\n",
    "a_filttune_small_ST = np.concatenate((action_filttune_600_small,action_filttune_1200_small),axis = 1)"
   ]
  },
  {
   "cell_type": "code",
   "execution_count": 49,
   "id": "b39bb8e1",
   "metadata": {},
   "outputs": [
    {
     "data": {
      "text/plain": [
       "(19, 7156)"
      ]
     },
     "execution_count": 49,
     "metadata": {},
     "output_type": "execute_result"
    }
   ],
   "source": [
    "a_CST_small_ST.shape"
   ]
  },
  {
   "cell_type": "code",
   "execution_count": 50,
   "id": "d7515b98",
   "metadata": {},
   "outputs": [],
   "source": [
    "X_train_small_ST, X_test_small_ST, y_train_small_ST, y_test_small_ST = train_test_split( \n",
    "     a_filttune_small_ST.transpose(),a_CST_small_ST.transpose(), random_state=1,train_size = 0.8)"
   ]
  },
  {
   "cell_type": "code",
   "execution_count": 51,
   "id": "7c9a56e7",
   "metadata": {},
   "outputs": [
    {
     "data": {
      "text/plain": [
       "(5724, 19)"
      ]
     },
     "execution_count": 51,
     "metadata": {},
     "output_type": "execute_result"
    }
   ],
   "source": [
    "X_train_small_ST.shape"
   ]
  },
  {
   "cell_type": "markdown",
   "id": "bf4d0c40",
   "metadata": {},
   "source": [
    "##### so far the best"
   ]
  },
  {
   "cell_type": "code",
   "execution_count": 52,
   "id": "067e1e26",
   "metadata": {},
   "outputs": [
    {
     "data": {
      "image/png": "[encoded data removed]",
      "text/plain": [
       "<Figure size 864x576 with 2 Axes>"
      ]
     },
     "metadata": {
      "needs_background": "light"
     },
     "output_type": "display_data"
    },
    {
     "name": "stdout",
     "output_type": "stream",
     "text": [
      "Loss\n",
      "\ttraining         \t (min:    0.028, max:    2.208, cur:    0.029)\n",
      "\tvalidation       \t (min:    0.024, max:    1.660, cur:    0.024)\n",
      "lr\n",
      "\tlr               \t (min:    0.000, max:    0.001, cur:    0.000)\n",
      "5724/5724 [==============================] - 0s 81us/sample - loss: 0.0286 - val_loss: 0.0244\n"
     ]
    },
    {
     "data": {
      "text/plain": [
       "<tensorflow.python.keras.callbacks.History at 0x7facc86d2b50>"
      ]
     },
     "execution_count": 52,
     "metadata": {},
     "output_type": "execute_result"
    }
   ],
   "source": [
    "# Set the input shape\n",
    "input_shape = (19,)\n",
    "\n",
    "# Create the model\n",
    "model_small_ST_0 = Sequential()\n",
    "model_small_ST_0.add(Dense(500, input_shape=input_shape, activation='relu', \n",
    "                        kernel_regularizer=regularizers.l2(0.001)))\n",
    "model_small_ST_0.add(Dropout(0.1))\n",
    "model_small_ST_0.add(BatchNormalization())\n",
    "model_small_ST_0.add(Dense(500, activation='relu', kernel_regularizer=regularizers.l2(0.001)))\n",
    "model_small_ST_0.add(Dropout(0.1))\n",
    "model_small_ST_0.add(BatchNormalization())\n",
    "model_small_ST_0.add(Dense(500, activation='relu', kernel_regularizer=regularizers.l2(0.001)))\n",
    "model_small_ST_0.add(Dropout(0.1))\n",
    "model_small_ST_0.add(BatchNormalization())\n",
    "model_small_ST_0.add(Dense(19, activation='linear', kernel_regularizer=regularizers.l2(0.001)))\n",
    "\n",
    "# Configure the model and start training\n",
    "model_small_ST_0.compile(loss='mse', optimizer='adam')\n",
    "\n",
    "reduce_lr = ReduceLROnPlateau(monitor='val_loss', factor=0.5,\n",
    "                              patience=15, min_lr=0.0001)\n",
    "tbCallback = TensorBoard(log_dir='./logs')\n",
    "filepath = \"model/model_comp_small_ST_0.h5\"\n",
    "checkpoint = ModelCheckpoint(filepath, monitor='loss', verbose=1, save_best_only=True, mode='min')\n",
    "earlyStop = tf.keras.callbacks.EarlyStopping(monitor='val_loss', patience=30)\n",
    "callbacks_list = [checkpoint, reduce_lr, PlotLossesKeras(), earlyStop]\n",
    "\n",
    "model_small_ST_0.fit(X_train_small_ST, y_train_small_ST, epochs=3000, \n",
    "                  batch_size = 144, verbose=1, validation_data = (X_test_small_ST,y_test_small_ST), #validation_split=0.2,\n",
    "                  callbacks=callbacks_list)"
   ]
  },
  {
   "cell_type": "code",
   "execution_count": 53,
   "id": "0535b474",
   "metadata": {},
   "outputs": [],
   "source": [
    "y_train_predict_small_ST = model_small_ST_0.predict(X_train_small_ST)\n",
    "y_test_predict_small_ST = model_small_ST_0.predict(X_test_small_ST)"
   ]
  },
  {
   "cell_type": "code",
   "execution_count": 54,
   "id": "d2d3c550",
   "metadata": {},
   "outputs": [
    {
     "name": "stdout",
     "output_type": "stream",
     "text": [
      "The model performance for testing set\n",
      "--------------------------------------\n",
      "MSE train is 0.00680869854567449\n",
      "MSE test is 0.01817550383967238\n",
      "R2 train is 0.9766256836692984\n",
      "R2 test is 0.9511346286531162\n",
      "MAPE train is 0.7200067758430678\n",
      "MAPE test is 0.9004777843957446\n"
     ]
    }
   ],
   "source": [
    "mse_train_small_ST = metrics.mean_squared_error(y_train_small_ST, y_train_predict_small_ST)\n",
    "mse_test_small_ST = metrics.mean_squared_error(y_test_small_ST, y_test_predict_small_ST)\n",
    "\n",
    "r2_train_small_ST = r2_score(y_train_small_ST, y_train_predict_small_ST)\n",
    "r2_test_small_ST = r2_score(y_test_small_ST, y_test_predict_small_ST)\n",
    "\n",
    "mape_train_small_ST = metrics.mean_absolute_percentage_error(y_train_small_ST, y_train_predict_small_ST)\n",
    "mape_test_small_ST = metrics.mean_absolute_percentage_error(y_test_small_ST, y_test_predict_small_ST)\n",
    "\n",
    "print(\"The model performance for testing set\")\n",
    "print(\"--------------------------------------\")\n",
    "print('MSE train is {}'.format(mse_train_small_ST))\n",
    "print('MSE test is {}'.format(mse_test_small_ST))\n",
    "print('R2 train is {}'.format(r2_train_small_ST))\n",
    "print('R2 test is {}'.format(r2_test_small_ST))\n",
    "print('MAPE train is {}'.format(mape_train_small_ST))\n",
    "print('MAPE test is {}'.format(mape_test_small_ST))"
   ]
  },
  {
   "cell_type": "code",
   "execution_count": 55,
   "id": "d60105c1",
   "metadata": {},
   "outputs": [
    {
     "data": {
      "text/plain": [
       "array([ 0.14451201, -0.23533073, -0.06515764, -0.16322616,  0.15760031,\n",
       "        0.07041339,  0.09362824, -0.10721166, -0.22624314, -0.8886745 ,\n",
       "        1.0374012 ,  1.5743588 , -0.71647966, -0.14572237, -0.3954083 ,\n",
       "        0.6286045 , -0.3268634 ,  0.44944522,  0.41624132], dtype=float32)"
      ]
     },
     "execution_count": 55,
     "metadata": {},
     "output_type": "execute_result"
    }
   ],
   "source": [
    "y_test_predict_small_ST[7,:]"
   ]
  },
  {
   "cell_type": "code",
   "execution_count": 56,
   "id": "1e2f3321",
   "metadata": {},
   "outputs": [
    {
     "data": {
      "text/plain": [
       "array([ 0.15704189, -0.23534068, -0.06720491, -0.19276768,  0.18334969,\n",
       "        0.09458983,  0.05500544, -0.1129678 , -0.33580196, -0.87521861,\n",
       "        0.94439408,  1.50751945, -0.65318208, -0.12683603, -0.32761229,\n",
       "        0.56764009, -0.32459171,  0.6794746 ,  0.45085609])"
      ]
     },
     "execution_count": 56,
     "metadata": {},
     "output_type": "execute_result"
    }
   ],
   "source": [
    "y_test_small_ST[7,:]"
   ]
  },
  {
   "cell_type": "markdown",
   "id": "bae7a0c5",
   "metadata": {},
   "source": [
    "## Only small tol data 600, 1200, 1300"
   ]
  },
  {
   "cell_type": "code",
   "execution_count": 10,
   "id": "f118db44",
   "metadata": {},
   "outputs": [],
   "source": [
    "a_CST_small_ST13 = np.concatenate((action_CST_600_small,action_CST_1200_small,action_CST_1300_small),axis = 1)\n",
    "a_filttune_small_ST13 = np.concatenate((action_filttune_600_small,action_filttune_1200_small,action_filttune_1300_small),axis = 1)"
   ]
  },
  {
   "cell_type": "code",
   "execution_count": 11,
   "id": "b9a0dd98",
   "metadata": {},
   "outputs": [
    {
     "data": {
      "text/plain": [
       "(19, 11767)"
      ]
     },
     "execution_count": 11,
     "metadata": {},
     "output_type": "execute_result"
    }
   ],
   "source": [
    "a_CST_small_ST13.shape"
   ]
  },
  {
   "cell_type": "code",
   "execution_count": 12,
   "id": "e897cae6",
   "metadata": {},
   "outputs": [],
   "source": [
    "X_train_small_ST13, X_test_small_ST13, y_train_small_ST13, y_test_small_ST13 = train_test_split( \n",
    "     a_filttune_small_ST13.transpose(),a_CST_small_ST13.transpose(), random_state=1,train_size = 0.8)"
   ]
  },
  {
   "cell_type": "code",
   "execution_count": 13,
   "id": "ea448972",
   "metadata": {},
   "outputs": [
    {
     "data": {
      "image/png": "[encoded data removed]",
      "text/plain": [
       "<Figure size 864x576 with 2 Axes>"
      ]
     },
     "metadata": {
      "needs_background": "light"
     },
     "output_type": "display_data"
    },
    {
     "name": "stdout",
     "output_type": "stream",
     "text": [
      "Loss\n",
      "\ttraining         \t (min:    0.019, max:    2.699, cur:    0.019)\n",
      "\tvalidation       \t (min:    0.019, max:    2.337, cur:    0.019)\n",
      "lr\n",
      "\tlr               \t (min:    0.000, max:    0.001, cur:    0.000)\n",
      "9413/9413 [==============================] - 0s 49us/sample - loss: 0.0190 - val_loss: 0.0194\n"
     ]
    },
    {
     "data": {
      "text/plain": [
       "<tensorflow.python.keras.callbacks.History at 0x7f5c3ea7a810>"
      ]
     },
     "execution_count": 13,
     "metadata": {},
     "output_type": "execute_result"
    }
   ],
   "source": [
    "# Set the input shape\n",
    "input_shape = (19,)\n",
    "\n",
    "# Create the model\n",
    "model_small_ST13_0 = Sequential()\n",
    "model_small_ST13_0.add(Dense(700, input_shape=input_shape, activation='relu', \n",
    "                        kernel_regularizer=regularizers.l2(0.001)))\n",
    "model_small_ST13_0.add(Dropout(0.1))\n",
    "model_small_ST13_0.add(BatchNormalization())\n",
    "model_small_ST13_0.add(Dense(700, activation='relu', kernel_regularizer=regularizers.l2(0.001)))\n",
    "model_small_ST13_0.add(Dropout(0.1))\n",
    "model_small_ST13_0.add(BatchNormalization())\n",
    "model_small_ST13_0.add(Dense(700, activation='relu', kernel_regularizer=regularizers.l2(0.001)))\n",
    "model_small_ST13_0.add(Dropout(0.1))\n",
    "model_small_ST13_0.add(BatchNormalization())\n",
    "model_small_ST13_0.add(Dense(19, activation='linear', kernel_regularizer=regularizers.l2(0.001)))\n",
    "\n",
    "# Configure the model and start training\n",
    "model_small_ST13_0.compile(loss='mse', optimizer='adam')\n",
    "\n",
    "reduce_lr = ReduceLROnPlateau(monitor='val_loss', factor=0.5,\n",
    "                              patience=15, min_lr=0.0001)\n",
    "tbCallback = TensorBoard(log_dir='./logs')\n",
    "filepath = \"model/model_comp_small_ST13_0.h5\"\n",
    "checkpoint = ModelCheckpoint(filepath, monitor='loss', verbose=1, save_best_only=True, mode='min')\n",
    "earlyStop = tf.keras.callbacks.EarlyStopping(monitor='val_loss', patience=30)\n",
    "callbacks_list = [checkpoint, reduce_lr, PlotLossesKeras(), earlyStop]\n",
    "\n",
    "model_small_ST13_0.fit(X_train_small_ST13, y_train_small_ST13, epochs=3000, \n",
    "                  batch_size = 400, verbose=1, validation_data = (X_test_small_ST13,y_test_small_ST13), #validation_split=0.2,\n",
    "                  callbacks=callbacks_list)"
   ]
  },
  {
   "cell_type": "code",
   "execution_count": 14,
   "id": "39c6f8cc",
   "metadata": {},
   "outputs": [],
   "source": [
    "y_train_predict_small_ST13 = model_small_ST13_0.predict(X_train_small_ST13)\n",
    "y_test_predict_small_ST13 = model_small_ST13_0.predict(X_test_small_ST13)"
   ]
  },
  {
   "cell_type": "code",
   "execution_count": 15,
   "id": "3ff30d57",
   "metadata": {},
   "outputs": [
    {
     "data": {
      "text/plain": [
       "(2354, 19)"
      ]
     },
     "execution_count": 15,
     "metadata": {},
     "output_type": "execute_result"
    }
   ],
   "source": [
    "y_test_predict_small_ST13.shape"
   ]
  },
  {
   "cell_type": "code",
   "execution_count": 16,
   "id": "c571338a",
   "metadata": {},
   "outputs": [
    {
     "data": {
      "text/plain": [
       "numpy.ndarray"
      ]
     },
     "execution_count": 16,
     "metadata": {},
     "output_type": "execute_result"
    }
   ],
   "source": [
    "type(y_test_predict_small_ST13)"
   ]
  },
  {
   "cell_type": "code",
   "execution_count": 46,
   "id": "8176d517",
   "metadata": {},
   "outputs": [
    {
     "name": "stdout",
     "output_type": "stream",
     "text": [
      "The model performance for testing set\n",
      "--------------------------------------\n",
      "MSE train is 0.004749334422484404\n",
      "MSE test is 0.014270199674081047\n",
      "R2 train is 0.9827651219928872\n",
      "R2 test is 0.9630696136889348\n"
     ]
    }
   ],
   "source": [
    "mse_train_small_ST13 = metrics.mean_squared_error(y_train_small_ST13, y_train_predict_small_ST13)\n",
    "mse_test_small_ST13 = metrics.mean_squared_error(y_test_small_ST13, y_test_predict_small_ST13)\n",
    "\n",
    "r2_train_small_ST13 = r2_score(y_train_small_ST13, y_train_predict_small_ST13)\n",
    "r2_test_small_ST13 = r2_score(y_test_small_ST13, y_test_predict_small_ST13)\n",
    "\n",
    "print(\"The model performance for testing set\")\n",
    "print(\"--------------------------------------\")\n",
    "print('MSE train is {}'.format(mse_train_small_ST13))\n",
    "print('MSE test is {}'.format(mse_test_small_ST13))\n",
    "print('R2 train is {}'.format(r2_train_small_ST13))\n",
    "print('R2 test is {}'.format(r2_test_small_ST13))"
   ]
  },
  {
   "cell_type": "markdown",
   "id": "c7c75b8f",
   "metadata": {},
   "source": [
    "## Only 1300F012mm"
   ]
  },
  {
   "cell_type": "code",
   "execution_count": 18,
   "id": "6dc1e757",
   "metadata": {},
   "outputs": [],
   "source": [
    "a_CST_small_1300F012mm = action_CST_1300F012mm_small\n",
    "a_filttune_small_1300F012mm = action_filttune_1300F012mm_small"
   ]
  },
  {
   "cell_type": "code",
   "execution_count": 19,
   "id": "e25ce120",
   "metadata": {},
   "outputs": [
    {
     "data": {
      "text/plain": [
       "(19, 4283)"
      ]
     },
     "execution_count": 19,
     "metadata": {},
     "output_type": "execute_result"
    }
   ],
   "source": [
    "a_CST_small_1300F012mm.shape"
   ]
  },
  {
   "cell_type": "code",
   "execution_count": 20,
   "id": "98eff591",
   "metadata": {},
   "outputs": [],
   "source": [
    "X_train_small_1300F012mm, X_test_small_1300F012mm, y_train_small_1300F012mm, y_test_small_1300F012mm = train_test_split( \n",
    "     a_filttune_small_1300F012mm.transpose(),a_CST_small_1300F012mm.transpose(), random_state=1,train_size = 0.8)"
   ]
  },
  {
   "cell_type": "code",
   "execution_count": null,
   "id": "421db5a0",
   "metadata": {},
   "outputs": [],
   "source": [
    "# so far best hyperpara [700,700,700], l2 reg = 0.002, patience in reduce_lc 50, patience in early stop 70\n",
    "# batch_size = 400"
   ]
  },
  {
   "cell_type": "code",
   "execution_count": 74,
   "id": "29687417",
   "metadata": {},
   "outputs": [
    {
     "data": {
      "image/png": "[encoded data removed]",
      "text/plain": [
       "<Figure size 864x576 with 2 Axes>"
      ]
     },
     "metadata": {
      "needs_background": "light"
     },
     "output_type": "display_data"
    },
    {
     "name": "stdout",
     "output_type": "stream",
     "text": [
      "Loss\n",
      "\ttraining         \t (min:    0.017, max:    4.786, cur:    0.017)\n",
      "\tvalidation       \t (min:    0.028, max:    4.793, cur:    0.029)\n",
      "lr\n",
      "\tlr               \t (min:    0.000, max:    0.001, cur:    0.000)\n",
      "3426/3426 [==============================] - 0s 82us/sample - loss: 0.0175 - val_loss: 0.0290\n"
     ]
    },
    {
     "data": {
      "text/plain": [
       "<tensorflow.python.keras.callbacks.History at 0x7f3ab225be50>"
      ]
     },
     "execution_count": 74,
     "metadata": {},
     "output_type": "execute_result"
    }
   ],
   "source": [
    "# Set the input shape\n",
    "input_shape = (19,)\n",
    "\n",
    "# Create the model\n",
    "model_small_1300F012mm_0 = Sequential()\n",
    "model_small_1300F012mm_0.add(Dense(700, input_shape=input_shape, activation='relu', \n",
    "                        kernel_regularizer=regularizers.l2(0.002)))\n",
    "model_small_1300F012mm_0.add(Dropout(0.1))\n",
    "model_small_1300F012mm_0.add(BatchNormalization())\n",
    "model_small_1300F012mm_0.add(Dense(700, activation='relu', kernel_regularizer=regularizers.l2(0.002)))\n",
    "model_small_1300F012mm_0.add(Dropout(0.1))\n",
    "model_small_1300F012mm_0.add(BatchNormalization())\n",
    "model_small_1300F012mm_0.add(Dense(700, activation='relu', kernel_regularizer=regularizers.l2(0.002)))\n",
    "model_small_1300F012mm_0.add(Dropout(0.1))\n",
    "model_small_1300F012mm_0.add(BatchNormalization())\n",
    "model_small_1300F012mm_0.add(Dense(19, activation='linear', kernel_regularizer=regularizers.l2(0.002)))\n",
    "\n",
    "# Configure the model and start training\n",
    "model_small_1300F012mm_0.compile(loss='mse', optimizer='adam')\n",
    "\n",
    "reduce_lr = ReduceLROnPlateau(monitor='val_loss', factor=0.5,\n",
    "                              patience=50, min_lr=0.0001)\n",
    "tbCallback = TensorBoard(log_dir='./logs')\n",
    "filepath = \"model/model_comp_small_1300F012mm_0.h5\"\n",
    "checkpoint = ModelCheckpoint(filepath, monitor='loss', verbose=1, save_best_only=True, mode='min')\n",
    "earlyStop = tf.keras.callbacks.EarlyStopping(monitor='val_loss', patience=70)\n",
    "callbacks_list = [checkpoint, reduce_lr, PlotLossesKeras(), earlyStop]\n",
    "\n",
    "model_small_1300F012mm_0.fit(X_train_small_1300F012mm, y_train_small_1300F012mm, epochs=3000, \n",
    "                  batch_size = 400, verbose=1, validation_data = (X_test_small_1300F012mm,y_test_small_1300F012mm), #validation_split=0.2,\n",
    "                  callbacks=callbacks_list)"
   ]
  },
  {
   "cell_type": "code",
   "execution_count": 75,
   "id": "3c6d2a21",
   "metadata": {},
   "outputs": [],
   "source": [
    "y_train_predict_small_1300F012mm = model_small_1300F012mm_0.predict(X_train_small_1300F012mm)\n",
    "y_test_predict_small_1300F012mm = model_small_1300F012mm_0.predict(X_test_small_1300F012mm)"
   ]
  },
  {
   "cell_type": "code",
   "execution_count": 47,
   "id": "eb202bf1",
   "metadata": {},
   "outputs": [
    {
     "data": {
      "text/plain": [
       "(857, 19)"
      ]
     },
     "execution_count": 47,
     "metadata": {},
     "output_type": "execute_result"
    }
   ],
   "source": [
    "y_test_predict_small_1300F012mm.shape"
   ]
  },
  {
   "cell_type": "code",
   "execution_count": 16,
   "id": "766cc9d3",
   "metadata": {},
   "outputs": [
    {
     "data": {
      "text/plain": [
       "numpy.ndarray"
      ]
     },
     "execution_count": 16,
     "metadata": {},
     "output_type": "execute_result"
    }
   ],
   "source": [
    "type(y_test_predict_small_ST13)"
   ]
  },
  {
   "cell_type": "code",
   "execution_count": 76,
   "id": "33a06641",
   "metadata": {},
   "outputs": [
    {
     "name": "stdout",
     "output_type": "stream",
     "text": [
      "The model performance for testing set\n",
      "--------------------------------------\n",
      "MSE train is 0.0036304849129537246\n",
      "MSE test is 0.023013226988419167\n",
      "R2 train is 0.9674788014568123\n",
      "R2 test is 0.9187071844088475\n"
     ]
    }
   ],
   "source": [
    "mse_train_small_1300F012mm = metrics.mean_squared_error(y_train_small_1300F012mm, y_train_predict_small_1300F012mm)\n",
    "mse_test_small_1300F012mm = metrics.mean_squared_error(y_test_small_1300F012mm, y_test_predict_small_1300F012mm)\n",
    "\n",
    "r2_train_small_1300F012mm = r2_score(y_train_small_1300F012mm, y_train_predict_small_1300F012mm)\n",
    "r2_test_small_1300F012mm = r2_score(y_test_small_1300F012mm, y_test_predict_small_1300F012mm)\n",
    "\n",
    "print(\"The model performance for testing set\")\n",
    "print(\"--------------------------------------\")\n",
    "print('MSE train is {}'.format(mse_train_small_1300F012mm))\n",
    "print('MSE test is {}'.format(mse_test_small_1300F012mm))\n",
    "print('R2 train is {}'.format(r2_train_small_1300F012mm))\n",
    "print('R2 test is {}'.format(r2_test_small_1300F012mm))\n"
   ]
  }
 ],
 "metadata": {
  "environment": {
   "name": "tf2-gpu.2-1.m78",
   "type": "gcloud",
   "uri": "gcr.io/deeplearning-platform-release/tf2-gpu.2-1:m78"
  },
  "kernelspec": {
   "display_name": "Python 3",
   "language": "python",
   "name": "python3"
  },
  "language_info": {
   "codemirror_mode": {
    "name": "ipython",
    "version": 3
   },
   "file_extension": ".py",
   "mimetype": "text/x-python",
   "name": "python",
   "nbconvert_exporter": "python",
   "pygments_lexer": "ipython3",
   "version": "3.7.10"
  }
 },
 "nbformat": 4,
 "nbformat_minor": 5
}
