{
 "cells": [
  {
   "cell_type": "code",
   "execution_count": 1,
   "id": "21b9ff4b",
   "metadata": {},
   "outputs": [],
   "source": [
    "import numpy as np\n",
    "import matplotlib.pyplot as plt\n",
    "\n",
    "from sklearn.model_selection import train_test_split\n",
    "from sklearn.metrics import r2_score\n",
    "from sklearn import metrics\n",
    "from sklearn.metrics import mean_absolute_percentage_error"
   ]
  },
  {
   "cell_type": "markdown",
   "id": "22cebc78",
   "metadata": {},
   "source": [
    "## load the data"
   ]
  },
  {
   "cell_type": "markdown",
   "id": "6ee5d43e",
   "metadata": {},
   "source": [
    "### action"
   ]
  },
  {
   "cell_type": "code",
   "execution_count": 2,
   "id": "6186dd6e",
   "metadata": {},
   "outputs": [],
   "source": [
    "# last column in action_filttune is the origin in filttune\n",
    "\n",
    "action_CST_400 = np.loadtxt('data/action_in_CST_matrix_rand_seed400.csv',delimiter=',')\n",
    "action_filttune_full_400 = np.loadtxt('data/action_in_filttune_matrix_19_seed400.csv',delimiter=',')\n",
    "\n",
    "action_CST_500 = np.loadtxt('data/action_in_CST_matrix_rand_seed500.csv',delimiter=',')\n",
    "action_filttune_full_500 = np.loadtxt('data/action_in_filttune_matrix_19_seed500.csv',delimiter=',')\n",
    "\n",
    "action_CST_600 = np.loadtxt('data/action_in_CST_matrix_rand_seed600.csv',delimiter=',')\n",
    "action_filttune_full_600 = np.loadtxt('data/action_in_filttune_matrix_19_seed600.csv',delimiter=',')\n",
    "\n",
    "action_CST_700 = np.loadtxt('data/action_in_CST_matrix_rand_seed700.csv',delimiter=',')\n",
    "action_filttune_full_700 = np.loadtxt('data/action_in_filttune_matrix_19_seed700.csv',delimiter=',')\n",
    "\n",
    "action_CST_800 = np.loadtxt('data/action_in_CST_matrix_rand_seed800.csv',delimiter=',')\n",
    "action_filttune_full_800 = np.loadtxt('data/action_in_filttune_matrix_19_seed800.csv',delimiter=',')\n",
    "\n",
    "action_CST_900 = np.loadtxt('data/action_in_CST_matrix_rand_seed900.csv',delimiter=',')\n",
    "action_filttune_full_900 = np.loadtxt('data/action_in_filttune_matrix_19_seed900.csv',delimiter=',')\n",
    "\n",
    "action_CST_1000 = np.loadtxt('data/action_in_CST_matrix_rand_seed1000.csv',delimiter=',')\n",
    "action_filttune_full_1000 = np.loadtxt('data/action_in_filttune_matrix_19_seed1000.csv',delimiter=',')\n",
    "\n",
    "action_CST_1100 = np.loadtxt('data/action_in_CST_matrix_rand_seed1100.csv',delimiter=',')\n",
    "action_filttune_full_1100 = np.loadtxt('data/action_in_filttune_matrix_19_seed1100.csv',delimiter=',')\n",
    "\n",
    "action_CST_1200 = np.loadtxt('data/action_in_CST_matrix_rand_seed1200.csv',delimiter=',')\n",
    "action_filttune_full_1200 = np.loadtxt('data/action_in_filttune_matrix_19_seed1200.csv',delimiter=',')\n",
    "\n",
    "action_CST_1300 = np.loadtxt('data/action_in_CST_matrix_rand_seed1300.csv',delimiter=',')\n",
    "action_filttune_full_1300 = np.loadtxt('data/action_in_filttune_matrix_19_seed1300.csv',delimiter=',')"
   ]
  },
  {
   "cell_type": "code",
   "execution_count": 3,
   "id": "ecfbda66",
   "metadata": {},
   "outputs": [],
   "source": [
    "action_filttune_400 = action_filttune_full_400[:,0:5372]\n",
    "action_filttune_500 = action_filttune_full_500[:,0:3201]\n",
    "action_filttune_600  = action_filttune_full_600[:,0:3636]\n",
    "\n",
    "action_filttune_700 = action_filttune_full_700[:,0:855]\n",
    "action_filttune_800 = action_filttune_full_800[:,0:482]\n",
    "\n",
    "action_filttune_900  = action_filttune_full_900[:,0:1083]\n",
    "action_filttune_1000 = action_filttune_full_1000[:,0:1068]\n",
    "action_filttune_1100 = action_filttune_full_1100[:,0:2910]\n",
    "action_filttune_1200 = action_filttune_full_1200[:,0:3878]\n",
    "action_filttune_1300 = action_filttune_full_1300[:,0:4802]"
   ]
  },
  {
   "cell_type": "markdown",
   "id": "9ae78926",
   "metadata": {},
   "source": [
    "### load screw positions"
   ]
  },
  {
   "cell_type": "code",
   "execution_count": 4,
   "id": "0953fc22",
   "metadata": {},
   "outputs": [],
   "source": [
    "screw_pos_600  = np.loadtxt('data/screw_position_CST_matrix_random_600.csv',delimiter=',')\n",
    "screw_pos_1200 = np.loadtxt('data/screw_position_CST_matrix_random_1200.csv',delimiter=',')\n",
    "screw_pos_1300 = np.loadtxt('data/screw_position_CST_matrix_random_1300.csv',delimiter=',')"
   ]
  },
  {
   "cell_type": "code",
   "execution_count": 5,
   "id": "09878324",
   "metadata": {},
   "outputs": [
    {
     "data": {
      "text/plain": [
       "(19, 4802)"
      ]
     },
     "execution_count": 5,
     "metadata": {},
     "output_type": "execute_result"
    }
   ],
   "source": [
    "screw_pos_1300.shape"
   ]
  },
  {
   "cell_type": "markdown",
   "id": "1ed57775",
   "metadata": {},
   "source": [
    "### load the RMSE data"
   ]
  },
  {
   "cell_type": "code",
   "execution_count": 6,
   "id": "5ef2c577",
   "metadata": {},
   "outputs": [],
   "source": [
    "#load the RMSE data.\n",
    "#1st row: rmse; 2nd row: mrse\n",
    "RMS_400  = np.loadtxt('data/RMS_seed400.csv',delimiter=',')\n",
    "RMS_500  = np.loadtxt('data/RMS_seed500.csv',delimiter=',')\n",
    "RMS_600  = np.loadtxt('data/RMS_seed600.csv',delimiter=',')\n",
    "RMS_700  = np.loadtxt('data/RMS_seed700.csv',delimiter=',')\n",
    "RMS_800  = np.loadtxt('data/RMS_seed800.csv',delimiter=',')\n",
    "RMS_900  = np.loadtxt('data/RMS_seed900.csv',delimiter=',')\n",
    "RMS_1000 = np.loadtxt('data/RMS_seed1000.csv',delimiter=',')\n",
    "RMS_1100 = np.loadtxt('data/RMS_seed1100.csv',delimiter=',')\n",
    "RMS_1200 = np.loadtxt('data/RMS_seed1200.csv',delimiter=',')\n",
    "RMS_1300 = np.loadtxt('data/RMS_seed1300.csv',delimiter=',')"
   ]
  },
  {
   "cell_type": "code",
   "execution_count": 7,
   "id": "4015143e",
   "metadata": {},
   "outputs": [
    {
     "name": "stderr",
     "output_type": "stream",
     "text": [
      "2022-02-02 08:43:56.875850: I tensorflow/stream_executor/platform/default/dso_loader.cc:48] Successfully opened dynamic library libcudart.so.11.0\n",
      "2022-02-02 08:43:57.545076: I tensorflow/stream_executor/platform/default/dso_loader.cc:48] Successfully opened dynamic library libnvinfer.so.7\n",
      "2022-02-02 08:43:57.546105: I tensorflow/stream_executor/platform/default/dso_loader.cc:48] Successfully opened dynamic library libnvinfer_plugin.so.7\n"
     ]
    }
   ],
   "source": [
    "from tensorflow.keras.models import Sequential,load_model, clone_model\n",
    "from tensorflow.keras.layers import Dense\n",
    "from tensorflow.keras.layers import BatchNormalization, Dropout\n",
    "import numpy as np\n",
    "from tensorflow.keras.optimizers import Adam\n",
    "from tensorflow.keras.callbacks import ModelCheckpoint, ReduceLROnPlateau, TensorBoard\n",
    "from tensorflow.keras import regularizers\n",
    "from tensorflow.keras.regularizers import l2, l1, l1_l2\n",
    "from tensorflow.keras.losses import MeanAbsolutePercentageError\n",
    "import tensorflow as tf\n",
    "\n",
    "from livelossplot import PlotLossesKeras\n",
    "\n",
    "from tensorflow.keras.models import Sequential,load_model, clone_model\n",
    "from tensorflow.keras.layers import Dense\n",
    "from tensorflow.keras.layers import BatchNormalization, Dropout\n",
    "import numpy as np\n",
    "from tensorflow.keras.optimizers import Adam\n",
    "from tensorflow.keras.callbacks import ModelCheckpoint, ReduceLROnPlateau, TensorBoard\n",
    "from tensorflow.keras import regularizers\n",
    "from tensorflow.keras.regularizers import l2, l1, l1_l2\n",
    "\n",
    "from livelossplot import PlotLossesKeras"
   ]
  },
  {
   "cell_type": "markdown",
   "id": "9e75d6c3",
   "metadata": {},
   "source": [
    "## Complete_small dataset"
   ]
  },
  {
   "cell_type": "markdown",
   "id": "d3cdcf8c",
   "metadata": {},
   "source": [
    "### Select the data with RMSE<0.09"
   ]
  },
  {
   "cell_type": "code",
   "execution_count": 8,
   "id": "59fa59d7",
   "metadata": {},
   "outputs": [],
   "source": [
    "index_400 = range(action_CST_400.shape[1])\n",
    "temp_400 = RMS_400[0,:]>0.04\n",
    "to_delete_400 = index_400*temp_400\n",
    "to_delete_400 = [i for i in to_delete_400 if i != 0]\n",
    "\n",
    "index_500 = range(action_CST_500.shape[1])\n",
    "temp_500 = RMS_500[0,:]>0.09\n",
    "to_delete_500 = index_500*temp_500\n",
    "to_delete_500 = [i for i in to_delete_500 if i != 0]\n",
    "\n",
    "index_600 = range(action_CST_600.shape[1])\n",
    "temp_600 = RMS_600[0,:]>0.09\n",
    "to_delete_600 = index_600*temp_600\n",
    "to_delete_600 = [i for i in to_delete_600 if i != 0]\n",
    "\n",
    "index_700 = range(action_CST_700.shape[1])\n",
    "temp_700 = RMS_700[0,:]>0.09\n",
    "to_delete_700 = index_700*temp_700\n",
    "to_delete_700 = [i for i in to_delete_700 if i != 0]\n",
    "\n",
    "index_800 = range(action_CST_800.shape[1])\n",
    "temp_800 = RMS_800[0,:]>0.09\n",
    "to_delete_800 = index_800*temp_800\n",
    "to_delete_800 = [i for i in to_delete_800 if i != 0]\n",
    "\n",
    "index_900 = range(action_CST_900.shape[1])\n",
    "temp_900 = RMS_900[0,:]>0.09\n",
    "to_delete_900 = index_900*temp_900\n",
    "to_delete_900 = [i for i in to_delete_900 if i != 0]\n",
    "\n",
    "index_1000 = range(action_CST_1000.shape[1])\n",
    "temp_1000 = RMS_1000[0,:]>0.09\n",
    "to_delete_1000 = index_1000*temp_1000\n",
    "to_delete_1000 = [i for i in to_delete_1000 if i != 0]\n",
    "\n",
    "index_1100 = range(action_CST_1100.shape[1])\n",
    "temp_1100 = RMS_1100[0,:]>0.09\n",
    "to_delete_1100 = index_1100*temp_1100\n",
    "to_delete_1100 = [i for i in to_delete_1100 if i != 0]\n",
    "\n",
    "index_1200 = range(action_CST_1200.shape[1])\n",
    "temp_1200 = RMS_1200[0,:]>0.09\n",
    "to_delete_1200 = index_1200*temp_1200\n",
    "to_delete_1200 = [i for i in to_delete_1200 if i != 0]\n",
    "\n",
    "index_1300 = range(action_CST_1300.shape[1])\n",
    "temp_1300 = RMS_1300[0,:]>0.09\n",
    "to_delete_1300 = index_1300*temp_1300\n",
    "to_delete_1300 = [i for i in to_delete_1300 if i != 0]"
   ]
  },
  {
   "cell_type": "code",
   "execution_count": 9,
   "id": "0aa7cee9",
   "metadata": {},
   "outputs": [],
   "source": [
    "action_CST_400_small  = np.delete(action_CST_400, to_delete_400,  axis=1)\n",
    "action_CST_500_small  = np.delete(action_CST_500, to_delete_500,  axis=1)\n",
    "action_CST_600_small  = np.delete(action_CST_600, to_delete_600,  axis=1)\n",
    "action_CST_700_small  = np.delete(action_CST_700, to_delete_700,  axis=1)\n",
    "action_CST_800_small  = np.delete(action_CST_800, to_delete_800,  axis=1)\n",
    "action_CST_900_small  = np.delete(action_CST_900, to_delete_900,  axis=1)\n",
    "action_CST_1000_small = np.delete(action_CST_1000, to_delete_1000,  axis=1)\n",
    "action_CST_1100_small = np.delete(action_CST_1100, to_delete_1100,  axis=1)\n",
    "action_CST_1200_small = np.delete(action_CST_1200, to_delete_1200,  axis=1)\n",
    "action_CST_1300_small = np.delete(action_CST_1300, to_delete_1300,  axis=1)\n",
    "\n",
    "action_filttune_400_small   = np.delete(action_filttune_400, to_delete_400,  axis=1)\n",
    "action_filttune_500_small   = np.delete(action_filttune_500, to_delete_500,  axis=1)\n",
    "action_filttune_600_small   = np.delete(action_filttune_600, to_delete_600,  axis=1)\n",
    "action_filttune_700_small   = np.delete(action_filttune_700, to_delete_700,  axis=1)\n",
    "action_filttune_800_small   = np.delete(action_filttune_800, to_delete_800,  axis=1)\n",
    "action_filttune_900_small   = np.delete(action_filttune_900, to_delete_900,  axis=1)\n",
    "action_filttune_1000_small  = np.delete(action_filttune_1000, to_delete_1000,  axis=1)\n",
    "action_filttune_1100_small  = np.delete(action_filttune_1100, to_delete_1100,  axis=1)\n",
    "action_filttune_1200_small  = np.delete(action_filttune_1200, to_delete_1200,  axis=1)\n",
    "action_filttune_1300_small  = np.delete(action_filttune_1300, to_delete_1300,  axis=1)"
   ]
  },
  {
   "cell_type": "code",
   "execution_count": 10,
   "id": "85f646bb",
   "metadata": {},
   "outputs": [],
   "source": [
    "screw_pos_600_small  = np.delete(screw_pos_600, to_delete_600,  axis=1)\n",
    "screw_pos_1200_small = np.delete(screw_pos_1200, to_delete_1200,  axis=1)\n",
    "screw_pos_1300_small = np.delete(screw_pos_1300, to_delete_1300,  axis=1)"
   ]
  },
  {
   "cell_type": "markdown",
   "id": "edd2e49f",
   "metadata": {},
   "source": [
    "## Small tol data 600, 1200, 1300"
   ]
  },
  {
   "cell_type": "code",
   "execution_count": 11,
   "id": "5ec8211e",
   "metadata": {},
   "outputs": [],
   "source": [
    "a_CST_small_ST13 = np.concatenate((action_CST_600_small,action_CST_1200_small,action_CST_1300_small),axis = 1)\n",
    "a_filttune_small_ST13 = np.concatenate((action_filttune_600_small,action_filttune_1200_small,action_filttune_1300_small),axis = 1)"
   ]
  },
  {
   "cell_type": "code",
   "execution_count": 12,
   "id": "12811232",
   "metadata": {},
   "outputs": [
    {
     "data": {
      "text/plain": [
       "(19, 11767)"
      ]
     },
     "execution_count": 12,
     "metadata": {},
     "output_type": "execute_result"
    }
   ],
   "source": [
    "a_CST_small_ST13.shape"
   ]
  },
  {
   "cell_type": "code",
   "execution_count": 13,
   "id": "a4e99434",
   "metadata": {},
   "outputs": [],
   "source": [
    "X_train_small_ST13, X_test_small_ST13, y_train_small_ST13, y_test_small_ST13 = train_test_split( \n",
    "     a_filttune_small_ST13.transpose(),a_CST_small_ST13.transpose(), random_state=1,train_size = 0.8)"
   ]
  },
  {
   "cell_type": "markdown",
   "id": "bc32e1b7",
   "metadata": {},
   "source": [
    "## Load the model"
   ]
  },
  {
   "cell_type": "code",
   "execution_count": 14,
   "id": "e56715d0",
   "metadata": {},
   "outputs": [
    {
     "name": "stderr",
     "output_type": "stream",
     "text": [
      "2022-02-02 08:44:15.252987: I tensorflow/stream_executor/platform/default/dso_loader.cc:48] Successfully opened dynamic library libcuda.so.1\n",
      "2022-02-02 08:44:15.906054: I tensorflow/stream_executor/cuda/cuda_gpu_executor.cc:981] successful NUMA node read from SysFS had negative value (-1), but there must be at least one NUMA node, so returning NUMA node zero\n",
      "2022-02-02 08:44:15.906846: I tensorflow/core/common_runtime/gpu/gpu_device.cc:1555] Found device 0 with properties: \n",
      "pciBusID: 0000:00:04.0 name: Tesla T4 computeCapability: 7.5\n",
      "coreClock: 1.59GHz coreCount: 40 deviceMemorySize: 14.75GiB deviceMemoryBandwidth: 298.08GiB/s\n",
      "2022-02-02 08:44:15.906937: I tensorflow/stream_executor/platform/default/dso_loader.cc:48] Successfully opened dynamic library libcudart.so.11.0\n",
      "2022-02-02 08:44:15.906999: I tensorflow/stream_executor/platform/default/dso_loader.cc:48] Successfully opened dynamic library libcublas.so.11\n",
      "2022-02-02 08:44:15.927338: I tensorflow/stream_executor/platform/default/dso_loader.cc:48] Successfully opened dynamic library libcufft.so.10\n",
      "2022-02-02 08:44:15.936860: I tensorflow/stream_executor/platform/default/dso_loader.cc:48] Successfully opened dynamic library libcurand.so.10\n",
      "2022-02-02 08:44:15.962239: I tensorflow/stream_executor/platform/default/dso_loader.cc:48] Successfully opened dynamic library libcusolver.so.10\n",
      "2022-02-02 08:44:15.968513: I tensorflow/stream_executor/platform/default/dso_loader.cc:48] Successfully opened dynamic library libcusparse.so.11\n",
      "2022-02-02 08:44:15.968597: I tensorflow/stream_executor/platform/default/dso_loader.cc:48] Successfully opened dynamic library libcudnn.so.8\n",
      "2022-02-02 08:44:15.968723: I tensorflow/stream_executor/cuda/cuda_gpu_executor.cc:981] successful NUMA node read from SysFS had negative value (-1), but there must be at least one NUMA node, so returning NUMA node zero\n",
      "2022-02-02 08:44:15.969488: I tensorflow/stream_executor/cuda/cuda_gpu_executor.cc:981] successful NUMA node read from SysFS had negative value (-1), but there must be at least one NUMA node, so returning NUMA node zero\n",
      "2022-02-02 08:44:15.970028: I tensorflow/core/common_runtime/gpu/gpu_device.cc:1697] Adding visible gpu devices: 0\n",
      "2022-02-02 08:44:15.990418: I tensorflow/core/platform/profile_utils/cpu_utils.cc:94] CPU Frequency: 2299995000 Hz\n",
      "2022-02-02 08:44:15.990706: I tensorflow/compiler/xla/service/service.cc:168] XLA service 0x55d347a6f650 initialized for platform Host (this does not guarantee that XLA will be used). Devices:\n",
      "2022-02-02 08:44:15.990727: I tensorflow/compiler/xla/service/service.cc:176]   StreamExecutor device (0): Host, Default Version\n",
      "2022-02-02 08:44:16.269470: I tensorflow/stream_executor/cuda/cuda_gpu_executor.cc:981] successful NUMA node read from SysFS had negative value (-1), but there must be at least one NUMA node, so returning NUMA node zero\n",
      "2022-02-02 08:44:16.270312: I tensorflow/compiler/xla/service/service.cc:168] XLA service 0x55d345131840 initialized for platform CUDA (this does not guarantee that XLA will be used). Devices:\n",
      "2022-02-02 08:44:16.270343: I tensorflow/compiler/xla/service/service.cc:176]   StreamExecutor device (0): Tesla T4, Compute Capability 7.5\n",
      "2022-02-02 08:44:16.271157: I tensorflow/stream_executor/cuda/cuda_gpu_executor.cc:981] successful NUMA node read from SysFS had negative value (-1), but there must be at least one NUMA node, so returning NUMA node zero\n",
      "2022-02-02 08:44:16.271727: I tensorflow/core/common_runtime/gpu/gpu_device.cc:1555] Found device 0 with properties: \n",
      "pciBusID: 0000:00:04.0 name: Tesla T4 computeCapability: 7.5\n",
      "coreClock: 1.59GHz coreCount: 40 deviceMemorySize: 14.75GiB deviceMemoryBandwidth: 298.08GiB/s\n",
      "2022-02-02 08:44:16.271805: I tensorflow/stream_executor/platform/default/dso_loader.cc:48] Successfully opened dynamic library libcudart.so.11.0\n",
      "2022-02-02 08:44:16.271829: I tensorflow/stream_executor/platform/default/dso_loader.cc:48] Successfully opened dynamic library libcublas.so.11\n",
      "2022-02-02 08:44:16.271852: I tensorflow/stream_executor/platform/default/dso_loader.cc:48] Successfully opened dynamic library libcufft.so.10\n",
      "2022-02-02 08:44:16.271870: I tensorflow/stream_executor/platform/default/dso_loader.cc:48] Successfully opened dynamic library libcurand.so.10\n",
      "2022-02-02 08:44:16.271889: I tensorflow/stream_executor/platform/default/dso_loader.cc:48] Successfully opened dynamic library libcusolver.so.10\n",
      "2022-02-02 08:44:16.271907: I tensorflow/stream_executor/platform/default/dso_loader.cc:48] Successfully opened dynamic library libcusparse.so.11\n",
      "2022-02-02 08:44:16.271923: I tensorflow/stream_executor/platform/default/dso_loader.cc:48] Successfully opened dynamic library libcudnn.so.8\n",
      "2022-02-02 08:44:16.271985: I tensorflow/stream_executor/cuda/cuda_gpu_executor.cc:981] successful NUMA node read from SysFS had negative value (-1), but there must be at least one NUMA node, so returning NUMA node zero\n",
      "2022-02-02 08:44:16.272615: I tensorflow/stream_executor/cuda/cuda_gpu_executor.cc:981] successful NUMA node read from SysFS had negative value (-1), but there must be at least one NUMA node, so returning NUMA node zero\n",
      "2022-02-02 08:44:16.273153: I tensorflow/core/common_runtime/gpu/gpu_device.cc:1697] Adding visible gpu devices: 0\n",
      "2022-02-02 08:44:16.274331: I tensorflow/stream_executor/platform/default/dso_loader.cc:48] Successfully opened dynamic library libcudart.so.11.0\n",
      "2022-02-02 08:44:19.682849: I tensorflow/core/common_runtime/gpu/gpu_device.cc:1096] Device interconnect StreamExecutor with strength 1 edge matrix:\n",
      "2022-02-02 08:44:19.682889: I tensorflow/core/common_runtime/gpu/gpu_device.cc:1102]      0 \n",
      "2022-02-02 08:44:19.682897: I tensorflow/core/common_runtime/gpu/gpu_device.cc:1115] 0:   N \n",
      "2022-02-02 08:44:19.684210: I tensorflow/stream_executor/cuda/cuda_gpu_executor.cc:981] successful NUMA node read from SysFS had negative value (-1), but there must be at least one NUMA node, so returning NUMA node zero\n",
      "2022-02-02 08:44:19.684882: I tensorflow/stream_executor/cuda/cuda_gpu_executor.cc:981] successful NUMA node read from SysFS had negative value (-1), but there must be at least one NUMA node, so returning NUMA node zero\n",
      "2022-02-02 08:44:19.685423: I tensorflow/core/common_runtime/gpu/gpu_device.cc:1241] Created TensorFlow device (/job:localhost/replica:0/task:0/device:GPU:0 with 14154 MB memory) -> physical GPU (device: 0, name: Tesla T4, pci bus id: 0000:00:04.0, compute capability: 7.5)\n"
     ]
    }
   ],
   "source": [
    "model_small_ST13_0 = load_model('model/model_comp_small_ST13_0.h5')"
   ]
  },
  {
   "cell_type": "code",
   "execution_count": 25,
   "id": "2f5d5a6c",
   "metadata": {},
   "outputs": [
    {
     "name": "stderr",
     "output_type": "stream",
     "text": [
      "2022-02-02 08:49:47.410834: I tensorflow/stream_executor/platform/default/dso_loader.cc:48] Successfully opened dynamic library libcublas.so.11\n"
     ]
    },
    {
     "data": {
      "text/plain": [
       "array([[ 0.19007073, -0.0297387 , -0.04670365, -0.12381869,  0.16737247,\n",
       "        -0.13502488,  0.23246627, -0.00840205, -2.9792135 ,  0.79040307,\n",
       "         1.4438162 , -1.8481365 , -1.0588993 ,  0.21899073, -1.9789106 ,\n",
       "         0.78799677, -0.44349667,  0.55983305,  0.61877334]],\n",
       "      dtype=float32)"
      ]
     },
     "execution_count": 25,
     "metadata": {},
     "output_type": "execute_result"
    }
   ],
   "source": [
    "#X_train_small_ST13.shape\n",
    "model_small_ST13_0.predict(X_train_small_ST13[0,:].reshape(1,19))"
   ]
  },
  {
   "cell_type": "code",
   "execution_count": 24,
   "id": "c0c969e9",
   "metadata": {},
   "outputs": [
    {
     "data": {
      "text/plain": [
       "array([[ 62.1920771 , -10.29474562, -14.40919355, -36.53025982,\n",
       "         23.001731  , -40.31690481,  34.2544795 , -25.15403911,\n",
       "         37.40503833, -14.14665732,  -8.80901397,  28.83117668,\n",
       "          3.69178567, -12.29770168,  62.53575754,  -1.06929525,\n",
       "          8.00910815,  -5.20504093,  -2.81296213]])"
      ]
     },
     "execution_count": 24,
     "metadata": {},
     "output_type": "execute_result"
    }
   ],
   "source": [
    "X_train_small_ST13[0,:].reshape(1,19)"
   ]
  },
  {
   "cell_type": "code",
   "execution_count": 14,
   "id": "625b55d2",
   "metadata": {},
   "outputs": [
    {
     "name": "stderr",
     "output_type": "stream",
     "text": [
      "2022-01-26 14:24:11.210458: I tensorflow/stream_executor/platform/default/dso_loader.cc:48] Successfully opened dynamic library libcublas.so.11\n"
     ]
    }
   ],
   "source": [
    "y_train_predict_small_ST13 = model_small_ST13_0.predict(X_train_small_ST13)\n",
    "y_test_predict_small_ST13 = model_small_ST13_0.predict(X_test_small_ST13)"
   ]
  },
  {
   "cell_type": "code",
   "execution_count": 15,
   "id": "fef636e2",
   "metadata": {},
   "outputs": [
    {
     "name": "stdout",
     "output_type": "stream",
     "text": [
      "The model performance for testing set\n",
      "--------------------------------------\n",
      "MSE train is 0.004427111576401967\n",
      "MSE test is 0.01457841642056847\n",
      "R2 train is 0.9832619914054623\n",
      "R2 test is 0.9622657328997697\n"
     ]
    }
   ],
   "source": [
    "mse_train_small_ST13 = metrics.mean_squared_error(y_train_small_ST13, y_train_predict_small_ST13)\n",
    "mse_test_small_ST13 = metrics.mean_squared_error(y_test_small_ST13, y_test_predict_small_ST13)\n",
    "\n",
    "r2_train_small_ST13 = r2_score(y_train_small_ST13, y_train_predict_small_ST13)\n",
    "r2_test_small_ST13 = r2_score(y_test_small_ST13, y_test_predict_small_ST13)\n",
    "\n",
    "print(\"The model performance for testing set\")\n",
    "print(\"--------------------------------------\")\n",
    "print('MSE train is {}'.format(mse_train_small_ST13))\n",
    "print('MSE test is {}'.format(mse_test_small_ST13))\n",
    "print('R2 train is {}'.format(r2_train_small_ST13))\n",
    "print('R2 test is {}'.format(r2_test_small_ST13))"
   ]
  },
  {
   "cell_type": "markdown",
   "id": "f62df942",
   "metadata": {},
   "source": [
    "# The order of C-type screw in regression model and data is [c14 c58 c24 c57], but when implement it in CST, the order is [c14 c24 c57 c58]\n",
    "## prepare test on CST\n",
    "##### screw_pos_1300 - y_test_small_ST13 = golden_CST\n",
    "##### check if screw_pos_1300 - y_test_predict_small_ST13 is close to golden_CST"
   ]
  },
  {
   "cell_type": "code",
   "execution_count": 16,
   "id": "aa6e1a6d",
   "metadata": {},
   "outputs": [],
   "source": [
    "golden_CST = np.array([0.627372, 0.849978, 0.950813, 0.875983, 0.866188, 1.03133, 0.671715, 0.085633, 1.69804,\n",
    "                       0.508077, 0.803913, 1.08792, -0.844056, -0.484051, 1.71896, 0, 0, 0, 0]);"
   ]
  },
  {
   "cell_type": "code",
   "execution_count": 17,
   "id": "34705d63",
   "metadata": {},
   "outputs": [
    {
     "data": {
      "text/plain": [
       "array([ 0.627372,  0.849978,  0.950813,  0.875983,  0.866188,  1.03133 ,\n",
       "        0.671715,  0.085633,  1.69804 ,  0.508077,  0.803913,  1.08792 ,\n",
       "       -0.844056, -0.484051,  1.71896 ,  0.      ,  0.      ,  0.      ,\n",
       "        0.      ])"
      ]
     },
     "execution_count": 17,
     "metadata": {},
     "output_type": "execute_result"
    }
   ],
   "source": [
    "golden_CST"
   ]
  },
  {
   "cell_type": "code",
   "execution_count": 18,
   "id": "805a0aca",
   "metadata": {},
   "outputs": [],
   "source": [
    "ind = 1;\n",
    "ind_corresp = 354;"
   ]
  },
  {
   "cell_type": "code",
   "execution_count": 19,
   "id": "012a7044",
   "metadata": {},
   "outputs": [
    {
     "data": {
      "text/plain": [
       "array([ 0.03993473, -0.00377502,  0.08463335,  0.1526819 , -0.10614267,\n",
       "       -0.13636698,  0.17502374,  0.24649303, -2.50765423,  0.75339692,\n",
       "        1.63199529, -0.07519394, -2.03732031, -1.46412542,  0.22647627,\n",
       "       -0.08740146, -0.58218208, -0.6883281 , -0.8864348 ])"
      ]
     },
     "execution_count": 19,
     "metadata": {},
     "output_type": "execute_result"
    }
   ],
   "source": [
    "y_test_small_ST13[ind,:]"
   ]
  },
  {
   "cell_type": "code",
   "execution_count": 119,
   "id": "db86c24f",
   "metadata": {},
   "outputs": [
    {
     "data": {
      "text/plain": [
       "array([ 0.03993473, -0.00377502,  0.08463335,  0.1526819 , -0.10614267,\n",
       "       -0.13636698,  0.17502374,  0.24649303, -2.50765423,  0.75339692,\n",
       "        1.63199529, -0.07519394, -2.03732031, -1.46412542,  0.22647627,\n",
       "       -0.08740146, -0.58218208, -0.6883281 , -0.8864348 ])"
      ]
     },
     "execution_count": 119,
     "metadata": {},
     "output_type": "execute_result"
    }
   ],
   "source": [
    "screw_pos_1300[:,ind_corresp]-golden_CST"
   ]
  },
  {
   "cell_type": "code",
   "execution_count": 120,
   "id": "6082f07e",
   "metadata": {},
   "outputs": [
    {
     "data": {
      "text/plain": [
       "array([ 0.,  0.,  0., -0.,  0.,  0.,  0., -0.,  0., -0., -0.,  0., -0.,\n",
       "        0., -0.,  0.,  0.,  0.,  0.])"
      ]
     },
     "execution_count": 120,
     "metadata": {},
     "output_type": "execute_result"
    }
   ],
   "source": [
    "# To see if screw_pos + true action = golden\n",
    "screw_pos_1300[:,ind_corresp] - y_test_small_ST13[ind,:] - golden_CST"
   ]
  },
  {
   "cell_type": "code",
   "execution_count": 121,
   "id": "983da10f",
   "metadata": {},
   "outputs": [
    {
     "data": {
      "text/plain": [
       "array([ 0.62777688,  0.83638611,  0.94207557,  0.90080561,  0.87112645,\n",
       "        0.9972801 ,  0.6569152 ,  0.13479114,  1.68552799,  0.55764273,\n",
       "        0.78713653,  1.06944071, -0.76545862, -0.45124785,  1.78467314,\n",
       "       -0.04438381,  0.03984514,  0.02737211, -0.02410752])"
      ]
     },
     "execution_count": 121,
     "metadata": {},
     "output_type": "execute_result"
    }
   ],
   "source": [
    "# Predicted tuned_pos\n",
    "np.set_printoptions(suppress=True)\n",
    "screw_pos_1300[:,ind_corresp] - y_test_predict_small_ST13[ind,:]"
   ]
  },
  {
   "cell_type": "code",
   "execution_count": 123,
   "id": "721763e4",
   "metadata": {},
   "outputs": [
    {
     "data": {
      "text/plain": [
       "array([ 0.00040488, -0.01359189, -0.00873743,  0.02482261,  0.00493845,\n",
       "       -0.0340499 , -0.0147998 ,  0.04915814, -0.01251201,  0.04956573,\n",
       "       -0.01677647, -0.01847929,  0.07859738,  0.03280315,  0.06571314,\n",
       "       -0.04438381,  0.03984514,  0.02737211, -0.02410752])"
      ]
     },
     "execution_count": 123,
     "metadata": {},
     "output_type": "execute_result"
    }
   ],
   "source": [
    "# the difference between predicted pos and golden pos\n",
    "np.set_printoptions(suppress=True)\n",
    "screw_pos_1300[:,ind_corresp] - y_test_predict_small_ST13[ind,:] - golden_CST"
   ]
  },
  {
   "cell_type": "markdown",
   "id": "8c77130e",
   "metadata": {},
   "source": [
    "### find the index of the samples"
   ]
  },
  {
   "cell_type": "code",
   "execution_count": 65,
   "id": "022234e9",
   "metadata": {},
   "outputs": [
    {
     "data": {
      "text/plain": [
       "1"
      ]
     },
     "execution_count": 65,
     "metadata": {},
     "output_type": "execute_result"
    }
   ],
   "source": [
    "tmp = action_filttune_1200.transpose()[:,0] == X_test_small_ST13[ind,0]\n",
    "sum(tmp)"
   ]
  },
  {
   "cell_type": "code",
   "execution_count": 66,
   "id": "e647379c",
   "metadata": {},
   "outputs": [
    {
     "name": "stdout",
     "output_type": "stream",
     "text": [
      "1629\n"
     ]
    }
   ],
   "source": [
    "# find the specific action index in data\n",
    "tmp = action_filttune_1200.transpose()[:,0] == X_test_small_ST13[ind,0]\n",
    "index = 0\n",
    "for i in tmp:\n",
    "    if i == False:\n",
    "        index += 1\n",
    "        continue\n",
    "    else:\n",
    "        print(index)"
   ]
  },
  {
   "cell_type": "markdown",
   "id": "bd418cc4",
   "metadata": {},
   "source": [
    "0  seed1300, 4407\n",
    "1      1300,  354\n",
    "2      1300,   2367\n",
    "3      600,  3030\n",
    "4      1200,  1972\n",
    "5      1200, 1629"
   ]
  },
  {
   "cell_type": "code",
   "execution_count": 249,
   "id": "699bdbce",
   "metadata": {},
   "outputs": [
    {
     "data": {
      "text/plain": [
       "-2219.76"
      ]
     },
     "execution_count": 249,
     "metadata": {},
     "output_type": "execute_result"
    }
   ],
   "source": [
    " - 1479.76 - 740"
   ]
  },
  {
   "cell_type": "code",
   "execution_count": null,
   "id": "6be67820",
   "metadata": {},
   "outputs": [],
   "source": [
    "# the predicted tuned filter\n",
    "\n",
    "[ 0.60319551,  0.85670162,  0.95154853,  0.88269402,  0.86424006,\n",
    "        1.04898076,  0.67292837,  0.087896  ,  1.52545837,  0.55680651,\n",
    "        0.80771379,  1.02972063, -0.85833905, -0.52554665,  1.71641269,\n",
    "        0.00707366, -0.023854  , -0.09192209, -0.04326849]\n",
    "\n",
    "[ 0.62777688,  0.83638611,  0.94207557,  0.90080561,  0.87112645,\n",
    "        0.9972801 ,  0.6569152 ,  0.13479114,  1.68552799,  0.55764273,\n",
    "        0.78713653,  1.06944071, -0.76545862, -0.45124785,  1.78467314,\n",
    "       -0.04438381,  0.03984514,  0.02737211, -0.02410752]\n",
    "\n",
    "[ 0.60196096,  0.85464159,  0.96300044,  0.85892145,  0.86303518,\n",
    "        1.05845897,  0.65048468,  0.09389948,  1.62563769,  0.44471845,\n",
    "        0.89098338,  1.00822993, -0.96391318, -0.43208909,  1.78974086,\n",
    "        0.00127969, -0.10049141,  0.07141173, -0.12979596]\n",
    "\n",
    "[ 0.60972266,  0.93551155,  0.96907989,  0.88097057,  0.86936422,\n",
    "        1.11777998,  0.67621476,  0.07679443,  1.63857747,  0.48581496,\n",
    "        0.89420527,  1.01222521, -0.78181436, -0.40707423,  1.662051  ,\n",
    "        0.01433212,  0.16742863,  0.02175434, -0.18035759]\n",
    "\n",
    "[ 0.62059676,  0.88384136,  0.93728196,  0.86372505,  0.8892517 ,\n",
    "        1.0132939 ,  0.66340899,  0.05368954,  1.65424001,  0.40125662,\n",
    "        0.71989726,  1.01632325, -0.9081898 , -0.30834051,  1.63922168,\n",
    "        0.29146124, -0.22293418,  0.11110411, -0.13208529]\n",
    "\n",
    "[ 0.66890592,  0.84527729,  0.97177966,  0.84784582,  0.88300861,\n",
    "        1.01745893,  0.64501173,  0.10810368,  1.64252493,  0.42627394,\n",
    "        0.74721329,  1.02668771, -0.8480979 , -0.41713759,  2.02368583,\n",
    "        0.00097173, -0.06679875, -0.23305001,  0.48973201]"
   ]
  },
  {
   "cell_type": "markdown",
   "id": "289e2451",
   "metadata": {},
   "source": [
    "#### test the data format"
   ]
  },
  {
   "cell_type": "code",
   "execution_count": 106,
   "id": "645807f1",
   "metadata": {},
   "outputs": [],
   "source": [
    "temp = np.array([0.60319551,  0.85670162,  0.95154853,  0.88269402,  0.86424006,\n",
    "        1.04898076,  0.67292837,  0.087896  ,  1.52545837,  0.55680651,\n",
    "        0.80771379,  1.02972063, -0.85833905, -0.52554665,  1.71641269,\n",
    "        0.00707366, -0.023854  , -0.09192209, -0.04326849])"
   ]
  },
  {
   "cell_type": "code",
   "execution_count": 107,
   "id": "8fcca499",
   "metadata": {},
   "outputs": [
    {
     "data": {
      "text/plain": [
       "array([0.60319551, 0.85670162, 0.95154853, 0.88269402, 0.86424006,\n",
       "       1.04898076, 0.67292837, 0.087896  ])"
      ]
     },
     "execution_count": 107,
     "metadata": {},
     "output_type": "execute_result"
    }
   ],
   "source": [
    "temp[0:8]"
   ]
  },
  {
   "cell_type": "code",
   "execution_count": 108,
   "id": "d812a1bc",
   "metadata": {},
   "outputs": [
    {
     "data": {
      "text/plain": [
       "array([ 1.52545837,  0.55680651,  0.80771379,  1.02972063, -0.85833905,\n",
       "       -0.52554665,  1.71641269])"
      ]
     },
     "execution_count": 108,
     "metadata": {},
     "output_type": "execute_result"
    }
   ],
   "source": [
    "temp[8:15]"
   ]
  },
  {
   "cell_type": "code",
   "execution_count": 114,
   "id": "9ed13ef5",
   "metadata": {},
   "outputs": [
    {
     "data": {
      "text/plain": [
       "array([ 0.00707366, -0.09192209, -0.04326849, -0.023854  ])"
      ]
     },
     "execution_count": 114,
     "metadata": {},
     "output_type": "execute_result"
    }
   ],
   "source": [
    "np.matmul(temp[15:19], np.array([[1, 0, 0, 0],[0, 0, 0, 1],[0, 1, 0, 0],[0, 0, 1, 0]]))"
   ]
  },
  {
   "cell_type": "code",
   "execution_count": 115,
   "id": "a5ce46b5",
   "metadata": {},
   "outputs": [
    {
     "data": {
      "text/plain": [
       "array([ 0.00707366, -0.023854  , -0.09192209, -0.04326849])"
      ]
     },
     "execution_count": 115,
     "metadata": {},
     "output_type": "execute_result"
    }
   ],
   "source": [
    "temp[15:19]"
   ]
  }
 ],
 "metadata": {
  "environment": {
   "name": "tf2-gpu.2-1.m78",
   "type": "gcloud",
   "uri": "gcr.io/deeplearning-platform-release/tf2-gpu.2-1:m78"
  },
  "kernelspec": {
   "display_name": "Python 3",
   "language": "python",
   "name": "python3"
  },
  "language_info": {
   "codemirror_mode": {
    "name": "ipython",
    "version": 3
   },
   "file_extension": ".py",
   "mimetype": "text/x-python",
   "name": "python",
   "nbconvert_exporter": "python",
   "pygments_lexer": "ipython3",
   "version": "3.7.10"
  }
 },
 "nbformat": 4,
 "nbformat_minor": 5
}
